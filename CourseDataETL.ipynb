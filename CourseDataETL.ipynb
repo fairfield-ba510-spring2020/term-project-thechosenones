{
 "cells": [
  {
   "cell_type": "code",
   "execution_count": 1,
   "metadata": {},
   "outputs": [],
   "source": [
    "%load_ext sql\n",
    "import pandas as pd\n",
    "import sqlite3"
   ]
  },
  {
   "cell_type": "code",
   "execution_count": 2,
   "metadata": {},
   "outputs": [
    {
     "data": {
      "text/plain": [
       "'Connected: @CourseData.db'"
      ]
     },
     "execution_count": 2,
     "metadata": {},
     "output_type": "execute_result"
    }
   ],
   "source": [
    "%sql sqlite:///CourseData.db"
   ]
  },
  {
   "cell_type": "code",
   "execution_count": 3,
   "metadata": {},
   "outputs": [
    {
     "name": "stdout",
     "output_type": "stream",
     "text": [
      " * sqlite:///CourseData.db\n",
      "Done.\n",
      "Done.\n",
      "Done.\n",
      "Done.\n",
      "Done.\n",
      "Done.\n",
      "Done.\n",
      "Done.\n",
      "Done.\n",
      "Done.\n",
      "Done.\n",
      "Done.\n",
      "7 rows affected.\n"
     ]
    },
    {
     "data": {
      "text/plain": [
       "[]"
      ]
     },
     "execution_count": 3,
     "metadata": {},
     "output_type": "execute_result"
    }
   ],
   "source": [
    "%%sql\n",
    "\n",
    "DROP TABLE IF EXISTS COURSE_CATALOG;\n",
    "CREATE TABLE COURSE_CATALOG (\n",
    "    cat_id INTEGER NOT NULL PRIMARY KEY,\n",
    "    catalog_id TEXT,\n",
    "    catalog_year INTEGER,\n",
    "    program_id INTEGER NOT NULL,\n",
    "    course_title TEXT NOT NULL,\n",
    "    credits INTEGER NOT NULL,\n",
    "    prereqs TEXT,\n",
    "    coreqs TEXT,\n",
    "    fees TEXT,\n",
    "    attributes TEXT,\n",
    "    description TEXT,\n",
    "FOREIGN KEY (program_id) REFERENCES PROGRAMS(program_id));\n",
    "DROP TABLE IF EXISTS PROGRAMS;\n",
    "CREATE TABLE PROGRAMS (\n",
    "    program_id INTEGER NOT NULL PRIMARY KEY,\n",
    "    program_code TEXT NOT NULL, \n",
    "    program_name TEXT NOT NULL);\n",
    "/* ***    FOREIGN KEY (program_code) REFERENCES COURSE_CATALOG(program_code));*** */\n",
    "DROP TABLE IF EXISTS COURSES;\n",
    "CREATE TABLE COURSES (\n",
    "    course_id INTEGER NOT NULL PRIMARY KEY,\n",
    "    cat_id INTEGER,\n",
    "    crn TEXT,\n",
    "    catalog_id TEXT,\n",
    "    term TEXT,\n",
    "    section INTEGER,\n",
    "    professor_id TEXT,\n",
    "    cap INTEGER,\n",
    "    act INTEGER,\n",
    "    rem INTEGER,\n",
    "    FOREIGN KEY (catalog_id) REFERENCES COURSE_CATALOG(catalog_id));\n",
    "DROP TABLE IF EXISTS COURSE_MEETINGS;\n",
    "CREATE TABLE COURSE_MEETINGS (\n",
    "    coursemeeting_id INTEGER NOT NULL PRIMARY KEY,\n",
    "    course_id INTEGER NOT NULL,\n",
    "    location TEXT NOT NULL,\n",
    "    day TEXT NOT NULL,\n",
    "    start TEXT NOT NULL,\n",
    "    end TEXT NOT NULL,\n",
    "    FOREIGN KEY (course_id) REFERENCES COURSES (course_id));\n",
    "DROP TABLE IF EXISTS PROFESSORS;\n",
    "CREATE TABLE PROFESSORS (\n",
    "    professor_id INTEGER NOT NULL PRIMARY KEY,\n",
    "    name TEXT);\n",
    "DROP TABLE IF EXISTS TERM_CATALOG;\n",
    "CREATE TABLE TERM_CATALOG (\n",
    "    term TEXT NOT NULL PRIMARY KEY, \n",
    "    catalog_year TEXT NOT NULL); \n",
    "INSERT INTO TERM_CATALOG (term, catalog_year)\n",
    "VALUES\n",
    "('Fall2017', '2017_2018'),\n",
    "('Winter2018', '2017_2018'),\n",
    "('Spring2018', '2017_2018'),\n",
    "('Summer2018', '2017_2018'),\n",
    "('Fall2018', '2018_2019'),\n",
    "('Winter2019', '2018_2019'),\n",
    "('Spring2019', '2018_2019');\n",
    "\n",
    "    "
   ]
  },
  {
   "cell_type": "markdown",
   "metadata": {},
   "source": [
    "Used the following protocol to load the source data into tables:\n",
    "Open a new Git Terminal\n",
    "> sqlite3 CourseData.db\n",
    "> .mode csv\n",
    "> .import CourseCatalog2017_2018.csv Import_CourseCatalog\n",
    "> .import CourseCatalog2018_2019.csv Import_CourseCatalog\n",
    "> .import course_meetings_fall2014.csv Import_course_meetings\n",
    "> .import course_meetings_fall2015.csv Import_course_meetings\n",
    "> .import course_meetings_fall2016.csv Import_course_meetings\n",
    "> .import course_meetings_fall2017.csv Import_course_meetings\n",
    "> .import course_meetings_fall2018.csv Import_course_meetings\n",
    "> .import course_meetings_spring2015.csv Import_course_meetings\n",
    "> .import course_meetings_spring2016.csv Import_course_meetings\n",
    "> .import course_meetings_spring2017.csv Import_course_meetings\n",
    "> .import course_meetings_spring2018.csv Import_course_meetings\n",
    "> .import course_meetings_spring2019.csv Import_course_meetings\n",
    "> .import course_meetings_springbreak2017.csv Import_course_meetings\n",
    "> .import course_meetings_summer2015.csv Import_course_meetings\n",
    "> .import course_meetings_summer2016.csv Import_course_meetings\n",
    "> .import course_meetings_summer2017.csv Import_course_meetings\n",
    "> .import course_meetings_summer2018.csv Import_course_meetings\n",
    "> .import course_meetings_winter2015.csv Import_course_meetings\n",
    "> .import course_meetings_winter2016.csv Import_course_meetings\n",
    "> .import course_meetings_winter2017.csv Import_course_meetings\n",
    "> .import course_meetings_winter2018.csv Import_course_meetings\n",
    "> \n",
    "> .import courses_fall2014.csv Import_courses\n",
    "> .import courses_fall2015.csv Import_courses\n",
    "> .import courses_fall2016.csv Import_courses\n",
    "> .import courses_fall2017.csv Import_courses\n",
    "> .import courses_fall2018.csv Import_courses\n",
    "> .import courses_spring2015.csv Import_courses\n",
    "> .import courses_spring2016.csv Import_courses\n",
    "> .import courses_spring2017.csv Import_courses\n",
    "> .import courses_spring2018.csv Import_courses\n",
    "> .import courses_spring2019.csv Import_courses\n",
    "> .import courses_springbreak2017.csv Import_courses\n",
    "> .import courses_summer2015.csv Import_courses\n",
    "> .import courses_summer2016.csv Import_courses\n",
    "> .import courses_summer2017.csv Import_courses\n",
    "> .import courses_summer2018.csv Import_courses\n",
    "> .import courses_winter2015.csv Import_courses\n",
    "> .import courses_winter2016.csv Import_courses\n",
    "> .import courses_winter2017.csv Import_courses\n",
    "> .import courses_winter2018.csv Import_courses"
   ]
  },
  {
   "cell_type": "code",
   "execution_count": 4,
   "metadata": {},
   "outputs": [
    {
     "name": "stdout",
     "output_type": "stream",
     "text": [
      " * sqlite:///CourseData.db\n",
      "Done.\n",
      "Done.\n",
      "Done.\n",
      "Done.\n",
      "Done.\n",
      "Done.\n"
     ]
    },
    {
     "data": {
      "text/plain": [
       "[]"
      ]
     },
     "execution_count": 4,
     "metadata": {},
     "output_type": "execute_result"
    }
   ],
   "source": [
    "%%sql\n",
    "DROP TABLE IF EXISTS Import_Courses2;\n",
    "DROP TABLE IF EXISTS Import_CourseCatalog2;\n",
    "DROP TABLE IF EXISTS Import_Course_Meetings2;\n",
    "DROP TABLE IF EXISTS Import_courses;\n",
    "DROP TABLE IF EXISTS Import_course_meetings;\n",
    "DROP TABLE IF EXISTS Import_CourseCatalog;"
   ]
  },
  {
   "cell_type": "code",
   "execution_count": 5,
   "metadata": {},
   "outputs": [],
   "source": [
    "from sqlalchemy import create_engine\n",
    "engine = create_engine('sqlite:///CourseData.db', echo=False)"
   ]
  },
  {
   "cell_type": "code",
   "execution_count": 6,
   "metadata": {},
   "outputs": [],
   "source": [
    "calendaryears = ['2017_2018','2018_2019']\n",
    "\n",
    "for calendaryear in calendaryears:\n",
    "    filepath = 'SourceData/Catalogs/CourseCatalog'+calendaryear+'.csv'\n",
    "    data=pd.read_csv(filepath)\n",
    "    data['calendaryear'] = calendaryear\n",
    "    data.to_sql('Import_CourseCatalog2',con=engine,if_exists='append',index=False)"
   ]
  },
  {
   "cell_type": "code",
   "execution_count": 7,
   "metadata": {},
   "outputs": [],
   "source": [
    "#it was pointed out in class that the above can be done programatically rather than manually\n",
    "\n",
    "#for the courses and course meeting imports:\n",
    "\n",
    "\n",
    "\n",
    "terms = ['Fall2014','Fall2015','Fall2016','Fall2017','Fall2018',\n",
    "         'Spring2015','Spring2016','Spring2017','Spring2018','Spring2019','SpringBreak2017',\n",
    "         'Summer2015','Summer2016','Summer2017','Summer2018',\n",
    "          'Winter2015','Winter2016','Winter2017','Winter2018']\n",
    "\n",
    "for term in terms:\n",
    "    filepath = 'SourceData/'+term+'/courses.csv'\n",
    "    data=pd.read_csv(filepath)\n",
    "    data.to_sql('Import_Courses2',con=engine,if_exists='append',index=False)\n",
    "\n",
    "    filepath = 'SourceData/'+term+'/course_meetings.csv'\n",
    "    data=pd.read_csv(filepath)\n",
    "    data.to_sql('Import_Course_Meetings2',con=engine,if_exists='append',index=False)"
   ]
  },
  {
   "cell_type": "code",
   "execution_count": 8,
   "metadata": {},
   "outputs": [
    {
     "name": "stdout",
     "output_type": "stream",
     "text": [
      " * sqlite:///CourseData.db\n",
      "Done.\n"
     ]
    },
    {
     "data": {
      "text/html": [
       "<table>\n",
       "    <tr>\n",
       "        <th>COUNTALL</th>\n",
       "        <th>DISTINCT</th>\n",
       "    </tr>\n",
       "    <tr>\n",
       "        <td>4440</td>\n",
       "        <td>4440</td>\n",
       "    </tr>\n",
       "</table>"
      ],
      "text/plain": [
       "[(4440, 4440)]"
      ]
     },
     "execution_count": 8,
     "metadata": {},
     "output_type": "execute_result"
    }
   ],
   "source": [
    "%%sql\n",
    "/* *** data validation for CourseCatalog2 Imports*** */\n",
    "SELECT\n",
    "    (SELECT COUNT(*) FROM Import_CourseCatalog2) AS 'COUNTALL',\n",
    "    (SELECT COUNT(*) FROM (SELECT DISTINCT * FROM Import_CourseCatalog2)) AS 'DISTINCT';"
   ]
  },
  {
   "cell_type": "code",
   "execution_count": 9,
   "metadata": {},
   "outputs": [
    {
     "name": "stdout",
     "output_type": "stream",
     "text": [
      " * sqlite:///CourseData.db\n",
      "Done.\n"
     ]
    },
    {
     "data": {
      "text/html": [
       "<table>\n",
       "    <tr>\n",
       "        <th>COUNTALL</th>\n",
       "        <th>DISTINCT</th>\n",
       "    </tr>\n",
       "    <tr>\n",
       "        <td>15937</td>\n",
       "        <td>15937</td>\n",
       "    </tr>\n",
       "</table>"
      ],
      "text/plain": [
       "[(15937, 15937)]"
      ]
     },
     "execution_count": 9,
     "metadata": {},
     "output_type": "execute_result"
    }
   ],
   "source": [
    "%%sql\n",
    "/* *** data validation for Courses2 Imports*** */\n",
    "SELECT\n",
    "    (SELECT COUNT(*) FROM Import_Courses2) AS 'COUNTALL',\n",
    "    (SELECT COUNT(*) FROM (SELECT DISTINCT * FROM Import_Courses2)) AS 'DISTINCT';"
   ]
  },
  {
   "cell_type": "code",
   "execution_count": 10,
   "metadata": {},
   "outputs": [
    {
     "name": "stdout",
     "output_type": "stream",
     "text": [
      " * sqlite:///CourseData.db\n",
      "Done.\n"
     ]
    },
    {
     "data": {
      "text/html": [
       "<table>\n",
       "    <tr>\n",
       "        <th>COUNTALL</th>\n",
       "        <th>DISTINCT</th>\n",
       "    </tr>\n",
       "    <tr>\n",
       "        <td>284907</td>\n",
       "        <td>284847</td>\n",
       "    </tr>\n",
       "</table>"
      ],
      "text/plain": [
       "[(284907, 284847)]"
      ]
     },
     "execution_count": 10,
     "metadata": {},
     "output_type": "execute_result"
    }
   ],
   "source": [
    "%%sql\n",
    "/* *** data validation for Course_Meetings2 Imports*** */\n",
    "SELECT\n",
    "    (SELECT COUNT(*) FROM Import_Course_Meetings2) AS 'COUNTALL',\n",
    "    (SELECT COUNT(*) FROM (SELECT DISTINCT * FROM Import_Course_Meetings2)) AS 'DISTINCT';"
   ]
  },
  {
   "cell_type": "code",
   "execution_count": 11,
   "metadata": {},
   "outputs": [
    {
     "name": "stdout",
     "output_type": "stream",
     "text": [
      " * sqlite:///CourseData.db\n",
      "0 rows affected.\n",
      "83 rows affected.\n"
     ]
    },
    {
     "data": {
      "text/plain": [
       "[]"
      ]
     },
     "execution_count": 11,
     "metadata": {},
     "output_type": "execute_result"
    }
   ],
   "source": [
    "%%sql\n",
    "DELETE FROM PROGRAMS;\n",
    "INSERT INTO PROGRAMS (program_code, program_name)\n",
    "    SELECT DISTINCT program_code, program_name FROM Import_CourseCatalog2\n",
    "    ORDER BY program_code;\n"
   ]
  },
  {
   "cell_type": "code",
   "execution_count": 12,
   "metadata": {},
   "outputs": [
    {
     "name": "stdout",
     "output_type": "stream",
     "text": [
      " * sqlite:///CourseData.db\n",
      "0 rows affected.\n",
      "1095 rows affected.\n"
     ]
    },
    {
     "data": {
      "text/plain": [
       "[]"
      ]
     },
     "execution_count": 12,
     "metadata": {},
     "output_type": "execute_result"
    }
   ],
   "source": [
    "%%sql\n",
    "DELETE FROM PROFESSORS;\n",
    "INSERT INTO PROFESSORS (name)\n",
    "    SELECT DISTINCT primary_instructor\n",
    "    FROM Import_Courses2\n",
    "    WHERE primary_instructor <> 'TBA' AND primary_instructor NOT LIKE '%/%';"
   ]
  },
  {
   "cell_type": "code",
   "execution_count": 13,
   "metadata": {},
   "outputs": [
    {
     "name": "stdout",
     "output_type": "stream",
     "text": [
      " * sqlite:///CourseData.db\n",
      "0 rows affected.\n",
      "4440 rows affected.\n"
     ]
    },
    {
     "data": {
      "text/plain": [
       "[]"
      ]
     },
     "execution_count": 13,
     "metadata": {},
     "output_type": "execute_result"
    }
   ],
   "source": [
    "%%sql\n",
    "DELETE FROM COURSE_CATALOG;\n",
    "INSERT INTO COURSE_CATALOG (catalog_year,program_id,catalog_id,course_title,credits,prereqs,coreqs,fees,attributes,description)\n",
    "    SELECT DISTINCT C.calendaryear, P.program_id, C.catalog_id, C.course_title,C.credits,C.prereqs,C.coreqs,C.fees,C.attributes,C.description \n",
    "    FROM Import_CourseCatalog2 AS C\n",
    "    JOIN PROGRAMS AS P\n",
    "        USING(program_code);\n",
    "\n",
    "\n"
   ]
  },
  {
   "cell_type": "code",
   "execution_count": 14,
   "metadata": {},
   "outputs": [
    {
     "name": "stdout",
     "output_type": "stream",
     "text": [
      " * sqlite:///CourseData.db\n",
      "0 rows affected.\n",
      "15937 rows affected.\n"
     ]
    },
    {
     "data": {
      "text/plain": [
       "[]"
      ]
     },
     "execution_count": 14,
     "metadata": {},
     "output_type": "execute_result"
    }
   ],
   "source": [
    "%%sql\n",
    "DELETE FROM COURSES;\n",
    "INSERT INTO COURSES (cat_id,crn,catalog_id,term,section,professor_id,cap,act,rem)\n",
    "    SELECT DISTINCT COURSE_CATALOG.cat_id, C1.crn, COURSE_CATALOG.catalog_id,C1.term,C1.section,C1.primary_instructor,C1.cap,C1.act,C1.rem\n",
    "    FROM  Import_Courses2 AS C1\n",
    "    LEFT JOIN PROFESSORS \n",
    "    ON C1.primary_instructor=PROFESSORS.name\n",
    "    LEFT JOIN TERM_CATALOG USING (term)\n",
    "    LEFT JOIN COURSE_CATALOG\n",
    "    ON C1.catalog_id = COURSE_CATALOG.catalog_id AND COURSE_CATALOG.catalog_year=TERM_CATALOG.catalog_year;\n",
    "    "
   ]
  },
  {
   "cell_type": "code",
   "execution_count": 15,
   "metadata": {},
   "outputs": [
    {
     "name": "stdout",
     "output_type": "stream",
     "text": [
      " * sqlite:///CourseData.db\n",
      "0 rows affected.\n",
      "284847 rows affected.\n"
     ]
    },
    {
     "data": {
      "text/plain": [
       "[]"
      ]
     },
     "execution_count": 15,
     "metadata": {},
     "output_type": "execute_result"
    }
   ],
   "source": [
    "%%sql\n",
    "DELETE FROM COURSE_MEETINGS;\n",
    "INSERT INTO COURSE_MEETINGS (course_id,location,day,start,end)\n",
    "    SELECT DISTINCT COURSES.course_id, C2.location,C2.day,C2.start,C2.end\n",
    "    FROM Import_course_meetings2 AS C2\n",
    "    JOIN COURSES\n",
    "    USING (crn,term);"
   ]
  },
  {
   "cell_type": "code",
   "execution_count": 16,
   "metadata": {},
   "outputs": [
    {
     "name": "stdout",
     "output_type": "stream",
     "text": [
      " * sqlite:///CourseData.db\n",
      "Done.\n",
      "Done.\n",
      "Done.\n",
      "Done.\n",
      "Done.\n",
      "Done.\n",
      "0 rows affected.\n"
     ]
    },
    {
     "data": {
      "text/plain": [
       "[]"
      ]
     },
     "execution_count": 16,
     "metadata": {},
     "output_type": "execute_result"
    }
   ],
   "source": [
    "%%sql\n",
    "DROP TABLE IF EXISTS Import_Courses2;\n",
    "DROP TABLE IF EXISTS Import_CourseCatalog2;\n",
    "DROP TABLE IF EXISTS Import_Course_Meetings2;\n",
    "DROP TABLE IF EXISTS Import_courses;\n",
    "DROP TABLE IF EXISTS Import_course_meetings;\n",
    "DROP TABLE IF EXISTS Import_CourseCatalog;\n",
    "/* ***DROP TABLE IF EXISTS Course_meetings;*** */\n"
   ]
  },
  {
   "cell_type": "code",
   "execution_count": 17,
   "metadata": {},
   "outputs": [
    {
     "name": "stdout",
     "output_type": "stream",
     "text": [
      " * sqlite:///CourseData.db\n",
      "Done.\n"
     ]
    },
    {
     "data": {
      "text/plain": [
       "[]"
      ]
     },
     "execution_count": 17,
     "metadata": {},
     "output_type": "execute_result"
    }
   ],
   "source": [
    "%%sql\n",
    "vacuum;"
   ]
  },
  {
   "cell_type": "code",
   "execution_count": null,
   "metadata": {},
   "outputs": [],
   "source": []
  }
 ],
 "metadata": {
  "kernelspec": {
   "display_name": "Python 3",
   "language": "python",
   "name": "python3"
  },
  "language_info": {
   "codemirror_mode": {
    "name": "ipython",
    "version": 3
   },
   "file_extension": ".py",
   "mimetype": "text/x-python",
   "name": "python",
   "nbconvert_exporter": "python",
   "pygments_lexer": "ipython3",
   "version": "3.6.7"
  }
 },
 "nbformat": 4,
 "nbformat_minor": 4
}
