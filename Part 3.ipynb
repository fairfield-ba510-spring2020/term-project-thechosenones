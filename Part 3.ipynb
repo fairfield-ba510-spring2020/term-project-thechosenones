{
 "cells": [
  {
   "cell_type": "code",
   "execution_count": 1,
   "metadata": {},
   "outputs": [],
   "source": [
    "%load_ext sql\n",
    "import pandas as pd\n",
    "import sqlite3"
   ]
  },
  {
   "cell_type": "code",
   "execution_count": 2,
   "metadata": {},
   "outputs": [
    {
     "data": {
      "text/plain": [
       "'Connected: @CourseData.db'"
      ]
     },
     "execution_count": 2,
     "metadata": {},
     "output_type": "execute_result"
    }
   ],
   "source": [
    "%sql sqlite:///CourseData.db"
   ]
  },
  {
   "cell_type": "code",
   "execution_count": 3,
   "metadata": {},
   "outputs": [
    {
     "name": "stdout",
     "output_type": "stream",
     "text": [
      " * sqlite:///CourseData.db\n",
      "Done.\n",
      "Done.\n",
      "Done.\n",
      "Done.\n",
      "Done.\n",
      "Done.\n",
      "Done.\n",
      "Done.\n"
     ]
    },
    {
     "data": {
      "text/plain": [
       "[]"
      ]
     },
     "execution_count": 3,
     "metadata": {},
     "output_type": "execute_result"
    }
   ],
   "source": [
    "%%sql\n",
    "DROP TABLE IF EXISTS PROGRAMS;\n",
    "CREATE TABLE PROGRAMS (\n",
    "    program_id INTEGER NOT NULL PRIMARY KEY, \n",
    "    program_code TEXT NOT NULL, \n",
    "    program_name TEXT NOT NULL);\n",
    "DROP TABLE IF EXISTS COURSE_CATALOG;\n",
    "CREATE TABLE COURSE_CATALOG (\n",
    "    catalog_id TEXT PRIMARY KEY,\n",
    "    program_id INTEGER NOT NULL,\n",
    "    course_title TEXT NOT NULL,\n",
    "    credits INTEGER NOT NULL,\n",
    "    prereqs TEXT,\n",
    "    coreqs TEXT,\n",
    "    fees TEXT,\n",
    "    attributes TEXT,\n",
    "    description TEXT,\n",
    "    FOREIGN KEY (program_id) REFERENCES PROGRAMS (program_id));\n",
    "DROP TABLE IF EXISTS COURSES;\n",
    "CREATE TABLE COURSES (\n",
    "    crn INTEGER NOT NULL PRIMARY KEY,\n",
    "    catalog_id TEXT NOT NULL,\n",
    "    term TEXT NOT NULL,\n",
    "    section INTEGER NOT NULL,\n",
    "    primary_instructor TEXT NOT NULL,\n",
    "    cap INTEGER NOT NULL,\n",
    "    act INTEGER NOT NULL,\n",
    "    rem INTEGER NOT NULL,\n",
    "    FOREIGN KEY (catalog_id) REFERENCES COURSE_CATALOG(catalog_id));\n",
    "DROP TABLE IF EXISTS COURSE_MEETINGS;\n",
    "CREATE TABLE COURSE_MEETINGS (\n",
    "    crn INTEGER NOT NULL PRIMARY KEY,\n",
    "    location TEXT NOT NULL,\n",
    "    day TEXT NOT NULL,\n",
    "    start TEXT NOT NULL,\n",
    "    end TEXT NOT NULL,\n",
    "    FOREIGN KEY (crn) REFERENCES COURSES (crn));\n"
   ]
  },
  {
   "cell_type": "markdown",
   "metadata": {},
   "source": [
    "Used the following protocol to load the source data into tables:\n",
    "Open a new Git Terminal\n",
    "> sqlite3 CourseData.db\n",
    "> .mode csv\n",
    "> .import CourseCatalog2017_2018.csv Import_CourseCatalog\n",
    "> .import CourseCatalog2018_2019.csv Import_CourseCatalog\n",
    "> .import course_meetings_fall2014.csv Import_course_meetings\n",
    "> .import course_meetings_fall2015.csv Import_course_meetings\n",
    "> .import course_meetings_fall2016.csv Import_course_meetings\n",
    "> .import course_meetings_fall2017.csv Import_course_meetings\n",
    "> .import course_meetings_fall2018.csv Import_course_meetings\n",
    "> .import course_meetings_spring2015.csv Import_course_meetings\n",
    "> .import course_meetings_spring2016.csv Import_course_meetings\n",
    "> .import course_meetings_spring2017.csv Import_course_meetings\n",
    "> .import course_meetings_spring2018.csv Import_course_meetings\n",
    "> .import course_meetings_spring2019.csv Import_course_meetings\n",
    "> .import course_meetings_springbreak2017.csv Import_course_meetings\n",
    "> .import course_meetings_summer2015.csv Import_course_meetings\n",
    "> .import course_meetings_summer2016.csv Import_course_meetings\n",
    "> .import course_meetings_summer2017.csv Import_course_meetings\n",
    "> .import course_meetings_summer2018.csv Import_course_meetings\n",
    "> .import course_meetings_winter2015.csv Import_course_meetings\n",
    "> .import course_meetings_winter2016.csv Import_course_meetings\n",
    "> .import course_meetings_winter2017.csv Import_course_meetings\n",
    "> .import course_meetings_winter2018.csv Import_course_meetings\n",
    "> \n",
    "> .import courses_fall2014.csv Import_courses\n",
    "> .import courses_fall2015.csv Import_courses\n",
    "> .import courses_fall2016.csv Import_courses\n",
    "> .import courses_fall2017.csv Import_courses\n",
    "> .import courses_fall2018.csv Import_courses\n",
    "> .import courses_spring2015.csv Import_courses\n",
    "> .import courses_spring2016.csv Import_courses\n",
    "> .import courses_spring2017.csv Import_courses\n",
    "> .import courses_spring2018.csv Import_courses\n",
    "> .import courses_spring2019.csv Import_courses\n",
    "> .import courses_springbreak2017.csv Import_courses\n",
    "> .import courses_summer2015.csv Import_courses\n",
    "> .import courses_summer2016.csv Import_courses\n",
    "> .import courses_summer2017.csv Import_courses\n",
    "> .import courses_summer2018.csv Import_courses\n",
    "> .import courses_winter2015.csv Import_courses\n",
    "> .import courses_winter2016.csv Import_courses\n",
    "> .import courses_winter2017.csv Import_courses\n",
    "> .import courses_winter2018.csv Import_courses"
   ]
  },
  {
   "cell_type": "code",
   "execution_count": null,
   "metadata": {},
   "outputs": [],
   "source": []
  },
  {
   "cell_type": "code",
   "execution_count": 5,
   "metadata": {},
   "outputs": [
    {
     "name": "stdout",
     "output_type": "stream",
     "text": [
      " * sqlite:///CourseData.db\n",
      "Done.\n",
      "Done.\n"
     ]
    },
    {
     "data": {
      "text/html": [
       "<table>\n",
       "    <tr>\n",
       "        <th>term</th>\n",
       "        <th>crn</th>\n",
       "        <th>catalog_id</th>\n",
       "        <th>section</th>\n",
       "        <th>credits</th>\n",
       "        <th>title</th>\n",
       "        <th>meetings</th>\n",
       "        <th>timecodes</th>\n",
       "        <th>primary_instructor</th>\n",
       "        <th>cap</th>\n",
       "        <th>act</th>\n",
       "        <th>rem</th>\n",
       "    </tr>\n",
       "    <tr>\n",
       "        <td>Fall2014</td>\n",
       "        <td>70384</td>\n",
       "        <td>AC 0011</td>\n",
       "        <td>C01</td>\n",
       "        <td>3.000</td>\n",
       "        <td>Introduction to Financial Accounting</td>\n",
       "        <td>[{&#x27;days&#x27;: &#x27;TF&#x27;, &#x27;times&#x27;: &#x27;0800am-0915am&#x27;, &#x27;dates&#x27;: &#x27;09/02-12/08&#x27;, &#x27;location&#x27;: &#x27;DSB 105&#x27;}]</td>\n",
       "        <td>[&#x27;TF 0800am-0915am 09/02-12/08 DSB 105&#x27;]</td>\n",
       "        <td>Michael P.  Coyne</td>\n",
       "        <td>0</td>\n",
       "        <td>31</td>\n",
       "        <td>-31</td>\n",
       "    </tr>\n",
       "    <tr>\n",
       "        <td>Fall2014</td>\n",
       "        <td>70385</td>\n",
       "        <td>AC 0011</td>\n",
       "        <td>C02</td>\n",
       "        <td>3.000</td>\n",
       "        <td>Introduction to Financial Accounting</td>\n",
       "        <td>[{&#x27;days&#x27;: &#x27;TF&#x27;, &#x27;times&#x27;: &#x27;0930am-1045am&#x27;, &#x27;dates&#x27;: &#x27;09/02-12/08&#x27;, &#x27;location&#x27;: &#x27;DSB 105&#x27;}]</td>\n",
       "        <td>[&#x27;TF 0930am-1045am 09/02-12/08 DSB 105&#x27;]</td>\n",
       "        <td>Michael P.  Coyne</td>\n",
       "        <td>0</td>\n",
       "        <td>31</td>\n",
       "        <td>-31</td>\n",
       "    </tr>\n",
       "</table>"
      ],
      "text/plain": [
       "[('Fall2014', '70384', 'AC 0011', 'C01', '3.000', 'Introduction to Financial Accounting', \"[{'days': 'TF', 'times': '0800am-0915am', 'dates': '09/02-12/08', 'location': 'DSB 105'}]\", \"['TF 0800am-0915am 09/02-12/08 DSB 105']\", 'Michael P.  Coyne', '0', '31', '-31'),\n",
       " ('Fall2014', '70385', 'AC 0011', 'C02', '3.000', 'Introduction to Financial Accounting', \"[{'days': 'TF', 'times': '0930am-1045am', 'dates': '09/02-12/08', 'location': 'DSB 105'}]\", \"['TF 0930am-1045am 09/02-12/08 DSB 105']\", 'Michael P.  Coyne', '0', '31', '-31')]"
      ]
     },
     "execution_count": 5,
     "metadata": {},
     "output_type": "execute_result"
    }
   ],
   "source": [
    "%%sql\n",
    "SELECT * FROM Import_CourseCatalog LIMIT 2;\n",
    "SELECT * FROM Import_courses LIMIT 2;\n"
   ]
  },
  {
   "cell_type": "code",
   "execution_count": null,
   "metadata": {},
   "outputs": [],
   "source": [
    "%%sql\n",
    "DELETE FROM PROGRAMS;\n",
    "INSERT INTO PROGRAMS (program_code, program_name)\n",
    "    SELECT DISTINCT program_code, program_name FROM Import_CourseCatalog;"
   ]
  },
  {
   "cell_type": "code",
   "execution_count": null,
   "metadata": {},
   "outputs": [],
   "source": []
  }
 ],
 "metadata": {
  "kernelspec": {
   "display_name": "Python 3",
   "language": "python",
   "name": "python3"
  },
  "language_info": {
   "codemirror_mode": {
    "name": "ipython",
    "version": 3
   },
   "file_extension": ".py",
   "mimetype": "text/x-python",
   "name": "python",
   "nbconvert_exporter": "python",
   "pygments_lexer": "ipython3",
   "version": "3.6.7"
  }
 },
 "nbformat": 4,
 "nbformat_minor": 4
}
