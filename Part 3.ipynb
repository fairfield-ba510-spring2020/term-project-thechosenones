{
 "cells": [
  {
   "cell_type": "code",
   "execution_count": 93,
   "metadata": {},
   "outputs": [
    {
     "name": "stdout",
     "output_type": "stream",
     "text": [
      "The sql extension is already loaded. To reload it, use:\n",
      "  %reload_ext sql\n"
     ]
    }
   ],
   "source": [
    "%load_ext sql\n",
    "import pandas as pd\n",
    "import sqlite3"
   ]
  },
  {
   "cell_type": "code",
   "execution_count": null,
   "metadata": {},
   "outputs": [],
   "source": []
  },
  {
   "cell_type": "code",
   "execution_count": 94,
   "metadata": {},
   "outputs": [
    {
     "data": {
      "text/plain": [
       "'Connected: @CourseData.db'"
      ]
     },
     "execution_count": 94,
     "metadata": {},
     "output_type": "execute_result"
    }
   ],
   "source": [
    "%sql sqlite:///CourseData.db"
   ]
  },
  {
   "cell_type": "code",
   "execution_count": 107,
   "metadata": {},
   "outputs": [
    {
     "name": "stdout",
     "output_type": "stream",
     "text": [
      " * sqlite:///CourseData.db\n",
      "Done.\n",
      "Done.\n",
      "Done.\n",
      "Done.\n",
      "Done.\n",
      "Done.\n",
      "Done.\n",
      "Done.\n",
      "Done.\n",
      "Done.\n",
      "Done.\n",
      "Done.\n"
     ]
    },
    {
     "data": {
      "text/plain": [
       "[]"
      ]
     },
     "execution_count": 107,
     "metadata": {},
     "output_type": "execute_result"
    }
   ],
   "source": [
    "%%sql\n",
    "\n",
    "DROP TABLE IF EXISTS COURSE_CATALOG;\n",
    "CREATE TABLE COURSE_CATALOG (\n",
    "    cat_id INTEGER NOT NULL PRIMARY KEY,\n",
    "    catalog_id TEXT,\n",
    "    catalog_year INTEGER,\n",
    "    program_id INTEGER NOT NULL,\n",
    "    course_title TEXT NOT NULL,\n",
    "    credits INTEGER NOT NULL,\n",
    "    prereqs TEXT,\n",
    "    coreqs TEXT,\n",
    "    fees TEXT,\n",
    "    attributes TEXT,\n",
    "    description TEXT,\n",
    "FOREIGN KEY (program_id) REFERENCES PROGRAMS(program_id));\n",
    "DROP TABLE IF EXISTS PROGRAMS;\n",
    "CREATE TABLE PROGRAMS (\n",
    "    program_id INTEGER NOT NULL PRIMARY KEY,\n",
    "    program_code TEXT NOT NULL, \n",
    "    program_name TEXT NOT NULL);\n",
    "/* ***    FOREIGN KEY (program_code) REFERENCES COURSE_CATALOG(program_code));*** */\n",
    "DROP TABLE IF EXISTS COURSES;\n",
    "CREATE TABLE COURSES (\n",
    "    course_id INTEGER NOT NULL PRIMARY KEY,\n",
    "    crn TEXT,\n",
    "    catalog_id TEXT,\n",
    "    term_id TEXT,\n",
    "    section INTEGER,\n",
    "    professor_id TEXT,\n",
    "    cap INTEGER,\n",
    "    act INTEGER,\n",
    "    rem INTEGER,\n",
    "    FOREIGN KEY (catalog_id) REFERENCES COURSE_CATALOG(catalog_id));\n",
    "DROP TABLE IF EXISTS COURSE_MEETINGS;\n",
    "CREATE TABLE COURSE_MEETINGS (\n",
    "    crn INTEGER NOT NULL PRIMARY KEY,\n",
    "    location TEXT NOT NULL,\n",
    "    day TEXT NOT NULL,\n",
    "    start TEXT NOT NULL,\n",
    "    end TEXT NOT NULL,\n",
    "    FOREIGN KEY (crn) REFERENCES COURSES (crn));\n",
    "DROP TABLE IF EXISTS PROFESSORS;\n",
    "CREATE TABLE PROFESSORS (\n",
    "    professor_id INTEGER NOT NULL PRIMARY KEY,\n",
    "    name TEXT);\n",
    "DROP TABLE IF EXISTS TERM_CATALOG;\n",
    "CREATE TABLE TERM_CATALOG (\n",
    "    term_id INTEGER NOT NULL PRIMARY KEY,\n",
    "    term TEXT,\n",
    "    catalog_year TEXT);\n",
    "    "
   ]
  },
  {
   "cell_type": "markdown",
   "metadata": {},
   "source": [
    "Used the following protocol to load the source data into tables:\n",
    "Open a new Git Terminal\n",
    "> sqlite3 CourseData.db\n",
    "> .mode csv\n",
    "> .import CourseCatalog2017_2018.csv Import_CourseCatalog\n",
    "> .import CourseCatalog2018_2019.csv Import_CourseCatalog\n",
    "> .import course_meetings_fall2014.csv Import_course_meetings\n",
    "> .import course_meetings_fall2015.csv Import_course_meetings\n",
    "> .import course_meetings_fall2016.csv Import_course_meetings\n",
    "> .import course_meetings_fall2017.csv Import_course_meetings\n",
    "> .import course_meetings_fall2018.csv Import_course_meetings\n",
    "> .import course_meetings_spring2015.csv Import_course_meetings\n",
    "> .import course_meetings_spring2016.csv Import_course_meetings\n",
    "> .import course_meetings_spring2017.csv Import_course_meetings\n",
    "> .import course_meetings_spring2018.csv Import_course_meetings\n",
    "> .import course_meetings_spring2019.csv Import_course_meetings\n",
    "> .import course_meetings_springbreak2017.csv Import_course_meetings\n",
    "> .import course_meetings_summer2015.csv Import_course_meetings\n",
    "> .import course_meetings_summer2016.csv Import_course_meetings\n",
    "> .import course_meetings_summer2017.csv Import_course_meetings\n",
    "> .import course_meetings_summer2018.csv Import_course_meetings\n",
    "> .import course_meetings_winter2015.csv Import_course_meetings\n",
    "> .import course_meetings_winter2016.csv Import_course_meetings\n",
    "> .import course_meetings_winter2017.csv Import_course_meetings\n",
    "> .import course_meetings_winter2018.csv Import_course_meetings\n",
    "> \n",
    "> .import courses_fall2014.csv Import_courses\n",
    "> .import courses_fall2015.csv Import_courses\n",
    "> .import courses_fall2016.csv Import_courses\n",
    "> .import courses_fall2017.csv Import_courses\n",
    "> .import courses_fall2018.csv Import_courses\n",
    "> .import courses_spring2015.csv Import_courses\n",
    "> .import courses_spring2016.csv Import_courses\n",
    "> .import courses_spring2017.csv Import_courses\n",
    "> .import courses_spring2018.csv Import_courses\n",
    "> .import courses_spring2019.csv Import_courses\n",
    "> .import courses_springbreak2017.csv Import_courses\n",
    "> .import courses_summer2015.csv Import_courses\n",
    "> .import courses_summer2016.csv Import_courses\n",
    "> .import courses_summer2017.csv Import_courses\n",
    "> .import courses_summer2018.csv Import_courses\n",
    "> .import courses_winter2015.csv Import_courses\n",
    "> .import courses_winter2016.csv Import_courses\n",
    "> .import courses_winter2017.csv Import_courses\n",
    "> .import courses_winter2018.csv Import_courses"
   ]
  },
  {
   "cell_type": "code",
   "execution_count": 108,
   "metadata": {},
   "outputs": [
    {
     "name": "stdout",
     "output_type": "stream",
     "text": [
      " * sqlite:///CourseData.db\n",
      "Done.\n",
      "Done.\n",
      "Done.\n"
     ]
    },
    {
     "data": {
      "text/plain": [
       "[]"
      ]
     },
     "execution_count": 108,
     "metadata": {},
     "output_type": "execute_result"
    }
   ],
   "source": [
    "%%sql\n",
    "DROP TABLE IF EXISTS Import_Courses2;\n",
    "DROP TABLE IF EXISTS Import_CourseCatalog2;\n",
    "DROP TABLE IF EXISTS Import_Course_Meetings2;"
   ]
  },
  {
   "cell_type": "code",
   "execution_count": 109,
   "metadata": {},
   "outputs": [],
   "source": [
    "from sqlalchemy import create_engine\n",
    "engine = create_engine('sqlite:///CourseData.db', echo=False)"
   ]
  },
  {
   "cell_type": "code",
   "execution_count": 110,
   "metadata": {},
   "outputs": [],
   "source": [
    "calendaryears = ['2017_2018','2018_2019']\n",
    "\n",
    "for calendaryear in calendaryears:\n",
    "    filepath = 'SourceData/Catalogs/CourseCatalog'+calendaryear+'.csv'\n",
    "    data=pd.read_csv(filepath)\n",
    "    data['calendaryear'] = calendaryear\n",
    "    data.to_sql('Import_CourseCatalog2',con=engine,if_exists='append',index=False)"
   ]
  },
  {
   "cell_type": "code",
   "execution_count": 111,
   "metadata": {},
   "outputs": [],
   "source": [
    "#it was pointed out in class that the above can be done programatically rather than manually\n",
    "\n",
    "#for the courses and course meeting imports:\n",
    "\n",
    "\n",
    "\n",
    "terms = ['Fall2014','Fall2015','Fall2016','Fall2017','Fall2018',\n",
    "         'Spring2015','Spring2016','Spring2017','Spring2018','Spring2019','SpringBreak2017',\n",
    "         'Summer2015','Summer2016','Summer2017','Summer2018',\n",
    "          'Winter2015','Winter2016','Winter2017','Winter2018']\n",
    "\n",
    "for term in terms:\n",
    "    filepath = 'SourceData/'+term+'/courses.csv'\n",
    "    data=pd.read_csv(filepath)\n",
    "    data.to_sql('Import_Courses2',con=engine,if_exists='append',index=False)\n",
    "\n",
    "    filepath = 'SourceData/'+term+'/course_meetings.csv'\n",
    "    data=pd.read_csv(filepath)\n",
    "    data.to_sql('Import_Course_Meetings2',con=engine,if_exists='append',index=False)"
   ]
  },
  {
   "cell_type": "code",
   "execution_count": 112,
   "metadata": {},
   "outputs": [
    {
     "name": "stdout",
     "output_type": "stream",
     "text": [
      " * sqlite:///CourseData.db\n",
      "Done.\n"
     ]
    },
    {
     "data": {
      "text/html": [
       "<table>\n",
       "    <tr>\n",
       "        <th>COUNTALL</th>\n",
       "        <th>DISTINCT</th>\n",
       "    </tr>\n",
       "    <tr>\n",
       "        <td>4440</td>\n",
       "        <td>4440</td>\n",
       "    </tr>\n",
       "</table>"
      ],
      "text/plain": [
       "[(4440, 4440)]"
      ]
     },
     "execution_count": 112,
     "metadata": {},
     "output_type": "execute_result"
    }
   ],
   "source": [
    "%%sql\n",
    "/* *** data validation for CourseCatalog2 Imports*** */\n",
    "SELECT\n",
    "    (SELECT COUNT(*) FROM Import_CourseCatalog2) AS 'COUNTALL',\n",
    "    (SELECT COUNT(*) FROM (SELECT DISTINCT * FROM Import_CourseCatalog2)) AS 'DISTINCT';"
   ]
  },
  {
   "cell_type": "code",
   "execution_count": 113,
   "metadata": {},
   "outputs": [
    {
     "name": "stdout",
     "output_type": "stream",
     "text": [
      " * sqlite:///CourseData.db\n",
      "Done.\n"
     ]
    },
    {
     "data": {
      "text/html": [
       "<table>\n",
       "    <tr>\n",
       "        <th>COUNTALL</th>\n",
       "        <th>DISTINCT</th>\n",
       "    </tr>\n",
       "    <tr>\n",
       "        <td>15937</td>\n",
       "        <td>15937</td>\n",
       "    </tr>\n",
       "</table>"
      ],
      "text/plain": [
       "[(15937, 15937)]"
      ]
     },
     "execution_count": 113,
     "metadata": {},
     "output_type": "execute_result"
    }
   ],
   "source": [
    "%%sql\n",
    "/* *** data validation for Courses2 Imports*** */\n",
    "SELECT\n",
    "    (SELECT COUNT(*) FROM Import_Courses2) AS 'COUNTALL',\n",
    "    (SELECT COUNT(*) FROM (SELECT DISTINCT * FROM Import_Courses2)) AS 'DISTINCT';"
   ]
  },
  {
   "cell_type": "code",
   "execution_count": 114,
   "metadata": {},
   "outputs": [
    {
     "name": "stdout",
     "output_type": "stream",
     "text": [
      " * sqlite:///CourseData.db\n",
      "Done.\n"
     ]
    },
    {
     "data": {
      "text/html": [
       "<table>\n",
       "    <tr>\n",
       "        <th>COUNTALL</th>\n",
       "        <th>DISTINCT</th>\n",
       "    </tr>\n",
       "    <tr>\n",
       "        <td>284907</td>\n",
       "        <td>284847</td>\n",
       "    </tr>\n",
       "</table>"
      ],
      "text/plain": [
       "[(284907, 284847)]"
      ]
     },
     "execution_count": 114,
     "metadata": {},
     "output_type": "execute_result"
    }
   ],
   "source": [
    "%%sql\n",
    "/* *** data validation for Course_Meetings2 Imports*** */\n",
    "SELECT\n",
    "    (SELECT COUNT(*) FROM Import_Course_Meetings2) AS 'COUNTALL',\n",
    "    (SELECT COUNT(*) FROM (SELECT DISTINCT * FROM Import_Course_Meetings2)) AS 'DISTINCT';"
   ]
  },
  {
   "cell_type": "markdown",
   "metadata": {},
   "source": [
    "%%sql\n",
    "/* *** This entire cell is markdown as obsolete but kept for future reference*** */\n",
    "/* *** THIS CODE WAS CREATED TO CLEAN UP THE IMPORT TABLE.  IT'S SUSPECTED THAT IMPORT_COURSES HAD DUPLICATE CRN, CAUSING INTEGRITY ISSUES*** */\n",
    "DROP TABLE IF EXISTS Import_courses2;\n",
    "CREATE TABLE Import_courses2 (\n",
    "    crn TEXT,\n",
    "    term TEXT,\n",
    "    catalog_id TEXT,\n",
    "    section TEXT,\n",
    "    credits TEXT,\n",
    "    title TEXT,\n",
    "    meetings TEXT,\n",
    "    timecodes TEXT,\n",
    "    primary_instructor TEXT,\n",
    "    cap INTEGER,\n",
    "    act INTEGER,\n",
    "    rem INTEGER);\n",
    "INSERT INTO Import_courses2 (crn,term,catalog_id,section,credits,title,meetings,timecodes,primary_instructor,cap,act,rem)\n",
    "    SELECT DISTINCT crn, term,catalog_id,section,credits,title,meetings,timecodes,primary_instructor,cap,act,rem FROM Import_courses;"
   ]
  },
  {
   "cell_type": "code",
   "execution_count": 115,
   "metadata": {},
   "outputs": [
    {
     "name": "stdout",
     "output_type": "stream",
     "text": [
      " * sqlite:///CourseData.db\n",
      "Done.\n"
     ]
    },
    {
     "data": {
      "text/html": [
       "<table>\n",
       "    <tr>\n",
       "        <th>program_code</th>\n",
       "        <th>program_name</th>\n",
       "        <th>catalog_id</th>\n",
       "        <th>course_title</th>\n",
       "        <th>credits</th>\n",
       "        <th>prereqs</th>\n",
       "        <th>coreqs</th>\n",
       "        <th>fees</th>\n",
       "        <th>attributes</th>\n",
       "        <th>description</th>\n",
       "    </tr>\n",
       "    <tr>\n",
       "        <td>AN</td>\n",
       "        <td>Asian Studies</td>\n",
       "        <td>AN 0301</td>\n",
       "        <td>Independent Study</td>\n",
       "        <td>1-3 Credits</td>\n",
       "        <td></td>\n",
       "        <td></td>\n",
       "        <td></td>\n",
       "        <td></td>\n",
       "        <td>Students undertake an individualized program of study in consultation with a director from the Asian studies faculty.</td>\n",
       "    </tr>\n",
       "    <tr>\n",
       "        <td>AN</td>\n",
       "        <td>Asian Studies</td>\n",
       "        <td>AN 0310</td>\n",
       "        <td>Asian Studies Seminar</td>\n",
       "        <td>3 Credits</td>\n",
       "        <td></td>\n",
       "        <td></td>\n",
       "        <td></td>\n",
       "        <td></td>\n",
       "        <td>This seminar examines selected topics concerning Asia. This course is taught in conjunction with another 100-300 level course from a rotation of course offerings. Consult the Asian Studies director to identify the conjoined course for a given semester. The seminar concentrates on topics within the parameters of the conjoined course syllabus but adds research emphasis. Students registered for this course must complete a research project, to include 300-level research, in addition to the regular research requirements of the conjoined course, and a 25-50 page term paper in substitution of some portion of the conjoined course requirements, as determined by the instructor. Open to juniors and seniors only.</td>\n",
       "    </tr>\n",
       "</table>"
      ],
      "text/plain": [
       "[('AN', 'Asian Studies', 'AN 0301', 'Independent Study', '1-3 Credits', '', '', '', '', 'Students undertake an individualized program of study in consultation with a director from the Asian studies faculty.'),\n",
       " ('AN', 'Asian Studies', 'AN 0310', 'Asian Studies Seminar', '3 Credits', '', '', '', '', 'This seminar examines selected topics concerning Asia. This course is taught in conjunction with another 100-300 level course from a rotation of cour ... (412 characters truncated) ... e term paper in substitution of some portion of the conjoined course requirements, as determined by the instructor. Open to juniors and seniors only.')]"
      ]
     },
     "execution_count": 115,
     "metadata": {},
     "output_type": "execute_result"
    }
   ],
   "source": [
    "%%sql\n",
    "/* *** data test *** */\n",
    "SELECT * FROM Import_CourseCatalog LIMIT 2;\n",
    "\n"
   ]
  },
  {
   "cell_type": "code",
   "execution_count": 116,
   "metadata": {},
   "outputs": [
    {
     "name": "stdout",
     "output_type": "stream",
     "text": [
      " * sqlite:///CourseData.db\n",
      "Done.\n"
     ]
    },
    {
     "data": {
      "text/html": [
       "<table>\n",
       "    <tr>\n",
       "        <th>term</th>\n",
       "        <th>crn</th>\n",
       "        <th>catalog_id</th>\n",
       "        <th>section</th>\n",
       "        <th>credits</th>\n",
       "        <th>title</th>\n",
       "        <th>meetings</th>\n",
       "        <th>timecodes</th>\n",
       "        <th>primary_instructor</th>\n",
       "        <th>cap</th>\n",
       "        <th>act</th>\n",
       "        <th>rem</th>\n",
       "    </tr>\n",
       "    <tr>\n",
       "        <td>Winter2015</td>\n",
       "        <td>10893</td>\n",
       "        <td>BI 0075</td>\n",
       "        <td>01</td>\n",
       "        <td>3.000</td>\n",
       "        <td>Ecology and Society</td>\n",
       "        <td>[]</td>\n",
       "        <td>[]</td>\n",
       "        <td>Thomas B.  Cunningham</td>\n",
       "        <td>20</td>\n",
       "        <td>22</td>\n",
       "        <td>-2</td>\n",
       "    </tr>\n",
       "    <tr>\n",
       "        <td>Winter2015</td>\n",
       "        <td>10894</td>\n",
       "        <td>CO 0100</td>\n",
       "        <td>01</td>\n",
       "        <td>3.000</td>\n",
       "        <td>Human Communication Theories</td>\n",
       "        <td>[]</td>\n",
       "        <td>[]</td>\n",
       "        <td>David   Gudelunas</td>\n",
       "        <td>20</td>\n",
       "        <td>14</td>\n",
       "        <td>6</td>\n",
       "    </tr>\n",
       "</table>"
      ],
      "text/plain": [
       "[('Winter2015', '10893', 'BI 0075', '01', '3.000', 'Ecology and Society', '[]', '[]', 'Thomas B.  Cunningham', '20', '22', '-2'),\n",
       " ('Winter2015', '10894', 'CO 0100', '01', '3.000', 'Human Communication Theories', '[]', '[]', 'David   Gudelunas', '20', '14', '6')]"
      ]
     },
     "execution_count": 116,
     "metadata": {},
     "output_type": "execute_result"
    }
   ],
   "source": [
    "%%sql\n",
    "/* *** data test*** */\n",
    "SELECT * FROM Import_Courses\n",
    "ORDER BY crn LIMIT 2;\n"
   ]
  },
  {
   "cell_type": "code",
   "execution_count": 117,
   "metadata": {},
   "outputs": [
    {
     "name": "stdout",
     "output_type": "stream",
     "text": [
      " * sqlite:///CourseData.db\n",
      "0 rows affected.\n",
      "84 rows affected.\n"
     ]
    },
    {
     "data": {
      "text/plain": [
       "[]"
      ]
     },
     "execution_count": 117,
     "metadata": {},
     "output_type": "execute_result"
    }
   ],
   "source": [
    "%%sql\n",
    "DELETE FROM PROGRAMS;\n",
    "INSERT INTO PROGRAMS (program_code, program_name)\n",
    "    SELECT DISTINCT program_code, program_name FROM Import_CourseCatalog\n",
    "    ORDER BY program_code;\n"
   ]
  },
  {
   "cell_type": "code",
   "execution_count": 118,
   "metadata": {},
   "outputs": [
    {
     "name": "stdout",
     "output_type": "stream",
     "text": [
      " * sqlite:///CourseData.db\n",
      "0 rows affected.\n",
      "1095 rows affected.\n"
     ]
    },
    {
     "data": {
      "text/plain": [
       "[]"
      ]
     },
     "execution_count": 118,
     "metadata": {},
     "output_type": "execute_result"
    }
   ],
   "source": [
    "%%sql\n",
    "DELETE FROM PROFESSORS;\n",
    "INSERT INTO PROFESSORS (name)\n",
    "    SELECT DISTINCT primary_instructor\n",
    "    FROM Import_Courses2\n",
    "    WHERE primary_instructor <> 'TBA' AND primary_instructor NOT LIKE '%/%';"
   ]
  },
  {
   "cell_type": "code",
   "execution_count": 71,
   "metadata": {},
   "outputs": [
    {
     "name": "stdout",
     "output_type": "stream",
     "text": [
      " * sqlite:///CourseData.db\n",
      "Done.\n"
     ]
    },
    {
     "data": {
      "text/html": [
       "<table>\n",
       "    <tr>\n",
       "        <th>term_id</th>\n",
       "        <th>term</th>\n",
       "    </tr>\n",
       "    <tr>\n",
       "        <td>1</td>\n",
       "        <td>Fall2014</td>\n",
       "    </tr>\n",
       "    <tr>\n",
       "        <td>2</td>\n",
       "        <td>Fall2015</td>\n",
       "    </tr>\n",
       "</table>"
      ],
      "text/plain": [
       "[(1, 'Fall2014'), (2, 'Fall2015')]"
      ]
     },
     "execution_count": 71,
     "metadata": {},
     "output_type": "execute_result"
    }
   ],
   "source": [
    "%%sql\n",
    "SELECT * FROM TERM_CATALOG LIMIT 2;"
   ]
  },
  {
   "cell_type": "code",
   "execution_count": 120,
   "metadata": {},
   "outputs": [
    {
     "name": "stdout",
     "output_type": "stream",
     "text": [
      " * sqlite:///CourseData.db\n",
      "0 rows affected.\n",
      "4440 rows affected.\n"
     ]
    },
    {
     "data": {
      "text/plain": [
       "[]"
      ]
     },
     "execution_count": 120,
     "metadata": {},
     "output_type": "execute_result"
    }
   ],
   "source": [
    "%%sql\n",
    "DELETE FROM COURSE_CATALOG;\n",
    "INSERT INTO COURSE_CATALOG (catalog_year,program_id,catalog_id,course_title,credits,prereqs,coreqs,fees,attributes,description)\n",
    "    SELECT DISTINCT C.calendaryear, P.program_id, C.catalog_id, C.course_title,C.credits,C.prereqs,C.coreqs,C.fees,C.attributes,C.description \n",
    "    FROM Import_CourseCatalog2 AS C\n",
    "    JOIN PROGRAMS AS P\n",
    "        USING(program_code);\n",
    "\n",
    "\n"
   ]
  },
  {
   "cell_type": "code",
   "execution_count": 123,
   "metadata": {},
   "outputs": [
    {
     "name": "stdout",
     "output_type": "stream",
     "text": [
      " * sqlite:///CourseData.db\n",
      "38 rows affected.\n",
      "38 rows affected.\n"
     ]
    },
    {
     "data": {
      "text/plain": [
       "[]"
      ]
     },
     "execution_count": 123,
     "metadata": {},
     "output_type": "execute_result"
    }
   ],
   "source": [
    "%%sql\n",
    "DELETE FROM TERM_CATALOG;\n",
    "INSERT INTO TERM_CATALOG (term,catalog_year)\n",
    "    SELECT DISTINCT term, C2.catalog_year\n",
    "    FROM Import_courses2\n",
    "    JOIN COURSE_CATALOG AS C2 USING (catalog_id)\n",
    "    \n",
    "    ORDER BY term;"
   ]
  },
  {
   "cell_type": "code",
   "execution_count": 42,
   "metadata": {},
   "outputs": [
    {
     "name": "stdout",
     "output_type": "stream",
     "text": [
      " * sqlite:///CourseData.db\n",
      "Done.\n"
     ]
    },
    {
     "data": {
      "text/html": [
       "<table>\n",
       "    <tr>\n",
       "        <th>cat_id</th>\n",
       "        <th>catalog_id</th>\n",
       "        <th>catalog_year</th>\n",
       "        <th>program_id</th>\n",
       "        <th>course_title</th>\n",
       "        <th>credits</th>\n",
       "        <th>prereqs</th>\n",
       "        <th>coreqs</th>\n",
       "        <th>fees</th>\n",
       "        <th>attributes</th>\n",
       "        <th>description</th>\n",
       "    </tr>\n",
       "    <tr>\n",
       "        <td>1</td>\n",
       "        <td>AN 0301</td>\n",
       "        <td>2017_2018</td>\n",
       "        <td>4</td>\n",
       "        <td>Independent Study</td>\n",
       "        <td>1-3 Credits</td>\n",
       "        <td>None</td>\n",
       "        <td>None</td>\n",
       "        <td>None</td>\n",
       "        <td>None</td>\n",
       "        <td>Students undertake an individualized program of study in consultation with a director from the Asian studies faculty.</td>\n",
       "    </tr>\n",
       "    <tr>\n",
       "        <td>2</td>\n",
       "        <td>AN 0310</td>\n",
       "        <td>2017_2018</td>\n",
       "        <td>4</td>\n",
       "        <td>Asian Studies Seminar</td>\n",
       "        <td>3 Credits</td>\n",
       "        <td>None</td>\n",
       "        <td>None</td>\n",
       "        <td>None</td>\n",
       "        <td>None</td>\n",
       "        <td>This seminar examines selected topics concerning Asia. This course is taught in conjunction with another 100-300 level course from a rotation of course offerings. Consult the Asian Studies director to identify the conjoined course for a given semester. The seminar concentrates on topics within the parameters of the conjoined course syllabus but adds research emphasis. Students registered for this course must complete a research project, to include 300-level research, in addition to the regular research requirements of the conjoined course, and a 25-50 page term paper in substitution of some portion of the conjoined course requirements, as determined by the instructor. Open to juniors and seniors only.</td>\n",
       "    </tr>\n",
       "</table>"
      ],
      "text/plain": [
       "[(1, 'AN 0301', '2017_2018', 4, 'Independent Study', '1-3 Credits', None, None, None, None, 'Students undertake an individualized program of study in consultation with a director from the Asian studies faculty.'),\n",
       " (2, 'AN 0310', '2017_2018', 4, 'Asian Studies Seminar', '3 Credits', None, None, None, None, 'This seminar examines selected topics concerning Asia. This course is taught in conjunction with another 100-300 level course from a rotation of cour ... (412 characters truncated) ... e term paper in substitution of some portion of the conjoined course requirements, as determined by the instructor. Open to juniors and seniors only.')]"
      ]
     },
     "execution_count": 42,
     "metadata": {},
     "output_type": "execute_result"
    }
   ],
   "source": [
    "%%sql\n",
    "SELECT * FROM COURSE_CATALOG LIMIT 2;"
   ]
  },
  {
   "cell_type": "code",
   "execution_count": 125,
   "metadata": {},
   "outputs": [
    {
     "name": "stdout",
     "output_type": "stream",
     "text": [
      " * sqlite:///CourseData.db\n",
      "0 rows affected.\n",
      "31874 rows affected.\n"
     ]
    },
    {
     "data": {
      "text/plain": [
       "[]"
      ]
     },
     "execution_count": 125,
     "metadata": {},
     "output_type": "execute_result"
    }
   ],
   "source": [
    "%%sql\n",
    "DELETE FROM COURSES;\n",
    "INSERT INTO COURSES (crn,catalog_id,term_id,section,professor_id,cap,act,rem)\n",
    "    SELECT DISTINCT C1.crn, COURSE_CATALOG.catalog_id,TERM_CATALOG.term_id,C1.section,C1.primary_instructor,C1.cap,C1.act,C1.rem\n",
    "    FROM  Import_Courses2 AS C1\n",
    "    LEFT JOIN PROFESSORS \n",
    "    ON C1.primary_instructor=PROFESSORS.name\n",
    "    LEFT JOIN TERM_CATALOG USING (term)\n",
    "    LEFT JOIN COURSE_CATALOG\n",
    "    ON C1.catalog_id = COURSE_CATALOG.catalog_id AND COURSE_CATALOG.catalog_year=TERM_CATALOG.catalog_year\n",
    "    ORDER BY crn;"
   ]
  },
  {
   "cell_type": "code",
   "execution_count": 127,
   "metadata": {},
   "outputs": [
    {
     "name": "stdout",
     "output_type": "stream",
     "text": [
      " * sqlite:///CourseData.db\n",
      "0 rows affected.\n",
      "(sqlite3.OperationalError) incomplete input\n",
      "[SQL: INSERT INTO COURSE_MEETINGS (crn,location,day,start,end)\n",
      "    SELECT DISTINCT COURSES.crn, C2.location,C2.day,C2.start,C2.end\n",
      "    FROM COURSES\n",
      "    JOIN Import_course_meetings AS C2\n",
      "    ON]\n",
      "(Background on this error at: http://sqlalche.me/e/e3q8)\n"
     ]
    }
   ],
   "source": [
    "%%sql\n",
    "DELETE FROM COURSE_MEETINGS;\n",
    "INSERT INTO COURSE_MEETINGS (crn,location,day,start,end)\n",
    "    SELECT DISTINCT COURSES.crn, C2.location,C2.day,C2.start,C2.end\n",
    "    FROM COURSES\n",
    "    JOIN Import_course_meetings AS C2\n",
    "    ON "
   ]
  },
  {
   "cell_type": "code",
   "execution_count": 78,
   "metadata": {},
   "outputs": [
    {
     "name": "stdout",
     "output_type": "stream",
     "text": [
      " * sqlite:///CourseData.db\n",
      "Done.\n"
     ]
    },
    {
     "data": {
      "text/html": [
       "<table>\n",
       "    <tr>\n",
       "        <th>term</th>\n",
       "        <th>crn</th>\n",
       "        <th>catalog_id</th>\n",
       "        <th>section</th>\n",
       "        <th>credits</th>\n",
       "        <th>title</th>\n",
       "        <th>meetings</th>\n",
       "        <th>timecodes</th>\n",
       "        <th>primary_instructor</th>\n",
       "        <th>cap</th>\n",
       "        <th>act</th>\n",
       "        <th>rem</th>\n",
       "    </tr>\n",
       "    <tr>\n",
       "        <td>Spring2015</td>\n",
       "        <td>32262</td>\n",
       "        <td>IL 0299</td>\n",
       "        <td>A</td>\n",
       "        <td>3.000</td>\n",
       "        <td>Independent Study</td>\n",
       "        <td>[{&#x27;days&#x27;: &#x27;TBA&#x27;, &#x27;times&#x27;: &#x27;0&#x27;, &#x27;dates&#x27;: &#x27;TBA&#x27;, &#x27;location&#x27;: &quot;IDEA Course Eval - NO and Int&#x27;l Studies Applied Course and Professional Studies BS and Prof Studies: Professions&quot;}]</td>\n",
       "        <td>[&quot;TBA 0 TBA IDEA Course Eval - NO and Int&#x27;l Studies Applied Course and Professional Studies BS and Prof Studies: Professions&quot;]</td>\n",
       "        <td>01/20-04/30</td>\n",
       "        <td>0</td>\n",
       "        <td>0</td>\n",
       "        <td>0</td>\n",
       "    </tr>\n",
       "    <tr>\n",
       "        <td>Spring2015</td>\n",
       "        <td>32930</td>\n",
       "        <td>CO 0570</td>\n",
       "        <td>01</td>\n",
       "        <td>3.000</td>\n",
       "        <td>Project Proposal</td>\n",
       "        <td>[{&#x27;days&#x27;: &#x27;TBA&#x27;, &#x27;times&#x27;: &#x27;0&#x27;, &#x27;dates&#x27;: &#x27;TBA&#x27;, &#x27;location&#x27;: &#x27;IDEA Course Eval - NO and Professional Studies BA and Prof Studies: Humanities and Prof Studies: Social Sciences&#x27;}]</td>\n",
       "        <td>[&#x27;TBA 0 TBA IDEA Course Eval - NO and Professional Studies BA and Prof Studies: Humanities and Prof Studies: Social Sciences&#x27;]</td>\n",
       "        <td>01/20-05/08</td>\n",
       "        <td>0</td>\n",
       "        <td>0</td>\n",
       "        <td>0</td>\n",
       "    </tr>\n",
       "    <tr>\n",
       "        <td>Spring2015</td>\n",
       "        <td>32527</td>\n",
       "        <td>CO 0571</td>\n",
       "        <td>01</td>\n",
       "        <td>3.000</td>\n",
       "        <td>Independent Project</td>\n",
       "        <td>[{&#x27;days&#x27;: &#x27;TBA&#x27;, &#x27;times&#x27;: &#x27;0&#x27;, &#x27;dates&#x27;: &#x27;TBA&#x27;, &#x27;location&#x27;: &#x27;IDEA Course Eval - NO&#x27;}]</td>\n",
       "        <td>[&#x27;TBA 0 TBA IDEA Course Eval - NO&#x27;]</td>\n",
       "        <td>01/20-05/08</td>\n",
       "        <td>0</td>\n",
       "        <td>0</td>\n",
       "        <td>0</td>\n",
       "    </tr>\n",
       "    <tr>\n",
       "        <td>Spring2015</td>\n",
       "        <td>34111</td>\n",
       "        <td>CO 0572</td>\n",
       "        <td>01</td>\n",
       "        <td>3.000</td>\n",
       "        <td>Continuing Project</td>\n",
       "        <td>[{&#x27;days&#x27;: &#x27;TBA&#x27;, &#x27;times&#x27;: &#x27;0&#x27;, &#x27;dates&#x27;: &#x27;TBA&#x27;, &#x27;location&#x27;: &#x27;IDEA Course Eval - NO&#x27;}]</td>\n",
       "        <td>[&#x27;TBA 0 TBA IDEA Course Eval - NO&#x27;]</td>\n",
       "        <td>01/20-05/08</td>\n",
       "        <td>0</td>\n",
       "        <td>0</td>\n",
       "        <td>0</td>\n",
       "    </tr>\n",
       "    <tr>\n",
       "        <td>Spring2015</td>\n",
       "        <td>32941</td>\n",
       "        <td>CO 0572</td>\n",
       "        <td>02</td>\n",
       "        <td>3.000</td>\n",
       "        <td>Continuing Project</td>\n",
       "        <td>[{&#x27;days&#x27;: &#x27;TBA&#x27;, &#x27;times&#x27;: &#x27;0&#x27;, &#x27;dates&#x27;: &#x27;TBA&#x27;, &#x27;location&#x27;: &#x27;IDEA Course Eval - NO&#x27;}]</td>\n",
       "        <td>[&#x27;TBA 0 TBA IDEA Course Eval - NO&#x27;]</td>\n",
       "        <td>01/20-05/08</td>\n",
       "        <td>0</td>\n",
       "        <td>0</td>\n",
       "        <td>0</td>\n",
       "    </tr>\n",
       "    <tr>\n",
       "        <td>Summer2018</td>\n",
       "        <td>58467</td>\n",
       "        <td>NS 0687F</td>\n",
       "        <td>01</td>\n",
       "        <td>1.000</td>\n",
       "        <td>DNP Immersion</td>\n",
       "        <td>[{&#x27;days&#x27;: &#x27;TBA&#x27;, &#x27;times&#x27;: &#x27;0&#x27;, &#x27;dates&#x27;: &#x27;TBA&#x27;, &#x27;location&#x27;: &#x27;IDEA Course Eval - NO&#x27;}]</td>\n",
       "        <td>[&#x27;TBA 0 TBA IDEA Course Eval - NO&#x27;]</td>\n",
       "        <td>05/21-08/17</td>\n",
       "        <td>1</td>\n",
       "        <td>-1</td>\n",
       "        <td>0</td>\n",
       "    </tr>\n",
       "    <tr>\n",
       "        <td>Fall2014</td>\n",
       "        <td>73278</td>\n",
       "        <td>IN 0214</td>\n",
       "        <td>01</td>\n",
       "        <td>3.000</td>\n",
       "        <td>Commercial Design</td>\n",
       "        <td>[{&#x27;days&#x27;: &#x27;TBA&#x27;, &#x27;times&#x27;: &#x27;10&#x27;, &#x27;dates&#x27;: &#x27;TBA&#x27;, &#x27;location&#x27;: &#x27;IDEA Course Eval - YES&#x27;}]</td>\n",
       "        <td>[&#x27;TBA 10 TBA IDEA Course Eval - YES&#x27;]</td>\n",
       "        <td>08/15-01/15</td>\n",
       "        <td>0</td>\n",
       "        <td>10</td>\n",
       "        <td>0</td>\n",
       "    </tr>\n",
       "    <tr>\n",
       "        <td>Fall2015</td>\n",
       "        <td>75192</td>\n",
       "        <td>MU 0088</td>\n",
       "        <td>B</td>\n",
       "        <td>1.000</td>\n",
       "        <td>Private Lessons: Violin</td>\n",
       "        <td>[{&#x27;days&#x27;: &#x27;TBA&#x27;, &#x27;times&#x27;: &#x27;0&#x27;, &#x27;dates&#x27;: &#x27;TBA&#x27;, &#x27;location&#x27;: &#x27;IDEA Course Eval - NO&#x27;}]</td>\n",
       "        <td>[&#x27;TBA 0 TBA IDEA Course Eval - NO&#x27;]</td>\n",
       "        <td>09/01-12/07</td>\n",
       "        <td>0</td>\n",
       "        <td>0</td>\n",
       "        <td>0</td>\n",
       "    </tr>\n",
       "    <tr>\n",
       "        <td>Fall2014</td>\n",
       "        <td>73239</td>\n",
       "        <td>QA 0400</td>\n",
       "        <td>02</td>\n",
       "        <td>3.000</td>\n",
       "        <td>Applied Business Statistics</td>\n",
       "        <td>[{&#x27;days&#x27;: &#x27;TBA&#x27;, &#x27;times&#x27;: &#x27;0&#x27;, &#x27;dates&#x27;: &#x27;TBA&#x27;, &#x27;location&#x27;: &#x27;IDEA Course Eval - YES&#x27;}]</td>\n",
       "        <td>[&#x27;TBA 0 TBA IDEA Course Eval - YES&#x27;]</td>\n",
       "        <td>09/02-12/19</td>\n",
       "        <td>0</td>\n",
       "        <td>0</td>\n",
       "        <td>999</td>\n",
       "    </tr>\n",
       "    <tr>\n",
       "        <td>Fall2014</td>\n",
       "        <td>73284</td>\n",
       "        <td>CN 0465</td>\n",
       "        <td>02</td>\n",
       "        <td>0.000</td>\n",
       "        <td>Introduction to Substance Abuse and Addictions</td>\n",
       "        <td>[{&#x27;days&#x27;: &#x27;TBA&#x27;, &#x27;times&#x27;: &#x27;1&#x27;, &#x27;dates&#x27;: &#x27;TBA&#x27;, &#x27;location&#x27;: &#x27;IDEA Course Eval - YES&#x27;}]</td>\n",
       "        <td>[&#x27;TBA 1 TBA IDEA Course Eval - YES&#x27;]</td>\n",
       "        <td>09/02-12/30</td>\n",
       "        <td>0</td>\n",
       "        <td>1</td>\n",
       "        <td>0</td>\n",
       "    </tr>\n",
       "</table>"
      ],
      "text/plain": [
       "[('Spring2015', 32262, 'IL 0299', 'A', '3.000', 'Independent Study', '[{\\'days\\': \\'TBA\\', \\'times\\': \\'0\\', \\'dates\\': \\'TBA\\', \\'location\\': \"IDEA Course Eval - NO and Int\\'l Studies Applied Course and Professional Studies BS and Prof Studies: Professions\"}]', '[\"TBA 0 TBA IDEA Course Eval - NO and Int\\'l Studies Applied Course and Professional Studies BS and Prof Studies: Professions\"]', '01/20-04/30', 0, 0, 0),\n",
       " ('Spring2015', 32930, 'CO 0570', '01', '3.000', 'Project Proposal', \"[{'days': 'TBA', 'times': '0', 'dates': 'TBA', 'location': 'IDEA Course Eval - NO and Professional Studies BA and Prof Studies: Humanities and Prof Studies: Social Sciences'}]\", \"['TBA 0 TBA IDEA Course Eval - NO and Professional Studies BA and Prof Studies: Humanities and Prof Studies: Social Sciences']\", '01/20-05/08', 0, 0, 0),\n",
       " ('Spring2015', 32527, 'CO 0571', '01', '3.000', 'Independent Project', \"[{'days': 'TBA', 'times': '0', 'dates': 'TBA', 'location': 'IDEA Course Eval - NO'}]\", \"['TBA 0 TBA IDEA Course Eval - NO']\", '01/20-05/08', 0, 0, 0),\n",
       " ('Spring2015', 34111, 'CO 0572', '01', '3.000', 'Continuing Project', \"[{'days': 'TBA', 'times': '0', 'dates': 'TBA', 'location': 'IDEA Course Eval - NO'}]\", \"['TBA 0 TBA IDEA Course Eval - NO']\", '01/20-05/08', 0, 0, 0),\n",
       " ('Spring2015', 32941, 'CO 0572', '02', '3.000', 'Continuing Project', \"[{'days': 'TBA', 'times': '0', 'dates': 'TBA', 'location': 'IDEA Course Eval - NO'}]\", \"['TBA 0 TBA IDEA Course Eval - NO']\", '01/20-05/08', 0, 0, 0),\n",
       " ('Summer2018', 58467, 'NS 0687F', '01', '1.000', 'DNP Immersion', \"[{'days': 'TBA', 'times': '0', 'dates': 'TBA', 'location': 'IDEA Course Eval - NO'}]\", \"['TBA 0 TBA IDEA Course Eval - NO']\", '05/21-08/17', 1, -1, 0),\n",
       " ('Fall2014', 73278, 'IN 0214', '01', '3.000', 'Commercial Design', \"[{'days': 'TBA', 'times': '10', 'dates': 'TBA', 'location': 'IDEA Course Eval - YES'}]\", \"['TBA 10 TBA IDEA Course Eval - YES']\", '08/15-01/15', 0, 10, 0),\n",
       " ('Fall2015', 75192, 'MU 0088', 'B', '1.000', 'Private Lessons: Violin', \"[{'days': 'TBA', 'times': '0', 'dates': 'TBA', 'location': 'IDEA Course Eval - NO'}]\", \"['TBA 0 TBA IDEA Course Eval - NO']\", '09/01-12/07', 0, 0, 0),\n",
       " ('Fall2014', 73239, 'QA 0400', '02', '3.000', 'Applied Business Statistics', \"[{'days': 'TBA', 'times': '0', 'dates': 'TBA', 'location': 'IDEA Course Eval - YES'}]\", \"['TBA 0 TBA IDEA Course Eval - YES']\", '09/02-12/19', 0, 0, 999),\n",
       " ('Fall2014', 73284, 'CN 0465', '02', '0.000', 'Introduction to Substance Abuse and Addictions', \"[{'days': 'TBA', 'times': '1', 'dates': 'TBA', 'location': 'IDEA Course Eval - YES'}]\", \"['TBA 1 TBA IDEA Course Eval - YES']\", '09/02-12/30', 0, 1, 0)]"
      ]
     },
     "execution_count": 78,
     "metadata": {},
     "output_type": "execute_result"
    }
   ],
   "source": [
    "%%sql \n",
    "SELECT * FROM Import_Courses2 \n",
    "ORDER BY \n",
    "primary_instructor\n",
    "LIMIT 10;"
   ]
  },
  {
   "cell_type": "code",
   "execution_count": null,
   "metadata": {},
   "outputs": [],
   "source": []
  }
 ],
 "metadata": {
  "kernelspec": {
   "display_name": "Python 3",
   "language": "python",
   "name": "python3"
  },
  "language_info": {
   "codemirror_mode": {
    "name": "ipython",
    "version": 3
   },
   "file_extension": ".py",
   "mimetype": "text/x-python",
   "name": "python",
   "nbconvert_exporter": "python",
   "pygments_lexer": "ipython3",
   "version": "3.6.7"
  }
 },
 "nbformat": 4,
 "nbformat_minor": 4
}
