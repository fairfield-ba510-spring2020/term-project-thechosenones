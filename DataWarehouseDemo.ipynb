{
 "cells": [
  {
   "cell_type": "code",
   "execution_count": 1,
   "metadata": {},
   "outputs": [],
   "source": [
    "%load_ext sql\n",
    "import pandas as pd\n",
    "import sqlite3"
   ]
  },
  {
   "cell_type": "code",
   "execution_count": 2,
   "metadata": {},
   "outputs": [
    {
     "data": {
      "text/plain": [
       "'Connected: @CourseDataWarehouse.db'"
      ]
     },
     "execution_count": 2,
     "metadata": {},
     "output_type": "execute_result"
    }
   ],
   "source": [
    "%sql sqlite:///CourseDataWarehouse.db"
   ]
  },
  {
   "cell_type": "code",
   "execution_count": 3,
   "metadata": {},
   "outputs": [
    {
     "name": "stdout",
     "output_type": "stream",
     "text": [
      " * sqlite:///CourseDataWarehouse.db\n",
      "Done.\n"
     ]
    },
    {
     "data": {
      "text/html": [
       "<table>\n",
       "    <tr>\n",
       "        <th>program_name</th>\n",
       "        <th>course_title</th>\n",
       "        <th>name</th>\n",
       "        <th>term</th>\n",
       "    </tr>\n",
       "    <tr>\n",
       "        <td>Accounting</td>\n",
       "        <td>Accounting Information Systems</td>\n",
       "        <td>Scott M  Brenner</td>\n",
       "        <td>Fall2017</td>\n",
       "    </tr>\n",
       "    <tr>\n",
       "        <td>Accounting</td>\n",
       "        <td>Accounting Information for Decision-Making</td>\n",
       "        <td>Michael P.  Coyne</td>\n",
       "        <td>Fall2017</td>\n",
       "    </tr>\n",
       "    <tr>\n",
       "        <td>Accounting</td>\n",
       "        <td>Advanced Accounting</td>\n",
       "        <td>Patricia M.  Poli</td>\n",
       "        <td>Fall2017</td>\n",
       "    </tr>\n",
       "    <tr>\n",
       "        <td>Accounting</td>\n",
       "        <td>Auditing</td>\n",
       "        <td>David L.  Glinka</td>\n",
       "        <td>Fall2017</td>\n",
       "    </tr>\n",
       "    <tr>\n",
       "        <td>Accounting</td>\n",
       "        <td>Auditing</td>\n",
       "        <td>Paul   Caster</td>\n",
       "        <td>Fall2017</td>\n",
       "    </tr>\n",
       "    <tr>\n",
       "        <td>Accounting</td>\n",
       "        <td>Cost Management</td>\n",
       "        <td>Bruce   Bradford</td>\n",
       "        <td>Fall2017</td>\n",
       "    </tr>\n",
       "    <tr>\n",
       "        <td>Accounting</td>\n",
       "        <td>Cost Management Lab</td>\n",
       "        <td>Bruce   Bradford</td>\n",
       "        <td>Fall2017</td>\n",
       "    </tr>\n",
       "    <tr>\n",
       "        <td>Accounting</td>\n",
       "        <td>Federal Income Taxation I</td>\n",
       "        <td>David J.  Orticelli</td>\n",
       "        <td>Fall2017</td>\n",
       "    </tr>\n",
       "    <tr>\n",
       "        <td>Accounting</td>\n",
       "        <td>Federal Income Taxation I</td>\n",
       "        <td>Jo Ann   Drusbosky</td>\n",
       "        <td>Fall2017</td>\n",
       "    </tr>\n",
       "    <tr>\n",
       "        <td>Accounting</td>\n",
       "        <td>Intermediate Accounting I</td>\n",
       "        <td>Milo W.  Peck</td>\n",
       "        <td>Fall2017</td>\n",
       "    </tr>\n",
       "</table>"
      ],
      "text/plain": [
       "[('Accounting', 'Accounting Information Systems', 'Scott M  Brenner', 'Fall2017'),\n",
       " ('Accounting', 'Accounting Information for Decision-Making', 'Michael P.  Coyne', 'Fall2017'),\n",
       " ('Accounting', 'Advanced Accounting', 'Patricia M.  Poli', 'Fall2017'),\n",
       " ('Accounting', 'Auditing', 'David L.  Glinka', 'Fall2017'),\n",
       " ('Accounting', 'Auditing', 'Paul   Caster', 'Fall2017'),\n",
       " ('Accounting', 'Cost Management', 'Bruce   Bradford', 'Fall2017'),\n",
       " ('Accounting', 'Cost Management Lab', 'Bruce   Bradford', 'Fall2017'),\n",
       " ('Accounting', 'Federal Income Taxation I', 'David J.  Orticelli', 'Fall2017'),\n",
       " ('Accounting', 'Federal Income Taxation I', 'Jo Ann   Drusbosky', 'Fall2017'),\n",
       " ('Accounting', 'Intermediate Accounting I', 'Milo W.  Peck', 'Fall2017')]"
      ]
     },
     "execution_count": 3,
     "metadata": {},
     "output_type": "execute_result"
    }
   ],
   "source": [
    "%%sql\n",
    "SELECT P1.program_name, C2.course_title,P.name, C.term\n",
    "FROM COURSE_MEETINGS_FACTS AS C\n",
    "LEFT JOIN PROFESSOR_DIMENSION AS P USING(professor_id)\n",
    "LEFT JOIN PROGRAMS_DIMENSION AS P1 USING(program_id)\n",
    "LEFT JOIN COURSE_CAT_DIMENSION AS C2 USING(cat_id)\n",
    "WHERE P1.program_code LIKE '%AC%' AND C.term LIKE '%Fall2017%'\n",
    "GROUP BY course_title, name\n",
    "LIMIT 10;"
   ]
  },
  {
   "cell_type": "code",
   "execution_count": 4,
   "metadata": {},
   "outputs": [
    {
     "name": "stdout",
     "output_type": "stream",
     "text": [
      " * sqlite:///CourseDataWarehouse.db\n",
      "Done.\n"
     ]
    },
    {
     "data": {
      "text/html": [
       "<table>\n",
       "    <tr>\n",
       "        <th>location</th>\n",
       "        <th>day</th>\n",
       "        <th>start</th>\n",
       "        <th>end</th>\n",
       "        <th>cap</th>\n",
       "    </tr>\n",
       "    <tr>\n",
       "        <td>DSB 111</td>\n",
       "        <td>R</td>\n",
       "        <td>2014-09-04T11:00:00</td>\n",
       "        <td>2014-09-04T12:15:00</td>\n",
       "        <td>0</td>\n",
       "    </tr>\n",
       "    <tr>\n",
       "        <td>DSB 111</td>\n",
       "        <td>M</td>\n",
       "        <td>2014-09-08T11:00:00</td>\n",
       "        <td>2014-09-08T12:15:00</td>\n",
       "        <td>0</td>\n",
       "    </tr>\n",
       "    <tr>\n",
       "        <td>DSB 111</td>\n",
       "        <td>R</td>\n",
       "        <td>2014-09-11T11:00:00</td>\n",
       "        <td>2014-09-11T12:15:00</td>\n",
       "        <td>0</td>\n",
       "    </tr>\n",
       "    <tr>\n",
       "        <td>DSB 111</td>\n",
       "        <td>M</td>\n",
       "        <td>2014-09-15T11:00:00</td>\n",
       "        <td>2014-09-15T12:15:00</td>\n",
       "        <td>0</td>\n",
       "    </tr>\n",
       "    <tr>\n",
       "        <td>DSB 111</td>\n",
       "        <td>R</td>\n",
       "        <td>2014-09-18T11:00:00</td>\n",
       "        <td>2014-09-18T12:15:00</td>\n",
       "        <td>0</td>\n",
       "    </tr>\n",
       "    <tr>\n",
       "        <td>DSB 111</td>\n",
       "        <td>M</td>\n",
       "        <td>2014-09-22T11:00:00</td>\n",
       "        <td>2014-09-22T12:15:00</td>\n",
       "        <td>0</td>\n",
       "    </tr>\n",
       "    <tr>\n",
       "        <td>DSB 111</td>\n",
       "        <td>R</td>\n",
       "        <td>2014-09-25T11:00:00</td>\n",
       "        <td>2014-09-25T12:15:00</td>\n",
       "        <td>0</td>\n",
       "    </tr>\n",
       "    <tr>\n",
       "        <td>DSB 111</td>\n",
       "        <td>M</td>\n",
       "        <td>2014-09-29T11:00:00</td>\n",
       "        <td>2014-09-29T12:15:00</td>\n",
       "        <td>0</td>\n",
       "    </tr>\n",
       "    <tr>\n",
       "        <td>DSB 111</td>\n",
       "        <td>R</td>\n",
       "        <td>2014-10-02T11:00:00</td>\n",
       "        <td>2014-10-02T12:15:00</td>\n",
       "        <td>0</td>\n",
       "    </tr>\n",
       "    <tr>\n",
       "        <td>DSB 111</td>\n",
       "        <td>M</td>\n",
       "        <td>2014-10-06T11:00:00</td>\n",
       "        <td>2014-10-06T12:15:00</td>\n",
       "        <td>0</td>\n",
       "    </tr>\n",
       "</table>"
      ],
      "text/plain": [
       "[('DSB 111', 'R', '2014-09-04T11:00:00', '2014-09-04T12:15:00', 0),\n",
       " ('DSB 111', 'M', '2014-09-08T11:00:00', '2014-09-08T12:15:00', 0),\n",
       " ('DSB 111', 'R', '2014-09-11T11:00:00', '2014-09-11T12:15:00', 0),\n",
       " ('DSB 111', 'M', '2014-09-15T11:00:00', '2014-09-15T12:15:00', 0),\n",
       " ('DSB 111', 'R', '2014-09-18T11:00:00', '2014-09-18T12:15:00', 0),\n",
       " ('DSB 111', 'M', '2014-09-22T11:00:00', '2014-09-22T12:15:00', 0),\n",
       " ('DSB 111', 'R', '2014-09-25T11:00:00', '2014-09-25T12:15:00', 0),\n",
       " ('DSB 111', 'M', '2014-09-29T11:00:00', '2014-09-29T12:15:00', 0),\n",
       " ('DSB 111', 'R', '2014-10-02T11:00:00', '2014-10-02T12:15:00', 0),\n",
       " ('DSB 111', 'M', '2014-10-06T11:00:00', '2014-10-06T12:15:00', 0)]"
      ]
     },
     "execution_count": 4,
     "metadata": {},
     "output_type": "execute_result"
    }
   ],
   "source": [
    "%%sql \n",
    "SELECT L.location, day, start, end, cap\n",
    "FROM COURSE_MEETINGS_FACTS\n",
    "LEFT JOIN LOCATION_DIMENSION AS L USING (location_id)\n",
    "WHERE L.location LIKE '%DSB 111%'\n",
    "LIMIT 10;"
   ]
  },
  {
   "cell_type": "code",
   "execution_count": 5,
   "metadata": {},
   "outputs": [
    {
     "name": "stdout",
     "output_type": "stream",
     "text": [
      " * sqlite:///CourseDataWarehouse.db\n",
      "Done.\n"
     ]
    },
    {
     "data": {
      "text/html": [
       "<table>\n",
       "    <tr>\n",
       "        <th>course_title</th>\n",
       "        <th>act</th>\n",
       "        <th>term</th>\n",
       "    </tr>\n",
       "    <tr>\n",
       "        <td>None</td>\n",
       "        <td>31</td>\n",
       "        <td>Fall2014</td>\n",
       "    </tr>\n",
       "    <tr>\n",
       "        <td>None</td>\n",
       "        <td>32</td>\n",
       "        <td>Fall2015</td>\n",
       "    </tr>\n",
       "    <tr>\n",
       "        <td>None</td>\n",
       "        <td>35</td>\n",
       "        <td>Fall2015</td>\n",
       "    </tr>\n",
       "    <tr>\n",
       "        <td>None</td>\n",
       "        <td>36</td>\n",
       "        <td>Fall2015</td>\n",
       "    </tr>\n",
       "    <tr>\n",
       "        <td>None</td>\n",
       "        <td>27</td>\n",
       "        <td>Fall2016</td>\n",
       "    </tr>\n",
       "    <tr>\n",
       "        <td>None</td>\n",
       "        <td>10</td>\n",
       "        <td>Fall2016</td>\n",
       "    </tr>\n",
       "    <tr>\n",
       "        <td>None</td>\n",
       "        <td>16</td>\n",
       "        <td>Fall2016</td>\n",
       "    </tr>\n",
       "    <tr>\n",
       "        <td>Introduction to Financial Accounting</td>\n",
       "        <td>30</td>\n",
       "        <td>Fall2017</td>\n",
       "    </tr>\n",
       "    <tr>\n",
       "        <td>Accounting Information for Decision-Making</td>\n",
       "        <td>16</td>\n",
       "        <td>Fall2017</td>\n",
       "    </tr>\n",
       "    <tr>\n",
       "        <td>Introduction to Financial Accounting</td>\n",
       "        <td>28</td>\n",
       "        <td>Fall2018</td>\n",
       "    </tr>\n",
       "</table>"
      ],
      "text/plain": [
       "[(None, 31, 'Fall2014'),\n",
       " (None, 32, 'Fall2015'),\n",
       " (None, 35, 'Fall2015'),\n",
       " (None, 36, 'Fall2015'),\n",
       " (None, 27, 'Fall2016'),\n",
       " (None, 10, 'Fall2016'),\n",
       " (None, 16, 'Fall2016'),\n",
       " ('Introduction to Financial Accounting', 30, 'Fall2017'),\n",
       " ('Accounting Information for Decision-Making', 16, 'Fall2017'),\n",
       " ('Introduction to Financial Accounting', 28, 'Fall2018')]"
      ]
     },
     "execution_count": 5,
     "metadata": {},
     "output_type": "execute_result"
    }
   ],
   "source": [
    "%%sql\n",
    "SELECT DISTINCT C1.course_title, c.act,c.term\n",
    "FROM COURSE_MEETINGS_FACTS AS C\n",
    "LEFT JOIN PROFESSOR_DIMENSION AS P USING (professor_id)\n",
    "LEFT JOIN COURSE_CAT_DIMENSION AS C1 USING (cat_id)\n",
    "WHERE P.name LIKE 'Michael P.  Coyne%'\n",
    "LIMIT 10;"
   ]
  },
  {
   "cell_type": "code",
   "execution_count": 6,
   "metadata": {},
   "outputs": [
    {
     "name": "stdout",
     "output_type": "stream",
     "text": [
      " * sqlite:///CourseDataWarehouse.db\n",
      "Done.\n"
     ]
    },
    {
     "data": {
      "text/html": [
       "<table>\n",
       "    <tr>\n",
       "        <th>catalog_id</th>\n",
       "        <th>act</th>\n",
       "        <th>term</th>\n",
       "    </tr>\n",
       "    <tr>\n",
       "        <td>TA 0253</td>\n",
       "        <td>2</td>\n",
       "        <td>Fall2017</td>\n",
       "    </tr>\n",
       "</table>"
      ],
      "text/plain": [
       "[('TA 0253', 2, 'Fall2017')]"
      ]
     },
     "execution_count": 6,
     "metadata": {},
     "output_type": "execute_result"
    }
   ],
   "source": [
    "%%sql \n",
    "SELECT DISTINCT C1.catalog_id, C.act, C.term\n",
    "FROM COURSE_MEETINGS_FACTS AS C\n",
    "LEFT JOIN COURSE_CAT_DIMENSION AS C1 USING (cat_id)\n",
    "WHERE C1.course_title LIKE '%Costume Design%'\n",
    "LIMIT 10;"
   ]
  },
  {
   "cell_type": "code",
   "execution_count": 7,
   "metadata": {},
   "outputs": [
    {
     "name": "stdout",
     "output_type": "stream",
     "text": [
      " * sqlite:///CourseDataWarehouse.db\n",
      "Done.\n"
     ]
    },
    {
     "data": {
      "text/html": [
       "<table>\n",
       "    <tr>\n",
       "        <th>crn</th>\n",
       "        <th>course_title</th>\n",
       "        <th>Professor</th>\n",
       "        <th>term</th>\n",
       "    </tr>\n",
       "    <tr>\n",
       "        <td>74015</td>\n",
       "        <td>Texts and Contexts I: Writing as Craft and Inquiry</td>\n",
       "        <td>Christopher Grant  Madden</td>\n",
       "        <td>Fall2018</td>\n",
       "    </tr>\n",
       "    <tr>\n",
       "        <td>74027</td>\n",
       "        <td>Texts and Contexts I: Writing as Craft and Inquiry</td>\n",
       "        <td>Christopher   DiBiase</td>\n",
       "        <td>Fall2018</td>\n",
       "    </tr>\n",
       "    <tr>\n",
       "        <td>74314</td>\n",
       "        <td>Texts and Contexts I: Writing as Craft and Inquiry</td>\n",
       "        <td>Christopher Grant  Madden</td>\n",
       "        <td>Fall2018</td>\n",
       "    </tr>\n",
       "    <tr>\n",
       "        <td>74317</td>\n",
       "        <td>Texts and Contexts I: Writing as Craft and Inquiry</td>\n",
       "        <td>Christopher   DiBiase</td>\n",
       "        <td>Fall2018</td>\n",
       "    </tr>\n",
       "    <tr>\n",
       "        <td>74413</td>\n",
       "        <td>Texts and Contexts I: Writing as Craft and Inquiry</td>\n",
       "        <td>Christopher   DiBiase</td>\n",
       "        <td>Fall2018</td>\n",
       "    </tr>\n",
       "    <tr>\n",
       "        <td>74287</td>\n",
       "        <td>Elementary Italian I</td>\n",
       "        <td>Federica   Christopher</td>\n",
       "        <td>Fall2018</td>\n",
       "    </tr>\n",
       "    <tr>\n",
       "        <td>74288</td>\n",
       "        <td>Elementary Italian I</td>\n",
       "        <td>Federica   Christopher</td>\n",
       "        <td>Fall2018</td>\n",
       "    </tr>\n",
       "    <tr>\n",
       "        <td>74289</td>\n",
       "        <td>Elementary Italian I</td>\n",
       "        <td>Federica   Christopher</td>\n",
       "        <td>Fall2018</td>\n",
       "    </tr>\n",
       "    <tr>\n",
       "        <td>75155</td>\n",
       "        <td>Concepts of Calculus</td>\n",
       "        <td>Christopher R.  Bernhardt</td>\n",
       "        <td>Fall2018</td>\n",
       "    </tr>\n",
       "    <tr>\n",
       "        <td>75858</td>\n",
       "        <td>Concepts of Calculus</td>\n",
       "        <td>Christopher R.  Bernhardt</td>\n",
       "        <td>Fall2018</td>\n",
       "    </tr>\n",
       "    <tr>\n",
       "        <td>74977</td>\n",
       "        <td>Applied Calculus I</td>\n",
       "        <td>Christopher   Staecker</td>\n",
       "        <td>Fall2018</td>\n",
       "    </tr>\n",
       "    <tr>\n",
       "        <td>74810</td>\n",
       "        <td>Functional Programming</td>\n",
       "        <td>Christopher   Staecker</td>\n",
       "        <td>Fall2018</td>\n",
       "    </tr>\n",
       "    <tr>\n",
       "        <td>75487</td>\n",
       "        <td>Calculus I</td>\n",
       "        <td>Christopher R.  Bernhardt</td>\n",
       "        <td>Fall2018</td>\n",
       "    </tr>\n",
       "    <tr>\n",
       "        <td>74980</td>\n",
       "        <td>Real Analysis</td>\n",
       "        <td>Christopher   Staecker</td>\n",
       "        <td>Fall2018</td>\n",
       "    </tr>\n",
       "    <tr>\n",
       "        <td>74215</td>\n",
       "        <td>Operations Management</td>\n",
       "        <td>Christopher L.  Huntley</td>\n",
       "        <td>Fall2018</td>\n",
       "    </tr>\n",
       "    <tr>\n",
       "        <td>74216</td>\n",
       "        <td>Operations Management</td>\n",
       "        <td>Christopher L.  Huntley</td>\n",
       "        <td>Fall2018</td>\n",
       "    </tr>\n",
       "</table>"
      ],
      "text/plain": [
       "[('74015', 'Texts and Contexts I: Writing as Craft and Inquiry', 'Christopher Grant  Madden', 'Fall2018'),\n",
       " ('74027', 'Texts and Contexts I: Writing as Craft and Inquiry', 'Christopher   DiBiase', 'Fall2018'),\n",
       " ('74314', 'Texts and Contexts I: Writing as Craft and Inquiry', 'Christopher Grant  Madden', 'Fall2018'),\n",
       " ('74317', 'Texts and Contexts I: Writing as Craft and Inquiry', 'Christopher   DiBiase', 'Fall2018'),\n",
       " ('74413', 'Texts and Contexts I: Writing as Craft and Inquiry', 'Christopher   DiBiase', 'Fall2018'),\n",
       " ('74287', 'Elementary Italian I', 'Federica   Christopher', 'Fall2018'),\n",
       " ('74288', 'Elementary Italian I', 'Federica   Christopher', 'Fall2018'),\n",
       " ('74289', 'Elementary Italian I', 'Federica   Christopher', 'Fall2018'),\n",
       " ('75155', 'Concepts of Calculus', 'Christopher R.  Bernhardt', 'Fall2018'),\n",
       " ('75858', 'Concepts of Calculus', 'Christopher R.  Bernhardt', 'Fall2018'),\n",
       " ('74977', 'Applied Calculus I', 'Christopher   Staecker', 'Fall2018'),\n",
       " ('74810', 'Functional Programming', 'Christopher   Staecker', 'Fall2018'),\n",
       " ('75487', 'Calculus I', 'Christopher R.  Bernhardt', 'Fall2018'),\n",
       " ('74980', 'Real Analysis', 'Christopher   Staecker', 'Fall2018'),\n",
       " ('74215', 'Operations Management', 'Christopher L.  Huntley', 'Fall2018'),\n",
       " ('74216', 'Operations Management', 'Christopher L.  Huntley', 'Fall2018')]"
      ]
     },
     "execution_count": 7,
     "metadata": {},
     "output_type": "execute_result"
    }
   ],
   "source": [
    "%%sql\n",
    "SELECT DISTINCT C2.crn,C1.course_title, P.name AS 'Professor', C.term\n",
    "FROM COURSE_MEETINGS_FACTS AS C\n",
    "JOIN COURSE_CAT_DIMENSION AS C1 USING (cat_id)\n",
    "JOIN PROFESSOR_DIMENSION AS P USING (professor_id)\n",
    "JOIN COURSES_DIMENSION AS C2 USING (course_dimension_id)\n",
    "WHERE C.term LIKE '%Fall2018%' AND P.name LIKE '%Christopher%'\n",
    "LIMIT 100;"
   ]
  },
  {
   "cell_type": "code",
   "execution_count": null,
   "metadata": {},
   "outputs": [],
   "source": []
  }
 ],
 "metadata": {
  "kernelspec": {
   "display_name": "Python 3",
   "language": "python",
   "name": "python3"
  },
  "language_info": {
   "codemirror_mode": {
    "name": "ipython",
    "version": 3
   },
   "file_extension": ".py",
   "mimetype": "text/x-python",
   "name": "python",
   "nbconvert_exporter": "python",
   "pygments_lexer": "ipython3",
   "version": "3.6.7"
  }
 },
 "nbformat": 4,
 "nbformat_minor": 4
}
