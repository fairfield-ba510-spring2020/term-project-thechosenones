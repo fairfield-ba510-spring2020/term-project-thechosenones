{
 "cells": [
  {
   "cell_type": "code",
   "execution_count": 1,
   "metadata": {},
   "outputs": [],
   "source": [
    "%load_ext sql\n",
    "import pandas as pd\n",
    "import sqlite3"
   ]
  },
  {
   "cell_type": "code",
   "execution_count": 2,
   "metadata": {},
   "outputs": [
    {
     "data": {
      "text/plain": [
       "'Connected: @CourseData.db'"
      ]
     },
     "execution_count": 2,
     "metadata": {},
     "output_type": "execute_result"
    }
   ],
   "source": [
    "%sql sqlite:///CourseData.db"
   ]
  },
  {
   "cell_type": "code",
   "execution_count": 3,
   "metadata": {},
   "outputs": [
    {
     "name": "stdout",
     "output_type": "stream",
     "text": [
      " * sqlite:///CourseData.db\n",
      "Done.\n",
      "Done.\n",
      "Done.\n",
      "Done.\n",
      "Done.\n",
      "Done.\n",
      "Done.\n",
      "Done.\n",
      "Done.\n",
      "Done.\n",
      "Done.\n",
      "Done.\n"
     ]
    },
    {
     "data": {
      "text/plain": [
       "[]"
      ]
     },
     "execution_count": 3,
     "metadata": {},
     "output_type": "execute_result"
    }
   ],
   "source": [
    "%%sql\n",
    "\n",
    "DROP TABLE IF EXISTS COURSE_CATALOG;\n",
    "CREATE TABLE COURSE_CATALOG (\n",
    "    cat_id INTEGER NOT NULL PRIMARY KEY,\n",
    "    catalog_id TEXT,\n",
    "    catalog_year INTEGER,\n",
    "    program_id INTEGER NOT NULL,\n",
    "    course_title TEXT NOT NULL,\n",
    "    credits INTEGER NOT NULL,\n",
    "    prereqs TEXT,\n",
    "    coreqs TEXT,\n",
    "    fees TEXT,\n",
    "    attributes TEXT,\n",
    "    description TEXT,\n",
    "FOREIGN KEY (program_id) REFERENCES PROGRAMS(program_id));\n",
    "DROP TABLE IF EXISTS PROGRAMS;\n",
    "CREATE TABLE PROGRAMS (\n",
    "    program_id INTEGER NOT NULL PRIMARY KEY,\n",
    "    program_code TEXT NOT NULL, \n",
    "    program_name TEXT NOT NULL);\n",
    "/* ***    FOREIGN KEY (program_code) REFERENCES COURSE_CATALOG(program_code));*** */\n",
    "DROP TABLE IF EXISTS COURSES;\n",
    "CREATE TABLE COURSES (\n",
    "    course_id INTEGER NOT NULL PRIMARY KEY,\n",
    "    crn TEXT,\n",
    "    catalog_id TEXT,\n",
    "    term_id TEXT,\n",
    "    section INTEGER,\n",
    "    professor_id TEXT,\n",
    "    cap INTEGER,\n",
    "    act INTEGER,\n",
    "    rem INTEGER,\n",
    "    FOREIGN KEY (catalog_id) REFERENCES COURSE_CATALOG(catalog_id));\n",
    "DROP TABLE IF EXISTS COURSE_MEETINGS;\n",
    "CREATE TABLE COURSE_MEETINGS (\n",
    "    crn INTEGER NOT NULL PRIMARY KEY,\n",
    "    location TEXT NOT NULL,\n",
    "    day TEXT NOT NULL,\n",
    "    start TEXT NOT NULL,\n",
    "    end TEXT NOT NULL,\n",
    "    FOREIGN KEY (crn) REFERENCES COURSES (crn));\n",
    "DROP TABLE IF EXISTS PROFESSORS;\n",
    "CREATE TABLE PROFESSORS (\n",
    "    professor_id INTEGER NOT NULL PRIMARY KEY,\n",
    "    name TEXT);\n",
    "DROP TABLE IF EXISTS TERM_CATALOG;\n",
    "CREATE TABLE TERM_CATALOG (\n",
    "    term_id INTEGER NOT NULL PRIMARY KEY,\n",
    "    term TEXT,\n",
    "    catalog_year TEXT);\n",
    "    "
   ]
  },
  {
   "cell_type": "markdown",
   "metadata": {},
   "source": [
    "Used the following protocol to load the source data into tables:\n",
    "Open a new Git Terminal\n",
    "> sqlite3 CourseData.db\n",
    "> .mode csv\n",
    "> .import CourseCatalog2017_2018.csv Import_CourseCatalog\n",
    "> .import CourseCatalog2018_2019.csv Import_CourseCatalog\n",
    "> .import course_meetings_fall2014.csv Import_course_meetings\n",
    "> .import course_meetings_fall2015.csv Import_course_meetings\n",
    "> .import course_meetings_fall2016.csv Import_course_meetings\n",
    "> .import course_meetings_fall2017.csv Import_course_meetings\n",
    "> .import course_meetings_fall2018.csv Import_course_meetings\n",
    "> .import course_meetings_spring2015.csv Import_course_meetings\n",
    "> .import course_meetings_spring2016.csv Import_course_meetings\n",
    "> .import course_meetings_spring2017.csv Import_course_meetings\n",
    "> .import course_meetings_spring2018.csv Import_course_meetings\n",
    "> .import course_meetings_spring2019.csv Import_course_meetings\n",
    "> .import course_meetings_springbreak2017.csv Import_course_meetings\n",
    "> .import course_meetings_summer2015.csv Import_course_meetings\n",
    "> .import course_meetings_summer2016.csv Import_course_meetings\n",
    "> .import course_meetings_summer2017.csv Import_course_meetings\n",
    "> .import course_meetings_summer2018.csv Import_course_meetings\n",
    "> .import course_meetings_winter2015.csv Import_course_meetings\n",
    "> .import course_meetings_winter2016.csv Import_course_meetings\n",
    "> .import course_meetings_winter2017.csv Import_course_meetings\n",
    "> .import course_meetings_winter2018.csv Import_course_meetings\n",
    "> \n",
    "> .import courses_fall2014.csv Import_courses\n",
    "> .import courses_fall2015.csv Import_courses\n",
    "> .import courses_fall2016.csv Import_courses\n",
    "> .import courses_fall2017.csv Import_courses\n",
    "> .import courses_fall2018.csv Import_courses\n",
    "> .import courses_spring2015.csv Import_courses\n",
    "> .import courses_spring2016.csv Import_courses\n",
    "> .import courses_spring2017.csv Import_courses\n",
    "> .import courses_spring2018.csv Import_courses\n",
    "> .import courses_spring2019.csv Import_courses\n",
    "> .import courses_springbreak2017.csv Import_courses\n",
    "> .import courses_summer2015.csv Import_courses\n",
    "> .import courses_summer2016.csv Import_courses\n",
    "> .import courses_summer2017.csv Import_courses\n",
    "> .import courses_summer2018.csv Import_courses\n",
    "> .import courses_winter2015.csv Import_courses\n",
    "> .import courses_winter2016.csv Import_courses\n",
    "> .import courses_winter2017.csv Import_courses\n",
    "> .import courses_winter2018.csv Import_courses"
   ]
  },
  {
   "cell_type": "code",
   "execution_count": 4,
   "metadata": {},
   "outputs": [
    {
     "name": "stdout",
     "output_type": "stream",
     "text": [
      " * sqlite:///CourseData.db\n",
      "Done.\n",
      "Done.\n",
      "Done.\n"
     ]
    },
    {
     "data": {
      "text/plain": [
       "[]"
      ]
     },
     "execution_count": 4,
     "metadata": {},
     "output_type": "execute_result"
    }
   ],
   "source": [
    "%%sql\n",
    "DROP TABLE IF EXISTS Import_Courses2;\n",
    "DROP TABLE IF EXISTS Import_CourseCatalog2;\n",
    "DROP TABLE IF EXISTS Import_Course_Meetings2;"
   ]
  },
  {
   "cell_type": "code",
   "execution_count": 5,
   "metadata": {},
   "outputs": [],
   "source": [
    "from sqlalchemy import create_engine\n",
    "engine = create_engine('sqlite:///CourseData.db', echo=False)"
   ]
  },
  {
   "cell_type": "code",
   "execution_count": 6,
   "metadata": {},
   "outputs": [],
   "source": [
    "calendaryears = ['2017_2018','2018_2019']\n",
    "\n",
    "for calendaryear in calendaryears:\n",
    "    filepath = 'SourceData/Catalogs/CourseCatalog'+calendaryear+'.csv'\n",
    "    data=pd.read_csv(filepath)\n",
    "    data['calendaryear'] = calendaryear\n",
    "    data.to_sql('Import_CourseCatalog2',con=engine,if_exists='append',index=False)"
   ]
  },
  {
   "cell_type": "code",
   "execution_count": 7,
   "metadata": {},
   "outputs": [],
   "source": [
    "#it was pointed out in class that the above can be done programatically rather than manually\n",
    "\n",
    "#for the courses and course meeting imports:\n",
    "\n",
    "\n",
    "\n",
    "terms = ['Fall2014','Fall2015','Fall2016','Fall2017','Fall2018',\n",
    "         'Spring2015','Spring2016','Spring2017','Spring2018','Spring2019','SpringBreak2017',\n",
    "         'Summer2015','Summer2016','Summer2017','Summer2018',\n",
    "          'Winter2015','Winter2016','Winter2017','Winter2018']\n",
    "\n",
    "for term in terms:\n",
    "    filepath = 'SourceData/'+term+'/courses.csv'\n",
    "    data=pd.read_csv(filepath)\n",
    "    data.to_sql('Import_Courses2',con=engine,if_exists='append',index=False)\n",
    "\n",
    "    filepath = 'SourceData/'+term+'/course_meetings.csv'\n",
    "    data=pd.read_csv(filepath)\n",
    "    data.to_sql('Import_Course_Meetings2',con=engine,if_exists='append',index=False)"
   ]
  },
  {
   "cell_type": "code",
   "execution_count": 8,
   "metadata": {},
   "outputs": [
    {
     "name": "stdout",
     "output_type": "stream",
     "text": [
      " * sqlite:///CourseData.db\n",
      "Done.\n"
     ]
    },
    {
     "data": {
      "text/html": [
       "<table>\n",
       "    <tr>\n",
       "        <th>COUNTALL</th>\n",
       "        <th>DISTINCT</th>\n",
       "    </tr>\n",
       "    <tr>\n",
       "        <td>4440</td>\n",
       "        <td>4440</td>\n",
       "    </tr>\n",
       "</table>"
      ],
      "text/plain": [
       "[(4440, 4440)]"
      ]
     },
     "execution_count": 8,
     "metadata": {},
     "output_type": "execute_result"
    }
   ],
   "source": [
    "%%sql\n",
    "/* *** data validation for CourseCatalog2 Imports*** */\n",
    "SELECT\n",
    "    (SELECT COUNT(*) FROM Import_CourseCatalog2) AS 'COUNTALL',\n",
    "    (SELECT COUNT(*) FROM (SELECT DISTINCT * FROM Import_CourseCatalog2)) AS 'DISTINCT';"
   ]
  },
  {
   "cell_type": "code",
   "execution_count": 9,
   "metadata": {},
   "outputs": [
    {
     "name": "stdout",
     "output_type": "stream",
     "text": [
      " * sqlite:///CourseData.db\n",
      "Done.\n"
     ]
    },
    {
     "data": {
      "text/html": [
       "<table>\n",
       "    <tr>\n",
       "        <th>COUNTALL</th>\n",
       "        <th>DISTINCT</th>\n",
       "    </tr>\n",
       "    <tr>\n",
       "        <td>15937</td>\n",
       "        <td>15937</td>\n",
       "    </tr>\n",
       "</table>"
      ],
      "text/plain": [
       "[(15937, 15937)]"
      ]
     },
     "execution_count": 9,
     "metadata": {},
     "output_type": "execute_result"
    }
   ],
   "source": [
    "%%sql\n",
    "/* *** data validation for Courses2 Imports*** */\n",
    "SELECT\n",
    "    (SELECT COUNT(*) FROM Import_Courses2) AS 'COUNTALL',\n",
    "    (SELECT COUNT(*) FROM (SELECT DISTINCT * FROM Import_Courses2)) AS 'DISTINCT';"
   ]
  },
  {
   "cell_type": "code",
   "execution_count": 10,
   "metadata": {},
   "outputs": [
    {
     "name": "stdout",
     "output_type": "stream",
     "text": [
      " * sqlite:///CourseData.db\n",
      "Done.\n"
     ]
    },
    {
     "data": {
      "text/html": [
       "<table>\n",
       "    <tr>\n",
       "        <th>COUNTALL</th>\n",
       "        <th>DISTINCT</th>\n",
       "    </tr>\n",
       "    <tr>\n",
       "        <td>284907</td>\n",
       "        <td>284847</td>\n",
       "    </tr>\n",
       "</table>"
      ],
      "text/plain": [
       "[(284907, 284847)]"
      ]
     },
     "execution_count": 10,
     "metadata": {},
     "output_type": "execute_result"
    }
   ],
   "source": [
    "%%sql\n",
    "/* *** data validation for Course_Meetings2 Imports*** */\n",
    "SELECT\n",
    "    (SELECT COUNT(*) FROM Import_Course_Meetings2) AS 'COUNTALL',\n",
    "    (SELECT COUNT(*) FROM (SELECT DISTINCT * FROM Import_Course_Meetings2)) AS 'DISTINCT';"
   ]
  },
  {
   "cell_type": "markdown",
   "metadata": {},
   "source": [
    "%%sql\n",
    "/* *** This entire cell is markdown as obsolete but kept for future reference*** */\n",
    "/* *** THIS CODE WAS CREATED TO CLEAN UP THE IMPORT TABLE.  IT'S SUSPECTED THAT IMPORT_COURSES HAD DUPLICATE CRN, CAUSING INTEGRITY ISSUES*** */\n",
    "DROP TABLE IF EXISTS Import_courses2;\n",
    "CREATE TABLE Import_courses2 (\n",
    "    crn TEXT,\n",
    "    term TEXT,\n",
    "    catalog_id TEXT,\n",
    "    section TEXT,\n",
    "    credits TEXT,\n",
    "    title TEXT,\n",
    "    meetings TEXT,\n",
    "    timecodes TEXT,\n",
    "    primary_instructor TEXT,\n",
    "    cap INTEGER,\n",
    "    act INTEGER,\n",
    "    rem INTEGER);\n",
    "INSERT INTO Import_courses2 (crn,term,catalog_id,section,credits,title,meetings,timecodes,primary_instructor,cap,act,rem)\n",
    "    SELECT DISTINCT crn, term,catalog_id,section,credits,title,meetings,timecodes,primary_instructor,cap,act,rem FROM Import_courses;"
   ]
  },
  {
   "cell_type": "code",
   "execution_count": 11,
   "metadata": {},
   "outputs": [
    {
     "name": "stdout",
     "output_type": "stream",
     "text": [
      " * sqlite:///CourseData.db\n",
      "Done.\n"
     ]
    },
    {
     "data": {
      "text/html": [
       "<table>\n",
       "    <tr>\n",
       "        <th>program_code</th>\n",
       "        <th>program_name</th>\n",
       "        <th>catalog_id</th>\n",
       "        <th>course_title</th>\n",
       "        <th>credits</th>\n",
       "        <th>prereqs</th>\n",
       "        <th>coreqs</th>\n",
       "        <th>fees</th>\n",
       "        <th>attributes</th>\n",
       "        <th>description</th>\n",
       "    </tr>\n",
       "    <tr>\n",
       "        <td>AN</td>\n",
       "        <td>Asian Studies</td>\n",
       "        <td>AN 0301</td>\n",
       "        <td>Independent Study</td>\n",
       "        <td>1-3 Credits</td>\n",
       "        <td></td>\n",
       "        <td></td>\n",
       "        <td></td>\n",
       "        <td></td>\n",
       "        <td>Students undertake an individualized program of study in consultation with a director from the Asian studies faculty.</td>\n",
       "    </tr>\n",
       "    <tr>\n",
       "        <td>AN</td>\n",
       "        <td>Asian Studies</td>\n",
       "        <td>AN 0310</td>\n",
       "        <td>Asian Studies Seminar</td>\n",
       "        <td>3 Credits</td>\n",
       "        <td></td>\n",
       "        <td></td>\n",
       "        <td></td>\n",
       "        <td></td>\n",
       "        <td>This seminar examines selected topics concerning Asia. This course is taught in conjunction with another 100-300 level course from a rotation of course offerings. Consult the Asian Studies director to identify the conjoined course for a given semester. The seminar concentrates on topics within the parameters of the conjoined course syllabus but adds research emphasis. Students registered for this course must complete a research project, to include 300-level research, in addition to the regular research requirements of the conjoined course, and a 25-50 page term paper in substitution of some portion of the conjoined course requirements, as determined by the instructor. Open to juniors and seniors only.</td>\n",
       "    </tr>\n",
       "</table>"
      ],
      "text/plain": [
       "[('AN', 'Asian Studies', 'AN 0301', 'Independent Study', '1-3 Credits', '', '', '', '', 'Students undertake an individualized program of study in consultation with a director from the Asian studies faculty.'),\n",
       " ('AN', 'Asian Studies', 'AN 0310', 'Asian Studies Seminar', '3 Credits', '', '', '', '', 'This seminar examines selected topics concerning Asia. This course is taught in conjunction with another 100-300 level course from a rotation of cour ... (412 characters truncated) ... e term paper in substitution of some portion of the conjoined course requirements, as determined by the instructor. Open to juniors and seniors only.')]"
      ]
     },
     "execution_count": 11,
     "metadata": {},
     "output_type": "execute_result"
    }
   ],
   "source": [
    "%%sql\n",
    "/* *** data test *** */\n",
    "SELECT * FROM Import_CourseCatalog LIMIT 2;\n",
    "\n"
   ]
  },
  {
   "cell_type": "code",
   "execution_count": 12,
   "metadata": {},
   "outputs": [
    {
     "name": "stdout",
     "output_type": "stream",
     "text": [
      " * sqlite:///CourseData.db\n",
      "Done.\n"
     ]
    },
    {
     "data": {
      "text/html": [
       "<table>\n",
       "    <tr>\n",
       "        <th>term</th>\n",
       "        <th>crn</th>\n",
       "        <th>catalog_id</th>\n",
       "        <th>section</th>\n",
       "        <th>credits</th>\n",
       "        <th>title</th>\n",
       "        <th>meetings</th>\n",
       "        <th>timecodes</th>\n",
       "        <th>primary_instructor</th>\n",
       "        <th>cap</th>\n",
       "        <th>act</th>\n",
       "        <th>rem</th>\n",
       "    </tr>\n",
       "    <tr>\n",
       "        <td>Winter2015</td>\n",
       "        <td>10893</td>\n",
       "        <td>BI 0075</td>\n",
       "        <td>01</td>\n",
       "        <td>3.000</td>\n",
       "        <td>Ecology and Society</td>\n",
       "        <td>[]</td>\n",
       "        <td>[]</td>\n",
       "        <td>Thomas B.  Cunningham</td>\n",
       "        <td>20</td>\n",
       "        <td>22</td>\n",
       "        <td>-2</td>\n",
       "    </tr>\n",
       "    <tr>\n",
       "        <td>Winter2015</td>\n",
       "        <td>10894</td>\n",
       "        <td>CO 0100</td>\n",
       "        <td>01</td>\n",
       "        <td>3.000</td>\n",
       "        <td>Human Communication Theories</td>\n",
       "        <td>[]</td>\n",
       "        <td>[]</td>\n",
       "        <td>David   Gudelunas</td>\n",
       "        <td>20</td>\n",
       "        <td>14</td>\n",
       "        <td>6</td>\n",
       "    </tr>\n",
       "</table>"
      ],
      "text/plain": [
       "[('Winter2015', '10893', 'BI 0075', '01', '3.000', 'Ecology and Society', '[]', '[]', 'Thomas B.  Cunningham', '20', '22', '-2'),\n",
       " ('Winter2015', '10894', 'CO 0100', '01', '3.000', 'Human Communication Theories', '[]', '[]', 'David   Gudelunas', '20', '14', '6')]"
      ]
     },
     "execution_count": 12,
     "metadata": {},
     "output_type": "execute_result"
    }
   ],
   "source": [
    "%%sql\n",
    "/* *** data test*** */\n",
    "SELECT * FROM Import_Courses\n",
    "ORDER BY crn LIMIT 2;\n"
   ]
  },
  {
   "cell_type": "code",
   "execution_count": 13,
   "metadata": {},
   "outputs": [
    {
     "name": "stdout",
     "output_type": "stream",
     "text": [
      " * sqlite:///CourseData.db\n",
      "0 rows affected.\n",
      "84 rows affected.\n"
     ]
    },
    {
     "data": {
      "text/plain": [
       "[]"
      ]
     },
     "execution_count": 13,
     "metadata": {},
     "output_type": "execute_result"
    }
   ],
   "source": [
    "%%sql\n",
    "DELETE FROM PROGRAMS;\n",
    "INSERT INTO PROGRAMS (program_code, program_name)\n",
    "    SELECT DISTINCT program_code, program_name FROM Import_CourseCatalog\n",
    "    ORDER BY program_code;\n"
   ]
  },
  {
   "cell_type": "code",
   "execution_count": 14,
   "metadata": {},
   "outputs": [
    {
     "name": "stdout",
     "output_type": "stream",
     "text": [
      " * sqlite:///CourseData.db\n",
      "0 rows affected.\n",
      "1095 rows affected.\n"
     ]
    },
    {
     "data": {
      "text/plain": [
       "[]"
      ]
     },
     "execution_count": 14,
     "metadata": {},
     "output_type": "execute_result"
    }
   ],
   "source": [
    "%%sql\n",
    "DELETE FROM PROFESSORS;\n",
    "INSERT INTO PROFESSORS (name)\n",
    "    SELECT DISTINCT primary_instructor\n",
    "    FROM Import_Courses2\n",
    "    WHERE primary_instructor <> 'TBA' AND primary_instructor NOT LIKE '%/%';"
   ]
  },
  {
   "cell_type": "code",
   "execution_count": 15,
   "metadata": {},
   "outputs": [
    {
     "name": "stdout",
     "output_type": "stream",
     "text": [
      " * sqlite:///CourseData.db\n",
      "Done.\n"
     ]
    },
    {
     "data": {
      "text/html": [
       "<table>\n",
       "    <tr>\n",
       "        <th>term_id</th>\n",
       "        <th>term</th>\n",
       "        <th>catalog_year</th>\n",
       "    </tr>\n",
       "</table>"
      ],
      "text/plain": [
       "[]"
      ]
     },
     "execution_count": 15,
     "metadata": {},
     "output_type": "execute_result"
    }
   ],
   "source": [
    "%%sql\n",
    "SELECT * FROM TERM_CATALOG LIMIT 2;"
   ]
  },
  {
   "cell_type": "code",
   "execution_count": 16,
   "metadata": {},
   "outputs": [
    {
     "name": "stdout",
     "output_type": "stream",
     "text": [
      " * sqlite:///CourseData.db\n",
      "0 rows affected.\n",
      "4440 rows affected.\n"
     ]
    },
    {
     "data": {
      "text/plain": [
       "[]"
      ]
     },
     "execution_count": 16,
     "metadata": {},
     "output_type": "execute_result"
    }
   ],
   "source": [
    "%%sql\n",
    "DELETE FROM COURSE_CATALOG;\n",
    "INSERT INTO COURSE_CATALOG (catalog_year,program_id,catalog_id,course_title,credits,prereqs,coreqs,fees,attributes,description)\n",
    "    SELECT DISTINCT C.calendaryear, P.program_id, C.catalog_id, C.course_title,C.credits,C.prereqs,C.coreqs,C.fees,C.attributes,C.description \n",
    "    FROM Import_CourseCatalog2 AS C\n",
    "    JOIN PROGRAMS AS P\n",
    "        USING(program_code);\n",
    "\n",
    "\n"
   ]
  },
  {
   "cell_type": "code",
   "execution_count": 17,
   "metadata": {},
   "outputs": [
    {
     "name": "stdout",
     "output_type": "stream",
     "text": [
      " * sqlite:///CourseData.db\n",
      "0 rows affected.\n",
      "38 rows affected.\n"
     ]
    },
    {
     "data": {
      "text/plain": [
       "[]"
      ]
     },
     "execution_count": 17,
     "metadata": {},
     "output_type": "execute_result"
    }
   ],
   "source": [
    "%%sql\n",
    "DELETE FROM TERM_CATALOG;\n",
    "INSERT INTO TERM_CATALOG (term,catalog_year)\n",
    "    SELECT DISTINCT term, C2.catalog_year\n",
    "    FROM Import_courses2\n",
    "    JOIN COURSE_CATALOG AS C2 USING (catalog_id)\n",
    "    \n",
    "    ORDER BY term;"
   ]
  },
  {
   "cell_type": "code",
   "execution_count": 18,
   "metadata": {},
   "outputs": [
    {
     "name": "stdout",
     "output_type": "stream",
     "text": [
      " * sqlite:///CourseData.db\n",
      "Done.\n"
     ]
    },
    {
     "data": {
      "text/html": [
       "<table>\n",
       "    <tr>\n",
       "        <th>cat_id</th>\n",
       "        <th>catalog_id</th>\n",
       "        <th>catalog_year</th>\n",
       "        <th>program_id</th>\n",
       "        <th>course_title</th>\n",
       "        <th>credits</th>\n",
       "        <th>prereqs</th>\n",
       "        <th>coreqs</th>\n",
       "        <th>fees</th>\n",
       "        <th>attributes</th>\n",
       "        <th>description</th>\n",
       "    </tr>\n",
       "    <tr>\n",
       "        <td>1</td>\n",
       "        <td>AN 0301</td>\n",
       "        <td>2017_2018</td>\n",
       "        <td>4</td>\n",
       "        <td>Independent Study</td>\n",
       "        <td>1-3 Credits</td>\n",
       "        <td>None</td>\n",
       "        <td>None</td>\n",
       "        <td>None</td>\n",
       "        <td>None</td>\n",
       "        <td>Students undertake an individualized program of study in consultation with a director from the Asian studies faculty.</td>\n",
       "    </tr>\n",
       "    <tr>\n",
       "        <td>2</td>\n",
       "        <td>AN 0310</td>\n",
       "        <td>2017_2018</td>\n",
       "        <td>4</td>\n",
       "        <td>Asian Studies Seminar</td>\n",
       "        <td>3 Credits</td>\n",
       "        <td>None</td>\n",
       "        <td>None</td>\n",
       "        <td>None</td>\n",
       "        <td>None</td>\n",
       "        <td>This seminar examines selected topics concerning Asia. This course is taught in conjunction with another 100-300 level course from a rotation of course offerings. Consult the Asian Studies director to identify the conjoined course for a given semester. The seminar concentrates on topics within the parameters of the conjoined course syllabus but adds research emphasis. Students registered for this course must complete a research project, to include 300-level research, in addition to the regular research requirements of the conjoined course, and a 25-50 page term paper in substitution of some portion of the conjoined course requirements, as determined by the instructor. Open to juniors and seniors only.</td>\n",
       "    </tr>\n",
       "</table>"
      ],
      "text/plain": [
       "[(1, 'AN 0301', '2017_2018', 4, 'Independent Study', '1-3 Credits', None, None, None, None, 'Students undertake an individualized program of study in consultation with a director from the Asian studies faculty.'),\n",
       " (2, 'AN 0310', '2017_2018', 4, 'Asian Studies Seminar', '3 Credits', None, None, None, None, 'This seminar examines selected topics concerning Asia. This course is taught in conjunction with another 100-300 level course from a rotation of cour ... (412 characters truncated) ... e term paper in substitution of some portion of the conjoined course requirements, as determined by the instructor. Open to juniors and seniors only.')]"
      ]
     },
     "execution_count": 18,
     "metadata": {},
     "output_type": "execute_result"
    }
   ],
   "source": [
    "%%sql\n",
    "SELECT * FROM COURSE_CATALOG LIMIT 2;"
   ]
  },
  {
   "cell_type": "code",
   "execution_count": 19,
   "metadata": {},
   "outputs": [
    {
     "name": "stdout",
     "output_type": "stream",
     "text": [
      " * sqlite:///CourseData.db\n",
      "0 rows affected.\n",
      "31874 rows affected.\n"
     ]
    },
    {
     "data": {
      "text/plain": [
       "[]"
      ]
     },
     "execution_count": 19,
     "metadata": {},
     "output_type": "execute_result"
    }
   ],
   "source": [
    "%%sql\n",
    "DELETE FROM COURSES;\n",
    "INSERT INTO COURSES (crn,catalog_id,term_id,section,professor_id,cap,act,rem)\n",
    "    SELECT DISTINCT C1.crn, COURSE_CATALOG.catalog_id,TERM_CATALOG.term_id,C1.section,C1.primary_instructor,C1.cap,C1.act,C1.rem\n",
    "    FROM  Import_Courses2 AS C1\n",
    "    LEFT JOIN PROFESSORS \n",
    "    ON C1.primary_instructor=PROFESSORS.name\n",
    "    LEFT JOIN TERM_CATALOG USING (term)\n",
    "    LEFT JOIN COURSE_CATALOG\n",
    "    ON C1.catalog_id = COURSE_CATALOG.catalog_id AND COURSE_CATALOG.catalog_year=TERM_CATALOG.catalog_year\n",
    "    ORDER BY crn;"
   ]
  },
  {
   "cell_type": "code",
   "execution_count": 20,
   "metadata": {},
   "outputs": [
    {
     "name": "stdout",
     "output_type": "stream",
     "text": [
      " * sqlite:///CourseData.db\n",
      "0 rows affected.\n",
      "(sqlite3.OperationalError) incomplete input\n",
      "[SQL: INSERT INTO COURSE_MEETINGS (crn,location,day,start,end)\n",
      "    SELECT DISTINCT COURSES.crn, C2.location,C2.day,C2.start,C2.end\n",
      "    FROM COURSES\n",
      "    JOIN Import_course_meetings AS C2\n",
      "    ON]\n",
      "(Background on this error at: http://sqlalche.me/e/e3q8)\n"
     ]
    }
   ],
   "source": [
    "%%sql\n",
    "DELETE FROM COURSE_MEETINGS;\n",
    "INSERT INTO COURSE_MEETINGS (crn,location,day,start,end)\n",
    "    SELECT DISTINCT COURSES.crn, C2.location,C2.day,C2.start,C2.end\n",
    "    FROM COURSES\n",
    "    JOIN Import_course_meetings AS C2\n",
    "    ON "
   ]
  },
  {
   "cell_type": "code",
   "execution_count": 21,
   "metadata": {},
   "outputs": [
    {
     "name": "stdout",
     "output_type": "stream",
     "text": [
      " * sqlite:///CourseData.db\n",
      "Done.\n"
     ]
    },
    {
     "data": {
      "text/html": [
       "<table>\n",
       "    <tr>\n",
       "        <th>term</th>\n",
       "        <th>crn</th>\n",
       "        <th>catalog_id</th>\n",
       "        <th>section</th>\n",
       "        <th>credits</th>\n",
       "        <th>title</th>\n",
       "        <th>meetings</th>\n",
       "        <th>timecodes</th>\n",
       "        <th>primary_instructor</th>\n",
       "        <th>cap</th>\n",
       "        <th>act</th>\n",
       "        <th>rem</th>\n",
       "    </tr>\n",
       "    <tr>\n",
       "        <td>Spring2015</td>\n",
       "        <td>32262</td>\n",
       "        <td>IL 0299</td>\n",
       "        <td>A</td>\n",
       "        <td>3.000</td>\n",
       "        <td>Independent Study</td>\n",
       "        <td>[{&#x27;days&#x27;: &#x27;TBA&#x27;, &#x27;times&#x27;: &#x27;0&#x27;, &#x27;dates&#x27;: &#x27;TBA&#x27;, &#x27;location&#x27;: &quot;IDEA Course Eval - NO and Int&#x27;l Studies Applied Course and Professional Studies BS and Prof Studies: Professions&quot;}]</td>\n",
       "        <td>[&quot;TBA 0 TBA IDEA Course Eval - NO and Int&#x27;l Studies Applied Course and Professional Studies BS and Prof Studies: Professions&quot;]</td>\n",
       "        <td>01/20-04/30</td>\n",
       "        <td>0</td>\n",
       "        <td>0</td>\n",
       "        <td>0</td>\n",
       "    </tr>\n",
       "    <tr>\n",
       "        <td>Spring2015</td>\n",
       "        <td>32930</td>\n",
       "        <td>CO 0570</td>\n",
       "        <td>01</td>\n",
       "        <td>3.000</td>\n",
       "        <td>Project Proposal</td>\n",
       "        <td>[{&#x27;days&#x27;: &#x27;TBA&#x27;, &#x27;times&#x27;: &#x27;0&#x27;, &#x27;dates&#x27;: &#x27;TBA&#x27;, &#x27;location&#x27;: &#x27;IDEA Course Eval - NO and Professional Studies BA and Prof Studies: Humanities and Prof Studies: Social Sciences&#x27;}]</td>\n",
       "        <td>[&#x27;TBA 0 TBA IDEA Course Eval - NO and Professional Studies BA and Prof Studies: Humanities and Prof Studies: Social Sciences&#x27;]</td>\n",
       "        <td>01/20-05/08</td>\n",
       "        <td>0</td>\n",
       "        <td>0</td>\n",
       "        <td>0</td>\n",
       "    </tr>\n",
       "    <tr>\n",
       "        <td>Spring2015</td>\n",
       "        <td>32527</td>\n",
       "        <td>CO 0571</td>\n",
       "        <td>01</td>\n",
       "        <td>3.000</td>\n",
       "        <td>Independent Project</td>\n",
       "        <td>[{&#x27;days&#x27;: &#x27;TBA&#x27;, &#x27;times&#x27;: &#x27;0&#x27;, &#x27;dates&#x27;: &#x27;TBA&#x27;, &#x27;location&#x27;: &#x27;IDEA Course Eval - NO&#x27;}]</td>\n",
       "        <td>[&#x27;TBA 0 TBA IDEA Course Eval - NO&#x27;]</td>\n",
       "        <td>01/20-05/08</td>\n",
       "        <td>0</td>\n",
       "        <td>0</td>\n",
       "        <td>0</td>\n",
       "    </tr>\n",
       "    <tr>\n",
       "        <td>Spring2015</td>\n",
       "        <td>34111</td>\n",
       "        <td>CO 0572</td>\n",
       "        <td>01</td>\n",
       "        <td>3.000</td>\n",
       "        <td>Continuing Project</td>\n",
       "        <td>[{&#x27;days&#x27;: &#x27;TBA&#x27;, &#x27;times&#x27;: &#x27;0&#x27;, &#x27;dates&#x27;: &#x27;TBA&#x27;, &#x27;location&#x27;: &#x27;IDEA Course Eval - NO&#x27;}]</td>\n",
       "        <td>[&#x27;TBA 0 TBA IDEA Course Eval - NO&#x27;]</td>\n",
       "        <td>01/20-05/08</td>\n",
       "        <td>0</td>\n",
       "        <td>0</td>\n",
       "        <td>0</td>\n",
       "    </tr>\n",
       "    <tr>\n",
       "        <td>Spring2015</td>\n",
       "        <td>32941</td>\n",
       "        <td>CO 0572</td>\n",
       "        <td>02</td>\n",
       "        <td>3.000</td>\n",
       "        <td>Continuing Project</td>\n",
       "        <td>[{&#x27;days&#x27;: &#x27;TBA&#x27;, &#x27;times&#x27;: &#x27;0&#x27;, &#x27;dates&#x27;: &#x27;TBA&#x27;, &#x27;location&#x27;: &#x27;IDEA Course Eval - NO&#x27;}]</td>\n",
       "        <td>[&#x27;TBA 0 TBA IDEA Course Eval - NO&#x27;]</td>\n",
       "        <td>01/20-05/08</td>\n",
       "        <td>0</td>\n",
       "        <td>0</td>\n",
       "        <td>0</td>\n",
       "    </tr>\n",
       "    <tr>\n",
       "        <td>Summer2018</td>\n",
       "        <td>58467</td>\n",
       "        <td>NS 0687F</td>\n",
       "        <td>01</td>\n",
       "        <td>1.000</td>\n",
       "        <td>DNP Immersion</td>\n",
       "        <td>[{&#x27;days&#x27;: &#x27;TBA&#x27;, &#x27;times&#x27;: &#x27;0&#x27;, &#x27;dates&#x27;: &#x27;TBA&#x27;, &#x27;location&#x27;: &#x27;IDEA Course Eval - NO&#x27;}]</td>\n",
       "        <td>[&#x27;TBA 0 TBA IDEA Course Eval - NO&#x27;]</td>\n",
       "        <td>05/21-08/17</td>\n",
       "        <td>1</td>\n",
       "        <td>-1</td>\n",
       "        <td>0</td>\n",
       "    </tr>\n",
       "    <tr>\n",
       "        <td>Fall2014</td>\n",
       "        <td>73278</td>\n",
       "        <td>IN 0214</td>\n",
       "        <td>01</td>\n",
       "        <td>3.000</td>\n",
       "        <td>Commercial Design</td>\n",
       "        <td>[{&#x27;days&#x27;: &#x27;TBA&#x27;, &#x27;times&#x27;: &#x27;10&#x27;, &#x27;dates&#x27;: &#x27;TBA&#x27;, &#x27;location&#x27;: &#x27;IDEA Course Eval - YES&#x27;}]</td>\n",
       "        <td>[&#x27;TBA 10 TBA IDEA Course Eval - YES&#x27;]</td>\n",
       "        <td>08/15-01/15</td>\n",
       "        <td>0</td>\n",
       "        <td>10</td>\n",
       "        <td>0</td>\n",
       "    </tr>\n",
       "    <tr>\n",
       "        <td>Fall2015</td>\n",
       "        <td>75192</td>\n",
       "        <td>MU 0088</td>\n",
       "        <td>B</td>\n",
       "        <td>1.000</td>\n",
       "        <td>Private Lessons: Violin</td>\n",
       "        <td>[{&#x27;days&#x27;: &#x27;TBA&#x27;, &#x27;times&#x27;: &#x27;0&#x27;, &#x27;dates&#x27;: &#x27;TBA&#x27;, &#x27;location&#x27;: &#x27;IDEA Course Eval - NO&#x27;}]</td>\n",
       "        <td>[&#x27;TBA 0 TBA IDEA Course Eval - NO&#x27;]</td>\n",
       "        <td>09/01-12/07</td>\n",
       "        <td>0</td>\n",
       "        <td>0</td>\n",
       "        <td>0</td>\n",
       "    </tr>\n",
       "    <tr>\n",
       "        <td>Fall2014</td>\n",
       "        <td>73239</td>\n",
       "        <td>QA 0400</td>\n",
       "        <td>02</td>\n",
       "        <td>3.000</td>\n",
       "        <td>Applied Business Statistics</td>\n",
       "        <td>[{&#x27;days&#x27;: &#x27;TBA&#x27;, &#x27;times&#x27;: &#x27;0&#x27;, &#x27;dates&#x27;: &#x27;TBA&#x27;, &#x27;location&#x27;: &#x27;IDEA Course Eval - YES&#x27;}]</td>\n",
       "        <td>[&#x27;TBA 0 TBA IDEA Course Eval - YES&#x27;]</td>\n",
       "        <td>09/02-12/19</td>\n",
       "        <td>0</td>\n",
       "        <td>0</td>\n",
       "        <td>999</td>\n",
       "    </tr>\n",
       "    <tr>\n",
       "        <td>Fall2014</td>\n",
       "        <td>73284</td>\n",
       "        <td>CN 0465</td>\n",
       "        <td>02</td>\n",
       "        <td>0.000</td>\n",
       "        <td>Introduction to Substance Abuse and Addictions</td>\n",
       "        <td>[{&#x27;days&#x27;: &#x27;TBA&#x27;, &#x27;times&#x27;: &#x27;1&#x27;, &#x27;dates&#x27;: &#x27;TBA&#x27;, &#x27;location&#x27;: &#x27;IDEA Course Eval - YES&#x27;}]</td>\n",
       "        <td>[&#x27;TBA 1 TBA IDEA Course Eval - YES&#x27;]</td>\n",
       "        <td>09/02-12/30</td>\n",
       "        <td>0</td>\n",
       "        <td>1</td>\n",
       "        <td>0</td>\n",
       "    </tr>\n",
       "</table>"
      ],
      "text/plain": [
       "[('Spring2015', 32262, 'IL 0299', 'A', '3.000', 'Independent Study', '[{\\'days\\': \\'TBA\\', \\'times\\': \\'0\\', \\'dates\\': \\'TBA\\', \\'location\\': \"IDEA Course Eval - NO and Int\\'l Studies Applied Course and Professional Studies BS and Prof Studies: Professions\"}]', '[\"TBA 0 TBA IDEA Course Eval - NO and Int\\'l Studies Applied Course and Professional Studies BS and Prof Studies: Professions\"]', '01/20-04/30', 0, 0, 0),\n",
       " ('Spring2015', 32930, 'CO 0570', '01', '3.000', 'Project Proposal', \"[{'days': 'TBA', 'times': '0', 'dates': 'TBA', 'location': 'IDEA Course Eval - NO and Professional Studies BA and Prof Studies: Humanities and Prof Studies: Social Sciences'}]\", \"['TBA 0 TBA IDEA Course Eval - NO and Professional Studies BA and Prof Studies: Humanities and Prof Studies: Social Sciences']\", '01/20-05/08', 0, 0, 0),\n",
       " ('Spring2015', 32527, 'CO 0571', '01', '3.000', 'Independent Project', \"[{'days': 'TBA', 'times': '0', 'dates': 'TBA', 'location': 'IDEA Course Eval - NO'}]\", \"['TBA 0 TBA IDEA Course Eval - NO']\", '01/20-05/08', 0, 0, 0),\n",
       " ('Spring2015', 34111, 'CO 0572', '01', '3.000', 'Continuing Project', \"[{'days': 'TBA', 'times': '0', 'dates': 'TBA', 'location': 'IDEA Course Eval - NO'}]\", \"['TBA 0 TBA IDEA Course Eval - NO']\", '01/20-05/08', 0, 0, 0),\n",
       " ('Spring2015', 32941, 'CO 0572', '02', '3.000', 'Continuing Project', \"[{'days': 'TBA', 'times': '0', 'dates': 'TBA', 'location': 'IDEA Course Eval - NO'}]\", \"['TBA 0 TBA IDEA Course Eval - NO']\", '01/20-05/08', 0, 0, 0),\n",
       " ('Summer2018', 58467, 'NS 0687F', '01', '1.000', 'DNP Immersion', \"[{'days': 'TBA', 'times': '0', 'dates': 'TBA', 'location': 'IDEA Course Eval - NO'}]\", \"['TBA 0 TBA IDEA Course Eval - NO']\", '05/21-08/17', 1, -1, 0),\n",
       " ('Fall2014', 73278, 'IN 0214', '01', '3.000', 'Commercial Design', \"[{'days': 'TBA', 'times': '10', 'dates': 'TBA', 'location': 'IDEA Course Eval - YES'}]\", \"['TBA 10 TBA IDEA Course Eval - YES']\", '08/15-01/15', 0, 10, 0),\n",
       " ('Fall2015', 75192, 'MU 0088', 'B', '1.000', 'Private Lessons: Violin', \"[{'days': 'TBA', 'times': '0', 'dates': 'TBA', 'location': 'IDEA Course Eval - NO'}]\", \"['TBA 0 TBA IDEA Course Eval - NO']\", '09/01-12/07', 0, 0, 0),\n",
       " ('Fall2014', 73239, 'QA 0400', '02', '3.000', 'Applied Business Statistics', \"[{'days': 'TBA', 'times': '0', 'dates': 'TBA', 'location': 'IDEA Course Eval - YES'}]\", \"['TBA 0 TBA IDEA Course Eval - YES']\", '09/02-12/19', 0, 0, 999),\n",
       " ('Fall2014', 73284, 'CN 0465', '02', '0.000', 'Introduction to Substance Abuse and Addictions', \"[{'days': 'TBA', 'times': '1', 'dates': 'TBA', 'location': 'IDEA Course Eval - YES'}]\", \"['TBA 1 TBA IDEA Course Eval - YES']\", '09/02-12/30', 0, 1, 0)]"
      ]
     },
     "execution_count": 21,
     "metadata": {},
     "output_type": "execute_result"
    }
   ],
   "source": [
    "%%sql \n",
    "SELECT * FROM Import_Courses2 \n",
    "ORDER BY \n",
    "primary_instructor\n",
    "LIMIT 10;"
   ]
  },
  {
   "cell_type": "code",
   "execution_count": null,
   "metadata": {},
   "outputs": [],
   "source": []
  },
  {
   "cell_type": "markdown",
   "metadata": {},
   "source": [
    "## Test the integrity of your new `CourseData.db` database\n",
    "- Each column has a sensible data type (Domain integrity); are there truncation or translation errors?   \n",
    "- Each row describes a unique entity (Entity integrity); just having a PK is not enough: you will need to look for duplicate a data records\n",
    "- Each relationship is implemented correctly (Relational integrity); are the FKs JOIN-compatible with the PKs? does each mandatory relationship have a corresponding NOT NULL constraint?\n",
    "- Annotate your queries in Markdown cells so we know what you are testing and why."
   ]
  },
  {
   "cell_type": "code",
   "execution_count": 22,
   "metadata": {},
   "outputs": [
    {
     "name": "stdout",
     "output_type": "stream",
     "text": [
      " * sqlite:///CourseData.db\n",
      "(sqlite3.OperationalError) no such column: act\n",
      "[SQL: SELECT DISTINCT PROFESSORS.name, SUM(act) AS SumStudents\n",
      "FROM PROFESSORS\n",
      "JOIN COURSE_CATALOG\n",
      "ON name = primary_instructor;]\n",
      "(Background on this error at: http://sqlalche.me/e/e3q8)\n"
     ]
    }
   ],
   "source": [
    "%%sql \n",
    "SELECT DISTINCT PROFESSORS.name, SUM(act) AS SumStudents\n",
    "FROM PROFESSORS\n",
    "JOIN COURSE_CATALOG\n",
    "ON name = primary_instructor;"
   ]
  },
  {
   "cell_type": "code",
   "execution_count": 23,
   "metadata": {},
   "outputs": [
    {
     "name": "stdout",
     "output_type": "stream",
     "text": [
      " * sqlite:///CourseData.db\n",
      "31874 rows affected.\n",
      "31874 rows affected.\n"
     ]
    },
    {
     "data": {
      "text/plain": [
       "[]"
      ]
     },
     "execution_count": 23,
     "metadata": {},
     "output_type": "execute_result"
    }
   ],
   "source": [
    "%%sql\n",
    "DELETE FROM COURSES;\n",
    "INSERT INTO COURSES (crn,catalog_id,term_id,section,professor_id,cap,act,rem)\n",
    "    SELECT DISTINCT C1.crn, COURSE_CATALOG.catalog_id,TERM_CATALOG.term_id,C1.section,C1.primary_instructor,C1.cap,C1.act,C1.rem\n",
    "    FROM  Import_Courses2 AS C1\n",
    "    LEFT JOIN PROFESSORS \n",
    "    ON C1.primary_instructor=PROFESSORS.name\n",
    "    LEFT JOIN TERM_CATALOG USING (term)\n",
    "    LEFT JOIN COURSE_CATALOG\n",
    "    ON C1.catalog_id = COURSE_CATALOG.catalog_id AND COURSE_CATALOG.catalog_year=TERM_CATALOG.catalog_year\n",
    "    ORDER BY crn;"
   ]
  },
  {
   "cell_type": "code",
   "execution_count": 47,
   "metadata": {},
   "outputs": [
    {
     "name": "stdout",
     "output_type": "stream",
     "text": [
      " * sqlite:///CourseData.db\n",
      "Done.\n"
     ]
    },
    {
     "data": {
      "text/html": [
       "<table>\n",
       "    <tr>\n",
       "        <th>course_id</th>\n",
       "        <th>crn</th>\n",
       "        <th>catalog_id</th>\n",
       "        <th>term_id</th>\n",
       "        <th>section</th>\n",
       "        <th>professor_id</th>\n",
       "        <th>cap</th>\n",
       "        <th>act</th>\n",
       "        <th>rem</th>\n",
       "    </tr>\n",
       "    <tr>\n",
       "        <td>1</td>\n",
       "        <td>10893</td>\n",
       "        <td>BI 0075</td>\n",
       "        <td>31</td>\n",
       "        <td>1</td>\n",
       "        <td>Thomas B.  Cunningham</td>\n",
       "        <td>20</td>\n",
       "        <td>22</td>\n",
       "        <td>-2</td>\n",
       "    </tr>\n",
       "    <tr>\n",
       "        <td>2</td>\n",
       "        <td>10893</td>\n",
       "        <td>BI 0075</td>\n",
       "        <td>32</td>\n",
       "        <td>1</td>\n",
       "        <td>Thomas B.  Cunningham</td>\n",
       "        <td>20</td>\n",
       "        <td>22</td>\n",
       "        <td>-2</td>\n",
       "    </tr>\n",
       "</table>"
      ],
      "text/plain": [
       "[(1, '10893', 'BI 0075', '31', 1, 'Thomas B.  Cunningham', 20, 22, -2),\n",
       " (2, '10893', 'BI 0075', '32', 1, 'Thomas B.  Cunningham', 20, 22, -2)]"
      ]
     },
     "execution_count": 47,
     "metadata": {},
     "output_type": "execute_result"
    }
   ],
   "source": [
    "%%sql\n",
    "SELECT *\n",
    "FROM COURSES AS C1 LIMIT 2;"
   ]
  },
  {
   "cell_type": "code",
   "execution_count": 48,
   "metadata": {},
   "outputs": [
    {
     "name": "stdout",
     "output_type": "stream",
     "text": [
      " * sqlite:///CourseData.db\n",
      "Done.\n"
     ]
    },
    {
     "data": {
      "text/html": [
       "<table>\n",
       "    <tr>\n",
       "        <th>professor_id</th>\n",
       "        <th>name</th>\n",
       "    </tr>\n",
       "    <tr>\n",
       "        <td>1</td>\n",
       "        <td>Michael P.  Coyne</td>\n",
       "    </tr>\n",
       "    <tr>\n",
       "        <td>2</td>\n",
       "        <td>Rebecca I.  Bloch</td>\n",
       "    </tr>\n",
       "</table>"
      ],
      "text/plain": [
       "[(1, 'Michael P.  Coyne'), (2, 'Rebecca I.  Bloch')]"
      ]
     },
     "execution_count": 48,
     "metadata": {},
     "output_type": "execute_result"
    }
   ],
   "source": [
    "%%sql\n",
    "SELECT *\n",
    "FROM PROFESSORS AS C1 LIMIT 2;"
   ]
  },
  {
   "cell_type": "code",
   "execution_count": null,
   "metadata": {},
   "outputs": [],
   "source": []
  },
  {
   "cell_type": "markdown",
   "metadata": {},
   "source": [
    "## Erik "
   ]
  },
  {
   "cell_type": "markdown",
   "metadata": {},
   "source": [
    "When I find out how to save and build on querries I will be answering the following question. \n",
    "- Nbr of active students over the years \n",
    "- Most heavy hours per location and time \n",
    "- Each semester which professors have more students than capacity, same for department, subject \n",
    "- Vice versa which professors work too little "
   ]
  },
  {
   "cell_type": "markdown",
   "metadata": {},
   "source": [
    "## 1.\n",
    "- need to update ERD \n",
    "- Courses table doesn’t have any key that would connect to the Professors table\n",
    "- Professors_id are names of the professors. \n",
    "- So the only way to join courses and professors is to type ON C1.professor_id = PROFESSORS.name; \n",
    "- So professors_id in COURSES table is names and its numbers in PROFESSORS table. \n",
    "\n",
    "I think we should uniquely connect the two tables e.g. maybe crn/term_id and put that into PROFESSORS table as foreign key?\n",
    "\n",
    "Because now we are storing names of professors in 2 tables I think that’s unnecessary (might as well drop the professors table then) \n"
   ]
  },
  {
   "cell_type": "code",
   "execution_count": 50,
   "metadata": {},
   "outputs": [
    {
     "name": "stdout",
     "output_type": "stream",
     "text": [
      " * sqlite:///CourseData.db\n",
      "Done.\n"
     ]
    },
    {
     "data": {
      "text/html": [
       "<table>\n",
       "    <tr>\n",
       "        <th>course_id</th>\n",
       "        <th>crn</th>\n",
       "        <th>catalog_id</th>\n",
       "        <th>term_id</th>\n",
       "        <th>section</th>\n",
       "        <th>professor_id</th>\n",
       "        <th>cap</th>\n",
       "        <th>act</th>\n",
       "        <th>rem</th>\n",
       "        <th>professor_id_1</th>\n",
       "        <th>name</th>\n",
       "    </tr>\n",
       "    <tr>\n",
       "        <td>1</td>\n",
       "        <td>10893</td>\n",
       "        <td>BI 0075</td>\n",
       "        <td>31</td>\n",
       "        <td>1</td>\n",
       "        <td>Thomas B.  Cunningham</td>\n",
       "        <td>20</td>\n",
       "        <td>22</td>\n",
       "        <td>-2</td>\n",
       "        <td>47</td>\n",
       "        <td>Thomas B.  Cunningham</td>\n",
       "    </tr>\n",
       "    <tr>\n",
       "        <td>2</td>\n",
       "        <td>10893</td>\n",
       "        <td>BI 0075</td>\n",
       "        <td>32</td>\n",
       "        <td>1</td>\n",
       "        <td>Thomas B.  Cunningham</td>\n",
       "        <td>20</td>\n",
       "        <td>22</td>\n",
       "        <td>-2</td>\n",
       "        <td>47</td>\n",
       "        <td>Thomas B.  Cunningham</td>\n",
       "    </tr>\n",
       "</table>"
      ],
      "text/plain": [
       "[(1, '10893', 'BI 0075', '31', 1, 'Thomas B.  Cunningham', 20, 22, -2, 47, 'Thomas B.  Cunningham'),\n",
       " (2, '10893', 'BI 0075', '32', 1, 'Thomas B.  Cunningham', 20, 22, -2, 47, 'Thomas B.  Cunningham')]"
      ]
     },
     "execution_count": 50,
     "metadata": {},
     "output_type": "execute_result"
    }
   ],
   "source": [
    "%%sql\n",
    "SELECT *\n",
    "FROM COURSES AS C1\n",
    "JOIN PROFESSORS \n",
    "ON C1.professor_id = PROFESSORS.name LIMIT ;"
   ]
  },
  {
   "cell_type": "code",
   "execution_count": null,
   "metadata": {},
   "outputs": [],
   "source": []
  },
  {
   "cell_type": "markdown",
   "metadata": {},
   "source": [
    "There are dates in professor_id for some reason. I think this was in our original files so its their mistake but we should still fix it I think. "
   ]
  },
  {
   "cell_type": "code",
   "execution_count": 60,
   "metadata": {},
   "outputs": [
    {
     "name": "stdout",
     "output_type": "stream",
     "text": [
      " * sqlite:///CourseData.db\n",
      "Done.\n"
     ]
    },
    {
     "data": {
      "text/html": [
       "<table>\n",
       "    <tr>\n",
       "        <th>professor_id</th>\n",
       "        <th>SUM(cap)</th>\n",
       "        <th>SUM(act)</th>\n",
       "        <th>SUM(rem)</th>\n",
       "    </tr>\n",
       "    <tr>\n",
       "        <td>01/20-04/30</td>\n",
       "        <td>0</td>\n",
       "        <td>0</td>\n",
       "        <td>0</td>\n",
       "    </tr>\n",
       "    <tr>\n",
       "        <td>01/20-05/08</td>\n",
       "        <td>0</td>\n",
       "        <td>0</td>\n",
       "        <td>0</td>\n",
       "    </tr>\n",
       "    <tr>\n",
       "        <td>05/21-08/17</td>\n",
       "        <td>2</td>\n",
       "        <td>-2</td>\n",
       "        <td>0</td>\n",
       "    </tr>\n",
       "    <tr>\n",
       "        <td>08/15-01/15</td>\n",
       "        <td>0</td>\n",
       "        <td>20</td>\n",
       "        <td>0</td>\n",
       "    </tr>\n",
       "    <tr>\n",
       "        <td>09/01-12/07</td>\n",
       "        <td>0</td>\n",
       "        <td>0</td>\n",
       "        <td>0</td>\n",
       "    </tr>\n",
       "    <tr>\n",
       "        <td>09/02-12/19</td>\n",
       "        <td>0</td>\n",
       "        <td>0</td>\n",
       "        <td>1998</td>\n",
       "    </tr>\n",
       "    <tr>\n",
       "        <td>09/02-12/30</td>\n",
       "        <td>2</td>\n",
       "        <td>0</td>\n",
       "        <td>0</td>\n",
       "    </tr>\n",
       "    <tr>\n",
       "        <td>09/15-10/31</td>\n",
       "        <td>0</td>\n",
       "        <td>0</td>\n",
       "        <td>0</td>\n",
       "    </tr>\n",
       "    <tr>\n",
       "        <td>Aaron K.  Perkus</td>\n",
       "        <td>40</td>\n",
       "        <td>44</td>\n",
       "        <td>-4</td>\n",
       "    </tr>\n",
       "    <tr>\n",
       "        <td>Aaron Quinn  Weinstein</td>\n",
       "        <td>400</td>\n",
       "        <td>252</td>\n",
       "        <td>148</td>\n",
       "    </tr>\n",
       "</table>"
      ],
      "text/plain": [
       "[('01/20-04/30', 0, 0, 0),\n",
       " ('01/20-05/08', 0, 0, 0),\n",
       " ('05/21-08/17', 2, -2, 0),\n",
       " ('08/15-01/15', 0, 20, 0),\n",
       " ('09/01-12/07', 0, 0, 0),\n",
       " ('09/02-12/19', 0, 0, 1998),\n",
       " ('09/02-12/30', 2, 0, 0),\n",
       " ('09/15-10/31', 0, 0, 0),\n",
       " ('Aaron K.  Perkus', 40, 44, -4),\n",
       " ('Aaron Quinn  Weinstein', 400, 252, 148)]"
      ]
     },
     "execution_count": 60,
     "metadata": {},
     "output_type": "execute_result"
    }
   ],
   "source": [
    "%%sql\n",
    "SELECT DISTINCT professor_id, SUM(cap), SUM(act), SUM(rem)\n",
    "FROM COURSES\n",
    "GROUP BY (professor_id) LIMIT 10;"
   ]
  },
  {
   "cell_type": "markdown",
   "metadata": {},
   "source": [
    "### Historical Overcap professors "
   ]
  },
  {
   "cell_type": "code",
   "execution_count": 84,
   "metadata": {},
   "outputs": [
    {
     "name": "stdout",
     "output_type": "stream",
     "text": [
      " * sqlite:///CourseData.db\n",
      "Done.\n"
     ]
    },
    {
     "data": {
      "text/html": [
       "<table>\n",
       "    <tr>\n",
       "        <th>professor_id</th>\n",
       "        <th>cap</th>\n",
       "        <th>act</th>\n",
       "        <th>rem</th>\n",
       "    </tr>\n",
       "    <tr>\n",
       "        <td>Aaron R.  Van Dyke</td>\n",
       "        <td>15</td>\n",
       "        <td>21</td>\n",
       "        <td>-6</td>\n",
       "    </tr>\n",
       "    <tr>\n",
       "        <td>Adam E.  Rugg</td>\n",
       "        <td>27</td>\n",
       "        <td>28</td>\n",
       "        <td>-1</td>\n",
       "    </tr>\n",
       "</table>"
      ],
      "text/plain": [
       "[('Aaron R.  Van Dyke', 15, 21, -6), ('Adam E.  Rugg', 27, 28, -1)]"
      ]
     },
     "execution_count": 84,
     "metadata": {},
     "output_type": "execute_result"
    }
   ],
   "source": [
    "%%sql\n",
    "SELECT DISTINCT professor_id, cap, act, rem\n",
    "FROM COURSES\n",
    "WHERE rem < 0 AND cap > 0\n",
    "GROUP BY professor_id LIMIT 2;"
   ]
  },
  {
   "cell_type": "markdown",
   "metadata": {},
   "source": [
    "### Last year overcap professors\n",
    "- courses, course meetings\n",
    "\n",
    "# 2. **course meethings table empty?**"
   ]
  },
  {
   "cell_type": "code",
   "execution_count": 163,
   "metadata": {},
   "outputs": [
    {
     "name": "stdout",
     "output_type": "stream",
     "text": [
      " * sqlite:///CourseData.db\n",
      "Done.\n"
     ]
    },
    {
     "data": {
      "text/html": [
       "<table>\n",
       "    <tr>\n",
       "        <th>crn</th>\n",
       "        <th>location</th>\n",
       "        <th>day</th>\n",
       "        <th>start</th>\n",
       "        <th>end</th>\n",
       "    </tr>\n",
       "</table>"
      ],
      "text/plain": [
       "[]"
      ]
     },
     "execution_count": 163,
     "metadata": {},
     "output_type": "execute_result"
    }
   ],
   "source": [
    "%%sql\n",
    "SELECT * FROM COURSE_MEETINGS;"
   ]
  },
  {
   "cell_type": "markdown",
   "metadata": {},
   "source": [
    "### over/under capacaty courses "
   ]
  },
  {
   "cell_type": "code",
   "execution_count": 156,
   "metadata": {},
   "outputs": [
    {
     "name": "stdout",
     "output_type": "stream",
     "text": [
      " * sqlite:///CourseData.db\n",
      "Done.\n"
     ]
    },
    {
     "data": {
      "text/html": [
       "<table>\n",
       "    <tr>\n",
       "        <th>course_title</th>\n",
       "        <th>rem</th>\n",
       "        <th>prereqs</th>\n",
       "        <th>catalog_year</th>\n",
       "    </tr>\n",
       "    <tr>\n",
       "        <td>Ecology and Society</td>\n",
       "        <td>-2</td>\n",
       "        <td>None</td>\n",
       "        <td>2017_2018</td>\n",
       "    </tr>\n",
       "    <tr>\n",
       "        <td>Ecology and Society</td>\n",
       "        <td>-2</td>\n",
       "        <td>None</td>\n",
       "        <td>2018_2019</td>\n",
       "    </tr>\n",
       "    <tr>\n",
       "        <td>Watercolor</td>\n",
       "        <td>-3</td>\n",
       "        <td>None</td>\n",
       "        <td>2017_2018</td>\n",
       "    </tr>\n",
       "    <tr>\n",
       "        <td>Watercolor</td>\n",
       "        <td>-3</td>\n",
       "        <td>None</td>\n",
       "        <td>2018_2019</td>\n",
       "    </tr>\n",
       "    <tr>\n",
       "        <td>Legal Environment of Business</td>\n",
       "        <td>-1</td>\n",
       "        <td>Junior standing.</td>\n",
       "        <td>2017_2018</td>\n",
       "    </tr>\n",
       "    <tr>\n",
       "        <td>Legal Environment of Business</td>\n",
       "        <td>-1</td>\n",
       "        <td>Junior standing.</td>\n",
       "        <td>2018_2019</td>\n",
       "    </tr>\n",
       "    <tr>\n",
       "        <td>Ecology and Society</td>\n",
       "        <td>-1</td>\n",
       "        <td>None</td>\n",
       "        <td>2017_2018</td>\n",
       "    </tr>\n",
       "    <tr>\n",
       "        <td>Ecology and Society</td>\n",
       "        <td>-1</td>\n",
       "        <td>None</td>\n",
       "        <td>2018_2019</td>\n",
       "    </tr>\n",
       "    <tr>\n",
       "        <td>The Nature of the Universe</td>\n",
       "        <td>-1</td>\n",
       "        <td>None</td>\n",
       "        <td>2017_2018</td>\n",
       "    </tr>\n",
       "    <tr>\n",
       "        <td>The Nature of the Universe</td>\n",
       "        <td>-1</td>\n",
       "        <td>None</td>\n",
       "        <td>2018_2019</td>\n",
       "    </tr>\n",
       "</table>"
      ],
      "text/plain": [
       "[('Ecology and Society', -2, None, '2017_2018'),\n",
       " ('Ecology and Society', -2, None, '2018_2019'),\n",
       " ('Watercolor', -3, None, '2017_2018'),\n",
       " ('Watercolor', -3, None, '2018_2019'),\n",
       " ('Legal Environment of Business', -1, 'Junior standing.', '2017_2018'),\n",
       " ('Legal Environment of Business', -1, 'Junior standing.', '2018_2019'),\n",
       " ('Ecology and Society', -1, None, '2017_2018'),\n",
       " ('Ecology and Society', -1, None, '2018_2019'),\n",
       " ('The Nature of the Universe', -1, None, '2017_2018'),\n",
       " ('The Nature of the Universe', -1, None, '2018_2019')]"
      ]
     },
     "execution_count": 156,
     "metadata": {},
     "output_type": "execute_result"
    }
   ],
   "source": [
    "%%sql\n",
    "SELECT DISTINCT course_title, rem, prereqs, catalog_year\n",
    "FROM COURSE_CATALOG CC\n",
    "JOIN COURSES C1\n",
    "USING (catalog_id)\n",
    "WHERE rem < 0 AND cap >0 LIMIT 10;"
   ]
  },
  {
   "cell_type": "markdown",
   "metadata": {},
   "source": [
    "### Number of students over years\n",
    "3 joins for that courses, course meetings, and course catalogs"
   ]
  },
  {
   "cell_type": "code",
   "execution_count": null,
   "metadata": {},
   "outputs": [],
   "source": [
    "%%sql\n",
    "SELECT DISTINCT course_title, rem, prereqs, catalog_year\n",
    "FROM COURSE_CATALOG CC\n",
    "JOIN COURSES C1\n",
    "FROM \n",
    "USING (catalog_id)\n",
    "WHERE rem < 0 AND cap >0 LIMIT 10;"
   ]
  },
  {
   "cell_type": "code",
   "execution_count": null,
   "metadata": {},
   "outputs": [],
   "source": []
  },
  {
   "cell_type": "markdown",
   "metadata": {},
   "source": [
    "### Are courses that have prereqs more overcapacity?"
   ]
  },
  {
   "cell_type": "code",
   "execution_count": 165,
   "metadata": {},
   "outputs": [
    {
     "name": "stdout",
     "output_type": "stream",
     "text": [
      " * sqlite:///CourseData.db\n",
      "Done.\n"
     ]
    },
    {
     "data": {
      "text/html": [
       "<table>\n",
       "    <tr>\n",
       "        <th>course_title</th>\n",
       "        <th>cap</th>\n",
       "        <th>act</th>\n",
       "        <th>rem</th>\n",
       "        <th>prereqs</th>\n",
       "    </tr>\n",
       "    <tr>\n",
       "        <td>Legal Environment of Business</td>\n",
       "        <td>0</td>\n",
       "        <td>21</td>\n",
       "        <td>-21</td>\n",
       "        <td>Junior standing.</td>\n",
       "    </tr>\n",
       "    <tr>\n",
       "        <td>Legal Environment of Business</td>\n",
       "        <td>0</td>\n",
       "        <td>23</td>\n",
       "        <td>-23</td>\n",
       "        <td>Junior standing.</td>\n",
       "    </tr>\n",
       "    <tr>\n",
       "        <td>Legal Environment of Business</td>\n",
       "        <td>0</td>\n",
       "        <td>24</td>\n",
       "        <td>-24</td>\n",
       "        <td>Junior standing.</td>\n",
       "    </tr>\n",
       "    <tr>\n",
       "        <td>Legal Environment of Business</td>\n",
       "        <td>0</td>\n",
       "        <td>25</td>\n",
       "        <td>-25</td>\n",
       "        <td>Junior standing.</td>\n",
       "    </tr>\n",
       "    <tr>\n",
       "        <td>Legal Environment of Business</td>\n",
       "        <td>0</td>\n",
       "        <td>26</td>\n",
       "        <td>-26</td>\n",
       "        <td>Junior standing.</td>\n",
       "    </tr>\n",
       "    <tr>\n",
       "        <td>Legal Environment of Business</td>\n",
       "        <td>0</td>\n",
       "        <td>27</td>\n",
       "        <td>-27</td>\n",
       "        <td>Junior standing.</td>\n",
       "    </tr>\n",
       "    <tr>\n",
       "        <td>Legal Environment of Business</td>\n",
       "        <td>0</td>\n",
       "        <td>28</td>\n",
       "        <td>-28</td>\n",
       "        <td>Junior standing.</td>\n",
       "    </tr>\n",
       "    <tr>\n",
       "        <td>Legal Environment of Business</td>\n",
       "        <td>0</td>\n",
       "        <td>30</td>\n",
       "        <td>-30</td>\n",
       "        <td>Junior standing.</td>\n",
       "    </tr>\n",
       "    <tr>\n",
       "        <td>Legal Environment of Business</td>\n",
       "        <td>15</td>\n",
       "        <td>16</td>\n",
       "        <td>-1</td>\n",
       "        <td>Junior standing.</td>\n",
       "    </tr>\n",
       "    <tr>\n",
       "        <td>Legal Environment of Business</td>\n",
       "        <td>20</td>\n",
       "        <td>21</td>\n",
       "        <td>-1</td>\n",
       "        <td>Junior standing.</td>\n",
       "    </tr>\n",
       "</table>"
      ],
      "text/plain": [
       "[('Legal Environment of Business', 0, 21, -21, 'Junior standing.'),\n",
       " ('Legal Environment of Business', 0, 23, -23, 'Junior standing.'),\n",
       " ('Legal Environment of Business', 0, 24, -24, 'Junior standing.'),\n",
       " ('Legal Environment of Business', 0, 25, -25, 'Junior standing.'),\n",
       " ('Legal Environment of Business', 0, 26, -26, 'Junior standing.'),\n",
       " ('Legal Environment of Business', 0, 27, -27, 'Junior standing.'),\n",
       " ('Legal Environment of Business', 0, 28, -28, 'Junior standing.'),\n",
       " ('Legal Environment of Business', 0, 30, -30, 'Junior standing.'),\n",
       " ('Legal Environment of Business', 15, 16, -1, 'Junior standing.'),\n",
       " ('Legal Environment of Business', 20, 21, -1, 'Junior standing.')]"
      ]
     },
     "execution_count": 165,
     "metadata": {},
     "output_type": "execute_result"
    }
   ],
   "source": [
    "%%sql\n",
    "SELECT DISTINCT course_title, cap, act, rem, prereqs\n",
    "FROM COURSE_CATALOG CC\n",
    "JOIN COURSES C1\n",
    "USING (catalog_id)\n",
    "WHERE rem < 0  AND prereqs != 'None' LIMIT 10;"
   ]
  },
  {
   "cell_type": "markdown",
   "metadata": {},
   "source": [
    "### PROGRAM table works"
   ]
  },
  {
   "cell_type": "code",
   "execution_count": 166,
   "metadata": {},
   "outputs": [
    {
     "name": "stdout",
     "output_type": "stream",
     "text": [
      " * sqlite:///CourseData.db\n",
      "Done.\n"
     ]
    },
    {
     "data": {
      "text/html": [
       "<table>\n",
       "    <tr>\n",
       "        <th>program_id</th>\n",
       "        <th>program_code</th>\n",
       "        <th>program_name</th>\n",
       "    </tr>\n",
       "    <tr>\n",
       "        <td>1</td>\n",
       "        <td>AC</td>\n",
       "        <td>Accounting</td>\n",
       "    </tr>\n",
       "    <tr>\n",
       "        <td>2</td>\n",
       "        <td>AE</td>\n",
       "        <td>Applied Ethics</td>\n",
       "    </tr>\n",
       "    <tr>\n",
       "        <td>3</td>\n",
       "        <td>AH</td>\n",
       "        <td>Art History</td>\n",
       "    </tr>\n",
       "    <tr>\n",
       "        <td>4</td>\n",
       "        <td>AN</td>\n",
       "        <td>Asian Studies</td>\n",
       "    </tr>\n",
       "    <tr>\n",
       "        <td>5</td>\n",
       "        <td>AR</td>\n",
       "        <td>Arabic</td>\n",
       "    </tr>\n",
       "    <tr>\n",
       "        <td>6</td>\n",
       "        <td>AS</td>\n",
       "        <td>American Studies</td>\n",
       "    </tr>\n",
       "    <tr>\n",
       "        <td>7</td>\n",
       "        <td>AY</td>\n",
       "        <td>Anthropology</td>\n",
       "    </tr>\n",
       "    <tr>\n",
       "        <td>8</td>\n",
       "        <td>BB</td>\n",
       "        <td>Business</td>\n",
       "    </tr>\n",
       "    <tr>\n",
       "        <td>9</td>\n",
       "        <td>BEN</td>\n",
       "        <td>Bioengineering</td>\n",
       "    </tr>\n",
       "    <tr>\n",
       "        <td>10</td>\n",
       "        <td>BI</td>\n",
       "        <td>Biology</td>\n",
       "    </tr>\n",
       "    <tr>\n",
       "        <td>11</td>\n",
       "        <td>BL</td>\n",
       "        <td>Black Studies</td>\n",
       "    </tr>\n",
       "    <tr>\n",
       "        <td>12</td>\n",
       "        <td>BU</td>\n",
       "        <td>Business</td>\n",
       "    </tr>\n",
       "    <tr>\n",
       "        <td>13</td>\n",
       "        <td>CH</td>\n",
       "        <td>Chemistry</td>\n",
       "    </tr>\n",
       "    <tr>\n",
       "        <td>14</td>\n",
       "        <td>CI</td>\n",
       "        <td>Chinese</td>\n",
       "    </tr>\n",
       "    <tr>\n",
       "        <td>15</td>\n",
       "        <td>CL</td>\n",
       "        <td>Classical Studies</td>\n",
       "    </tr>\n",
       "    <tr>\n",
       "        <td>16</td>\n",
       "        <td>CN</td>\n",
       "        <td>Counseling</td>\n",
       "    </tr>\n",
       "    <tr>\n",
       "        <td>17</td>\n",
       "        <td>CO</td>\n",
       "        <td>Communication</td>\n",
       "    </tr>\n",
       "    <tr>\n",
       "        <td>18</td>\n",
       "        <td>CR</td>\n",
       "        <td>Computer Engineering</td>\n",
       "    </tr>\n",
       "    <tr>\n",
       "        <td>19</td>\n",
       "        <td>CS</td>\n",
       "        <td>Computer Science</td>\n",
       "    </tr>\n",
       "    <tr>\n",
       "        <td>20</td>\n",
       "        <td>EC</td>\n",
       "        <td>Economics</td>\n",
       "    </tr>\n",
       "    <tr>\n",
       "        <td>21</td>\n",
       "        <td>ECE</td>\n",
       "        <td>Electrical and Computer Engineering</td>\n",
       "    </tr>\n",
       "    <tr>\n",
       "        <td>22</td>\n",
       "        <td>ED</td>\n",
       "        <td>Education</td>\n",
       "    </tr>\n",
       "    <tr>\n",
       "        <td>23</td>\n",
       "        <td>EE</td>\n",
       "        <td>Electrical Engineering</td>\n",
       "    </tr>\n",
       "    <tr>\n",
       "        <td>24</td>\n",
       "        <td>EEG</td>\n",
       "        <td>English for Engineers</td>\n",
       "    </tr>\n",
       "    <tr>\n",
       "        <td>25</td>\n",
       "        <td>EG</td>\n",
       "        <td>Engineering</td>\n",
       "    </tr>\n",
       "    <tr>\n",
       "        <td>26</td>\n",
       "        <td>EN</td>\n",
       "        <td>English</td>\n",
       "    </tr>\n",
       "    <tr>\n",
       "        <td>27</td>\n",
       "        <td>ENW</td>\n",
       "        <td>English: Writing</td>\n",
       "    </tr>\n",
       "    <tr>\n",
       "        <td>28</td>\n",
       "        <td>EV</td>\n",
       "        <td>Environmental Studies</td>\n",
       "    </tr>\n",
       "    <tr>\n",
       "        <td>29</td>\n",
       "        <td>FI</td>\n",
       "        <td>Finance</td>\n",
       "    </tr>\n",
       "    <tr>\n",
       "        <td>30</td>\n",
       "        <td>FR</td>\n",
       "        <td>French</td>\n",
       "    </tr>\n",
       "    <tr>\n",
       "        <td>31</td>\n",
       "        <td>FT</td>\n",
       "        <td>Family Therapy</td>\n",
       "    </tr>\n",
       "    <tr>\n",
       "        <td>32</td>\n",
       "        <td>FTM</td>\n",
       "        <td>Film, Television, and Media Arts</td>\n",
       "    </tr>\n",
       "    <tr>\n",
       "        <td>33</td>\n",
       "        <td>GD</td>\n",
       "        <td>Graphic Design</td>\n",
       "    </tr>\n",
       "    <tr>\n",
       "        <td>34</td>\n",
       "        <td>GM</td>\n",
       "        <td>German</td>\n",
       "    </tr>\n",
       "    <tr>\n",
       "        <td>35</td>\n",
       "        <td>GR</td>\n",
       "        <td>Greek</td>\n",
       "    </tr>\n",
       "    <tr>\n",
       "        <td>36</td>\n",
       "        <td>GS</td>\n",
       "        <td>General Studies</td>\n",
       "    </tr>\n",
       "    <tr>\n",
       "        <td>37</td>\n",
       "        <td>HA</td>\n",
       "        <td>Humanitarian Action</td>\n",
       "    </tr>\n",
       "    <tr>\n",
       "        <td>38</td>\n",
       "        <td>HE</td>\n",
       "        <td>Hebrew</td>\n",
       "    </tr>\n",
       "    <tr>\n",
       "        <td>39</td>\n",
       "        <td>HI</td>\n",
       "        <td>History</td>\n",
       "    </tr>\n",
       "    <tr>\n",
       "        <td>40</td>\n",
       "        <td>HR</td>\n",
       "        <td>Honors</td>\n",
       "    </tr>\n",
       "    <tr>\n",
       "        <td>41</td>\n",
       "        <td>HS</td>\n",
       "        <td>Health Studies</td>\n",
       "    </tr>\n",
       "    <tr>\n",
       "        <td>42</td>\n",
       "        <td>HU</td>\n",
       "        <td>Humanities</td>\n",
       "    </tr>\n",
       "    <tr>\n",
       "        <td>43</td>\n",
       "        <td>ID</td>\n",
       "        <td>Interdisciplinary</td>\n",
       "    </tr>\n",
       "    <tr>\n",
       "        <td>44</td>\n",
       "        <td>IL</td>\n",
       "        <td>International Studies</td>\n",
       "    </tr>\n",
       "    <tr>\n",
       "        <td>45</td>\n",
       "        <td>IN</td>\n",
       "        <td>Interior Design</td>\n",
       "    </tr>\n",
       "    <tr>\n",
       "        <td>46</td>\n",
       "        <td>IRI</td>\n",
       "        <td>Irish Studies</td>\n",
       "    </tr>\n",
       "    <tr>\n",
       "        <td>47</td>\n",
       "        <td>IS</td>\n",
       "        <td>Information Systems</td>\n",
       "    </tr>\n",
       "    <tr>\n",
       "        <td>48</td>\n",
       "        <td>IT</td>\n",
       "        <td>Italian</td>\n",
       "    </tr>\n",
       "    <tr>\n",
       "        <td>49</td>\n",
       "        <td>JA</td>\n",
       "        <td>Japanese</td>\n",
       "    </tr>\n",
       "    <tr>\n",
       "        <td>50</td>\n",
       "        <td>LA</td>\n",
       "        <td>Latin</td>\n",
       "    </tr>\n",
       "    <tr>\n",
       "        <td>51</td>\n",
       "        <td>LAC</td>\n",
       "        <td>Latin American and Caribbean Studies</td>\n",
       "    </tr>\n",
       "    <tr>\n",
       "        <td>52</td>\n",
       "        <td>MA</td>\n",
       "        <td>Mathematics</td>\n",
       "    </tr>\n",
       "    <tr>\n",
       "        <td>53</td>\n",
       "        <td>MD</td>\n",
       "        <td>Educational Technology</td>\n",
       "    </tr>\n",
       "    <tr>\n",
       "        <td>54</td>\n",
       "        <td>ME</td>\n",
       "        <td>Mechanical Engineering</td>\n",
       "    </tr>\n",
       "    <tr>\n",
       "        <td>55</td>\n",
       "        <td>MG</td>\n",
       "        <td>Management</td>\n",
       "    </tr>\n",
       "    <tr>\n",
       "        <td>56</td>\n",
       "        <td>MK</td>\n",
       "        <td>Marketing</td>\n",
       "    </tr>\n",
       "    <tr>\n",
       "        <td>57</td>\n",
       "        <td>MOT</td>\n",
       "        <td>Management of Technology</td>\n",
       "    </tr>\n",
       "    <tr>\n",
       "        <td>58</td>\n",
       "        <td>MPA</td>\n",
       "        <td>Public Administration</td>\n",
       "    </tr>\n",
       "    <tr>\n",
       "        <td>59</td>\n",
       "        <td>MU</td>\n",
       "        <td>Music</td>\n",
       "    </tr>\n",
       "    <tr>\n",
       "        <td>60</td>\n",
       "        <td>NS</td>\n",
       "        <td>Nursing</td>\n",
       "    </tr>\n",
       "    <tr>\n",
       "        <td>61</td>\n",
       "        <td>NSAN</td>\n",
       "        <td>Nursing: Anesthesia</td>\n",
       "    </tr>\n",
       "    <tr>\n",
       "        <td>62</td>\n",
       "        <td>NSMW</td>\n",
       "        <td>Nursing: Midwifery</td>\n",
       "    </tr>\n",
       "    <tr>\n",
       "        <td>63</td>\n",
       "        <td>OM</td>\n",
       "        <td>Operations Management</td>\n",
       "    </tr>\n",
       "    <tr>\n",
       "        <td>64</td>\n",
       "        <td>PG</td>\n",
       "        <td>Portuguese</td>\n",
       "    </tr>\n",
       "    <tr>\n",
       "        <td>65</td>\n",
       "        <td>PH</td>\n",
       "        <td>Philosophy</td>\n",
       "    </tr>\n",
       "    <tr>\n",
       "        <td>66</td>\n",
       "        <td>PJ</td>\n",
       "        <td>Peace and Justice Studies</td>\n",
       "    </tr>\n",
       "    <tr>\n",
       "        <td>67</td>\n",
       "        <td>PO</td>\n",
       "        <td>Politics</td>\n",
       "    </tr>\n",
       "    <tr>\n",
       "        <td>68</td>\n",
       "        <td>PS</td>\n",
       "        <td>Physics</td>\n",
       "    </tr>\n",
       "    <tr>\n",
       "        <td>69</td>\n",
       "        <td>PY</td>\n",
       "        <td>Psychology</td>\n",
       "    </tr>\n",
       "    <tr>\n",
       "        <td>70</td>\n",
       "        <td>QA</td>\n",
       "        <td>Quantitative Analysis</td>\n",
       "    </tr>\n",
       "    <tr>\n",
       "        <td>71</td>\n",
       "        <td>RES</td>\n",
       "        <td>Russian, Eastern European, and Central Asian Studies</td>\n",
       "    </tr>\n",
       "    <tr>\n",
       "        <td>72</td>\n",
       "        <td>RLD</td>\n",
       "        <td>Reading and Language Development</td>\n",
       "    </tr>\n",
       "    <tr>\n",
       "        <td>73</td>\n",
       "        <td>RS</td>\n",
       "        <td>Religious Studies</td>\n",
       "    </tr>\n",
       "    <tr>\n",
       "        <td>74</td>\n",
       "        <td>RU</td>\n",
       "        <td>Russian</td>\n",
       "    </tr>\n",
       "    <tr>\n",
       "        <td>75</td>\n",
       "        <td>SA</td>\n",
       "        <td>Studio Art</td>\n",
       "    </tr>\n",
       "    <tr>\n",
       "        <td>76</td>\n",
       "        <td>SE</td>\n",
       "        <td>Special Education</td>\n",
       "    </tr>\n",
       "    <tr>\n",
       "        <td>77</td>\n",
       "        <td>SL</td>\n",
       "        <td>TESOL and Bilingual Education</td>\n",
       "    </tr>\n",
       "    <tr>\n",
       "        <td>78</td>\n",
       "        <td>SO</td>\n",
       "        <td>Sociology</td>\n",
       "    </tr>\n",
       "    <tr>\n",
       "        <td>79</td>\n",
       "        <td>SP</td>\n",
       "        <td>Spanish</td>\n",
       "    </tr>\n",
       "    <tr>\n",
       "        <td>80</td>\n",
       "        <td>SW</td>\n",
       "        <td>Software Engineering</td>\n",
       "    </tr>\n",
       "    <tr>\n",
       "        <td>81</td>\n",
       "        <td>TA</td>\n",
       "        <td>Theatre</td>\n",
       "    </tr>\n",
       "    <tr>\n",
       "        <td>82</td>\n",
       "        <td>TX</td>\n",
       "        <td>Taxation</td>\n",
       "    </tr>\n",
       "    <tr>\n",
       "        <td>83</td>\n",
       "        <td>WS</td>\n",
       "        <td>Women, Gender, and Sexuality Studies</td>\n",
       "    </tr>\n",
       "    <tr>\n",
       "        <td>84</td>\n",
       "        <td>program_code</td>\n",
       "        <td>program_name</td>\n",
       "    </tr>\n",
       "</table>"
      ],
      "text/plain": [
       "[(1, 'AC', 'Accounting'),\n",
       " (2, 'AE', 'Applied Ethics'),\n",
       " (3, 'AH', 'Art History'),\n",
       " (4, 'AN', 'Asian Studies'),\n",
       " (5, 'AR', 'Arabic'),\n",
       " (6, 'AS', 'American Studies'),\n",
       " (7, 'AY', 'Anthropology'),\n",
       " (8, 'BB', 'Business'),\n",
       " (9, 'BEN', 'Bioengineering'),\n",
       " (10, 'BI', 'Biology'),\n",
       " (11, 'BL', 'Black Studies'),\n",
       " (12, 'BU', 'Business'),\n",
       " (13, 'CH', 'Chemistry'),\n",
       " (14, 'CI', 'Chinese'),\n",
       " (15, 'CL', 'Classical Studies'),\n",
       " (16, 'CN', 'Counseling'),\n",
       " (17, 'CO', 'Communication'),\n",
       " (18, 'CR', 'Computer Engineering'),\n",
       " (19, 'CS', 'Computer Science'),\n",
       " (20, 'EC', 'Economics'),\n",
       " (21, 'ECE', 'Electrical and Computer Engineering'),\n",
       " (22, 'ED', 'Education'),\n",
       " (23, 'EE', 'Electrical Engineering'),\n",
       " (24, 'EEG', 'English for Engineers'),\n",
       " (25, 'EG', 'Engineering'),\n",
       " (26, 'EN', 'English'),\n",
       " (27, 'ENW', 'English: Writing'),\n",
       " (28, 'EV', 'Environmental Studies'),\n",
       " (29, 'FI', 'Finance'),\n",
       " (30, 'FR', 'French'),\n",
       " (31, 'FT', 'Family Therapy'),\n",
       " (32, 'FTM', 'Film, Television, and Media Arts'),\n",
       " (33, 'GD', 'Graphic Design'),\n",
       " (34, 'GM', 'German'),\n",
       " (35, 'GR', 'Greek'),\n",
       " (36, 'GS', 'General Studies'),\n",
       " (37, 'HA', 'Humanitarian Action'),\n",
       " (38, 'HE', 'Hebrew'),\n",
       " (39, 'HI', 'History'),\n",
       " (40, 'HR', 'Honors'),\n",
       " (41, 'HS', 'Health Studies'),\n",
       " (42, 'HU', 'Humanities'),\n",
       " (43, 'ID', 'Interdisciplinary'),\n",
       " (44, 'IL', 'International Studies'),\n",
       " (45, 'IN', 'Interior Design'),\n",
       " (46, 'IRI', 'Irish Studies'),\n",
       " (47, 'IS', 'Information Systems'),\n",
       " (48, 'IT', 'Italian'),\n",
       " (49, 'JA', 'Japanese'),\n",
       " (50, 'LA', 'Latin'),\n",
       " (51, 'LAC', 'Latin American and Caribbean Studies'),\n",
       " (52, 'MA', 'Mathematics'),\n",
       " (53, 'MD', 'Educational Technology'),\n",
       " (54, 'ME', 'Mechanical Engineering'),\n",
       " (55, 'MG', 'Management'),\n",
       " (56, 'MK', 'Marketing'),\n",
       " (57, 'MOT', 'Management of Technology'),\n",
       " (58, 'MPA', 'Public Administration'),\n",
       " (59, 'MU', 'Music'),\n",
       " (60, 'NS', 'Nursing'),\n",
       " (61, 'NSAN', 'Nursing: Anesthesia'),\n",
       " (62, 'NSMW', 'Nursing: Midwifery'),\n",
       " (63, 'OM', 'Operations Management'),\n",
       " (64, 'PG', 'Portuguese'),\n",
       " (65, 'PH', 'Philosophy'),\n",
       " (66, 'PJ', 'Peace and Justice Studies'),\n",
       " (67, 'PO', 'Politics'),\n",
       " (68, 'PS', 'Physics'),\n",
       " (69, 'PY', 'Psychology'),\n",
       " (70, 'QA', 'Quantitative Analysis'),\n",
       " (71, 'RES', 'Russian, Eastern European, and Central Asian Studies'),\n",
       " (72, 'RLD', 'Reading and Language Development'),\n",
       " (73, 'RS', 'Religious Studies'),\n",
       " (74, 'RU', 'Russian'),\n",
       " (75, 'SA', 'Studio Art'),\n",
       " (76, 'SE', 'Special Education'),\n",
       " (77, 'SL', 'TESOL and Bilingual Education'),\n",
       " (78, 'SO', 'Sociology'),\n",
       " (79, 'SP', 'Spanish'),\n",
       " (80, 'SW', 'Software Engineering'),\n",
       " (81, 'TA', 'Theatre'),\n",
       " (82, 'TX', 'Taxation'),\n",
       " (83, 'WS', 'Women, Gender, and Sexuality Studies'),\n",
       " (84, 'program_code', 'program_name')]"
      ]
     },
     "execution_count": 166,
     "metadata": {},
     "output_type": "execute_result"
    }
   ],
   "source": [
    "%%sql\n",
    "SELECT * FROM PROGRAMS;"
   ]
  },
  {
   "cell_type": "code",
   "execution_count": null,
   "metadata": {},
   "outputs": [],
   "source": []
  }
 ],
 "metadata": {
  "kernelspec": {
   "display_name": "Python 3",
   "language": "python",
   "name": "python3"
  },
  "language_info": {
   "codemirror_mode": {
    "name": "ipython",
    "version": 3
   },
   "file_extension": ".py",
   "mimetype": "text/x-python",
   "name": "python",
   "nbconvert_exporter": "python",
   "pygments_lexer": "ipython3",
   "version": "3.6.7"
  }
 },
 "nbformat": 4,
 "nbformat_minor": 4
}
