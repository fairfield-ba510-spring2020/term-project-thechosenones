{
 "cells": [
  {
   "cell_type": "code",
   "execution_count": 1,
   "metadata": {},
   "outputs": [],
   "source": [
    "%load_ext sql\n",
    "import pandas as pd\n",
    "import sqlite3"
   ]
  },
  {
   "cell_type": "code",
   "execution_count": 2,
   "metadata": {},
   "outputs": [
    {
     "data": {
      "text/plain": [
       "'Connected: @CourseData.db'"
      ]
     },
     "execution_count": 2,
     "metadata": {},
     "output_type": "execute_result"
    }
   ],
   "source": [
    "%sql sqlite:///CourseData.db"
   ]
  },
  {
   "cell_type": "code",
   "execution_count": 3,
   "metadata": {},
   "outputs": [
    {
     "name": "stdout",
     "output_type": "stream",
     "text": [
      " * sqlite:///CourseData.db\n",
      "Done.\n",
      "Done.\n",
      "Done.\n",
      "Done.\n",
      "Done.\n",
      "Done.\n",
      "Done.\n",
      "Done.\n"
     ]
    },
    {
     "data": {
      "text/plain": [
       "[]"
      ]
     },
     "execution_count": 3,
     "metadata": {},
     "output_type": "execute_result"
    }
   ],
   "source": [
    "%%sql\n",
    "DROP TABLE IF EXISTS PROGRAMS;\n",
    "CREATE TABLE PROGRAMS (\n",
    "    program_id INTEGER NOT NULL PRIMARY KEY, \n",
    "    program_code TEXT NOT NULL, \n",
    "    program_name TEXT NOT NULL);\n",
    "DROP TABLE IF EXISTS COURSE_CATALOG;\n",
    "CREATE TABLE COURSE_CATALOG (\n",
    "    catalog_id TEXT PRIMARY KEY,\n",
    "    program_id INTEGER NOT NULL,\n",
    "    course_title TEXT NOT NULL,\n",
    "    credits INTEGER NOT NULL,\n",
    "    prereqs TEXT,\n",
    "    coreqs TEXT,\n",
    "    fees TEXT,\n",
    "    attributes TEXT,\n",
    "    description TEXT,\n",
    "    FOREIGN KEY (program_id) REFERENCES PROGRAMS (program_id));\n",
    "DROP TABLE IF EXISTS COURSES;\n",
    "CREATE TABLE COURSES (\n",
    "    crn INTEGER NOT NULL PRIMARY KEY,\n",
    "    catalog_id TEXT NOT NULL,\n",
    "    term TEXT NOT NULL,\n",
    "    section INTEGER NOT NULL,\n",
    "    primary_instructor TEXT NOT NULL,\n",
    "    cap INTEGER NOT NULL,\n",
    "    act INTEGER NOT NULL,\n",
    "    rem INTEGER NOT NULL,\n",
    "    FOREIGN KEY (catalog_id) REFERENCES COURSE_CATALOG(catalog_id));\n",
    "DROP TABLE IF EXISTS COURSE_MEETINGS;\n",
    "CREATE TABLE COURSE_MEETINGS (\n",
    "    crn INTEGER NOT NULL PRIMARY KEY,\n",
    "    location TEXT NOT NULL,\n",
    "    day TEXT NOT NULL,\n",
    "    start TEXT NOT NULL,\n",
    "    end TEXT NOT NULL,\n",
    "    FOREIGN KEY (crn) REFERENCES COURSES (crn));\n"
   ]
  },
  {
   "cell_type": "markdown",
   "metadata": {},
   "source": [
    "Used the following protocol to load the source data into tables:\n",
    "Open a new Git Terminal\n",
    "> sqlite3 CourseData.db\n",
    "> .mode csv\n",
    "> .import CourseCatalog2017_2018.csv Import_CourseCatalog\n",
    "> .import CourseCatalog2018_2019.csv Import_CourseCatalog\n",
    "> .import course_meetings_fall2014.csv Import_course_meetings\n",
    "> .import course_meetings_fall2015.csv Import_course_meetings\n",
    "> .import course_meetings_fall2016.csv Import_course_meetings\n",
    "> .import course_meetings_fall2017.csv Import_course_meetings\n",
    "> .import course_meetings_fall2018.csv Import_course_meetings\n",
    "> .import course_meetings_spring2015.csv Import_course_meetings\n",
    "> .import course_meetings_spring2016.csv Import_course_meetings\n",
    "> .import course_meetings_spring2017.csv Import_course_meetings\n",
    "> .import course_meetings_spring2018.csv Import_course_meetings\n",
    "> .import course_meetings_spring2019.csv Import_course_meetings\n",
    "> .import course_meetings_springbreak2017.csv Import_course_meetings\n",
    "> .import course_meetings_summer2015.csv Import_course_meetings\n",
    "> .import course_meetings_summer2016.csv Import_course_meetings\n",
    "> .import course_meetings_summer2017.csv Import_course_meetings\n",
    "> .import course_meetings_summer2018.csv Import_course_meetings\n",
    "> .import course_meetings_winter2015.csv Import_course_meetings\n",
    "> .import course_meetings_winter2016.csv Import_course_meetings\n",
    "> .import course_meetings_winter2017.csv Import_course_meetings\n",
    "> .import course_meetings_winter2018.csv Import_course_meetings\n",
    "> \n",
    "> .import courses_fall2014.csv Import_courses\n",
    "> .import courses_fall2015.csv Import_courses\n",
    "> .import courses_fall2016.csv Import_courses\n",
    "> .import courses_fall2017.csv Import_courses\n",
    "> .import courses_fall2018.csv Import_courses\n",
    "> .import courses_spring2015.csv Import_courses\n",
    "> .import courses_spring2016.csv Import_courses\n",
    "> .import courses_spring2017.csv Import_courses\n",
    "> .import courses_spring2018.csv Import_courses\n",
    "> .import courses_spring2019.csv Import_courses\n",
    "> .import courses_springbreak2017.csv Import_courses\n",
    "> .import courses_summer2015.csv Import_courses\n",
    "> .import courses_summer2016.csv Import_courses\n",
    "> .import courses_summer2017.csv Import_courses\n",
    "> .import courses_summer2018.csv Import_courses\n",
    "> .import courses_winter2015.csv Import_courses\n",
    "> .import courses_winter2016.csv Import_courses\n",
    "> .import courses_winter2017.csv Import_courses\n",
    "> .import courses_winter2018.csv Import_courses"
   ]
  },
  {
   "cell_type": "code",
   "execution_count": null,
   "metadata": {},
   "outputs": [],
   "source": []
  },
  {
   "cell_type": "code",
   "execution_count": 5,
   "metadata": {},
   "outputs": [
    {
     "name": "stdout",
     "output_type": "stream",
     "text": [
      " * sqlite:///CourseData.db\n",
      "Done.\n"
     ]
    },
    {
     "data": {
      "text/html": [
       "<table>\n",
       "    <tr>\n",
       "        <th>program_code</th>\n",
       "        <th>program_name</th>\n",
       "        <th>catalog_id</th>\n",
       "        <th>course_title</th>\n",
       "        <th>credits</th>\n",
       "        <th>prereqs</th>\n",
       "        <th>coreqs</th>\n",
       "        <th>fees</th>\n",
       "        <th>attributes</th>\n",
       "        <th>description</th>\n",
       "    </tr>\n",
       "    <tr>\n",
       "        <td>AN</td>\n",
       "        <td>Asian Studies</td>\n",
       "        <td>AN 0301</td>\n",
       "        <td>Independent Study</td>\n",
       "        <td>1-3 Credits</td>\n",
       "        <td></td>\n",
       "        <td></td>\n",
       "        <td></td>\n",
       "        <td></td>\n",
       "        <td>Students undertake an individualized program of study in consultation with a director from the Asian studies faculty.</td>\n",
       "    </tr>\n",
       "    <tr>\n",
       "        <td>AN</td>\n",
       "        <td>Asian Studies</td>\n",
       "        <td>AN 0310</td>\n",
       "        <td>Asian Studies Seminar</td>\n",
       "        <td>3 Credits</td>\n",
       "        <td></td>\n",
       "        <td></td>\n",
       "        <td></td>\n",
       "        <td></td>\n",
       "        <td>This seminar examines selected topics concerning Asia. This course is taught in conjunction with another 100-300 level course from a rotation of course offerings. Consult the Asian Studies director to identify the conjoined course for a given semester. The seminar concentrates on topics within the parameters of the conjoined course syllabus but adds research emphasis. Students registered for this course must complete a research project, to include 300-level research, in addition to the regular research requirements of the conjoined course, and a 25-50 page term paper in substitution of some portion of the conjoined course requirements, as determined by the instructor. Open to juniors and seniors only.</td>\n",
       "    </tr>\n",
       "</table>"
      ],
      "text/plain": [
       "[('AN', 'Asian Studies', 'AN 0301', 'Independent Study', '1-3 Credits', '', '', '', '', 'Students undertake an individualized program of study in consultation with a director from the Asian studies faculty.'),\n",
       " ('AN', 'Asian Studies', 'AN 0310', 'Asian Studies Seminar', '3 Credits', '', '', '', '', 'This seminar examines selected topics concerning Asia. This course is taught in conjunction with another 100-300 level course from a rotation of cour ... (412 characters truncated) ... e term paper in substitution of some portion of the conjoined course requirements, as determined by the instructor. Open to juniors and seniors only.')]"
      ]
     },
     "execution_count": 5,
     "metadata": {},
     "output_type": "execute_result"
    }
   ],
   "source": [
    "%%sql\n",
    "SELECT * FROM Import_CourseCatalog LIMIT 2;\n"
   ]
  },
  {
   "cell_type": "code",
   "execution_count": 6,
   "metadata": {},
   "outputs": [
    {
     "name": "stdout",
     "output_type": "stream",
     "text": [
      " * sqlite:///CourseData.db\n",
      "0 rows affected.\n",
      "84 rows affected.\n"
     ]
    },
    {
     "data": {
      "text/plain": [
       "[]"
      ]
     },
     "execution_count": 6,
     "metadata": {},
     "output_type": "execute_result"
    }
   ],
   "source": [
    "%%sql\n",
    "DELETE FROM PROGRAMS;\n",
    "INSERT INTO PROGRAMS (program_code, program_name)\n",
    "    SELECT DISTINCT program_code, program_name FROM Import_CourseCatalog;"
   ]
  },
  {
   "cell_type": "code",
   "execution_count": null,
   "metadata": {},
   "outputs": [],
   "source": []
  }
 ],
 "metadata": {
  "kernelspec": {
   "display_name": "Python 3",
   "language": "python",
   "name": "python3"
  },
  "language_info": {
   "codemirror_mode": {
    "name": "ipython",
    "version": 3
   },
   "file_extension": ".py",
   "mimetype": "text/x-python",
   "name": "python",
   "nbconvert_exporter": "python",
   "pygments_lexer": "ipython3",
   "version": "3.6.7"
  }
 },
 "nbformat": 4,
 "nbformat_minor": 4
}
