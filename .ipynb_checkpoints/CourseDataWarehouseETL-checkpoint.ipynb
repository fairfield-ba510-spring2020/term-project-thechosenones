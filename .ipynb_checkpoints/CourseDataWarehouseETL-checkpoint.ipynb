{
 "cells": [
  {
   "cell_type": "code",
   "execution_count": 1,
   "metadata": {},
   "outputs": [],
   "source": [
    "%load_ext sql\n",
    "import pandas as pd\n",
    "import sqlite3"
   ]
  },
  {
   "cell_type": "code",
   "execution_count": 2,
   "metadata": {},
   "outputs": [
    {
     "data": {
      "text/plain": [
       "'Connected: @CourseDataWarehouse.db'"
      ]
     },
     "execution_count": 2,
     "metadata": {},
     "output_type": "execute_result"
    }
   ],
   "source": [
    "%sql sqlite:///CourseDataWarehouse.db"
   ]
  },
  {
   "cell_type": "code",
   "execution_count": 5,
   "metadata": {},
   "outputs": [
    {
     "name": "stdout",
     "output_type": "stream",
     "text": [
      " * sqlite:///CourseDataWarehouse.db\n",
      "Done.\n",
      "Done.\n",
      "Done.\n",
      "Done.\n",
      "Done.\n",
      "Done.\n",
      "Done.\n",
      "Done.\n",
      "Done.\n",
      "Done.\n",
      "Done.\n",
      "Done.\n"
     ]
    },
    {
     "data": {
      "text/plain": [
       "[]"
      ]
     },
     "execution_count": 5,
     "metadata": {},
     "output_type": "execute_result"
    }
   ],
   "source": [
    "%%sql\n",
    "\n",
    "DROP TABLE IF EXISTS COURSE_CAT_DIMENSION;\n",
    "CREATE TABLE COURSE_CAT_DIMENSION (\n",
    "    cat_id INTEGER NOT NULL PRIMARY KEY,\n",
    "    catalog_id TEXT,\n",
    "    catalog_year INTEGER,\n",
    "    program_id INTEGER NOT NULL,\n",
    "    course_title TEXT NOT NULL,\n",
    "    credits INTEGER NOT NULL,\n",
    "    prereqs TEXT,\n",
    "    coreqs TEXT,\n",
    "    fees TEXT,\n",
    "    attributes TEXT,\n",
    "    description TEXT);\n",
    "DROP TABLE IF EXISTS PROGRAMS_DIMENSION;\n",
    "CREATE TABLE PROGRAMS_DIMENSION(\n",
    "    program_id INTEGER NOT NULL PRIMARY KEY,\n",
    "    program_code TEXT NOT NULL,\n",
    "    program_name TEXT NOT NULL);\n",
    "DROP TABLE IF EXISTS COURSES_DIMENSION;\n",
    "CREATE TABLE COURSES_DIMENSION(\n",
    "    course_id INTEGER NOT NULL PRIMARY KEY,\n",
    "    crn TEXT,\n",
    "    catalog_id TEXT,\n",
    "    section INTEGER,\n",
    "    professor_name TEXT);\n",
    "DROP TABLE IF EXISTS LOCATION_DIMENSION;\n",
    "CREATE TABLE LOCATION_DIMENSION(\n",
    "    location_id INTEGER NOT NULL PRIMARY KEY,\n",
    "    location TEXT);\n",
    "DROP TABLE IF EXISTS PROFESSOR_DIMENSION;\n",
    "CREATE TABLE PROFESSOR_DIMENSION(\n",
    "    professor_id INTEGER NOT NULL PRIMARY KEY,\n",
    "    name TEXT NOT NULL);\n",
    "DROP TABLE IF EXISTS COURSE_MEETINGS_FACTS;\n",
    "CREATE TABLE COURSE_MEETINGS_FACTS (\n",
    "    coursemeeting_id INTEGER NOT NULL PRIMARY KEY,\n",
    "    cat_id INTEGER NOT NULL,\n",
    "    course_id INTEGER NOT NULL,\n",
    "    location_id INTEGER NOT NULL,\n",
    "    program_id INTEGER NOT NULL,\n",
    "    professor_id TEXT NOT NULL,\n",
    "    day TEXT NOT NULL,\n",
    "    start TEXT NOT NULL,\n",
    "    end TEXT NOT NULL,\n",
    "    term TEXT,\n",
    "    cap INTEGER,\n",
    "    act INTEGER,\n",
    "    rem INTEGER,\n",
    "    FOREIGN KEY (cat_id) REFERENCES COURSE_CAT_DIMENSION (cat_id),\n",
    "    FOREIGN KEY (course_id) REFERENCES COURSES_DIMENSION (course_id),\n",
    "    FOREIGN KEY (location_id) REFERENCES LOCATION_DIMENSION (location_id),\n",
    "    FOREIGN KEY (program_id) REFERENCES PROGRAMS_DIMENSION (program_id)\n",
    "    FOREIGN KEY (professor_id) REFERENCES PROFESSOR_DIMENSION (professor_id));\n"
   ]
  },
  {
   "cell_type": "code",
   "execution_count": null,
   "metadata": {},
   "outputs": [],
   "source": []
  }
 ],
 "metadata": {
  "kernelspec": {
   "display_name": "Python 3",
   "language": "python",
   "name": "python3"
  },
  "language_info": {
   "codemirror_mode": {
    "name": "ipython",
    "version": 3
   },
   "file_extension": ".py",
   "mimetype": "text/x-python",
   "name": "python",
   "nbconvert_exporter": "python",
   "pygments_lexer": "ipython3",
   "version": "3.6.7"
  }
 },
 "nbformat": 4,
 "nbformat_minor": 4
}
