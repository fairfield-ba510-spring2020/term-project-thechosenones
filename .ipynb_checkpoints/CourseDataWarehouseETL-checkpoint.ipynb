{
 "cells": [
  {
   "cell_type": "code",
   "execution_count": 1,
   "metadata": {},
   "outputs": [],
   "source": [
    "%load_ext sql\n",
    "import pandas as pd\n",
    "import sqlite3"
   ]
  },
  {
   "cell_type": "code",
   "execution_count": 2,
   "metadata": {},
   "outputs": [
    {
     "data": {
      "text/plain": [
       "'Connected: @CourseDataWarehouse.db'"
      ]
     },
     "execution_count": 2,
     "metadata": {},
     "output_type": "execute_result"
    }
   ],
   "source": [
    "%sql sqlite:///CourseDataWarehouse.db"
   ]
  },
  {
   "cell_type": "code",
   "execution_count": 3,
   "metadata": {},
   "outputs": [
    {
     "name": "stdout",
     "output_type": "stream",
     "text": [
      " * sqlite:///CourseDataWarehouse.db\n",
      "Done.\n",
      "Done.\n",
      "Done.\n",
      "Done.\n",
      "Done.\n",
      "Done.\n",
      "Done.\n",
      "Done.\n",
      "Done.\n",
      "Done.\n",
      "Done.\n",
      "Done.\n"
     ]
    },
    {
     "data": {
      "text/plain": [
       "[]"
      ]
     },
     "execution_count": 3,
     "metadata": {},
     "output_type": "execute_result"
    }
   ],
   "source": [
    "%%sql\n",
    "\n",
    "DROP TABLE IF EXISTS COURSE_CAT_DIMENSION;\n",
    "CREATE TABLE COURSE_CAT_DIMENSION (\n",
    "    cat_id INTEGER NOT NULL PRIMARY KEY,\n",
    "    catalog_id TEXT,\n",
    "    catalog_year INTEGER,\n",
    "    program_id INTEGER NOT NULL,\n",
    "    course_title TEXT NOT NULL,\n",
    "    credits INTEGER NOT NULL,\n",
    "    prereqs TEXT,\n",
    "    coreqs TEXT,\n",
    "    fees TEXT,\n",
    "    attributes TEXT,\n",
    "    description TEXT);\n",
    "DROP TABLE IF EXISTS PROGRAMS_DIMENSION;\n",
    "CREATE TABLE PROGRAMS_DIMENSION(\n",
    "    program_id INTEGER NOT NULL PRIMARY KEY,\n",
    "    program_code TEXT NOT NULL,\n",
    "    program_name TEXT NOT NULL);\n",
    "DROP TABLE IF EXISTS COURSES_DIMENSION;\n",
    "CREATE TABLE COURSES_DIMENSION(\n",
    "    course_id INTEGER NOT NULL PRIMARY KEY,\n",
    "    crn TEXT,\n",
    "    catalog_id TEXT,\n",
    "    section INTEGER);\n",
    "DROP TABLE IF EXISTS LOCATION_DIMENSION;\n",
    "CREATE TABLE LOCATION_DIMENSION(\n",
    "    location_id INTEGER NOT NULL PRIMARY KEY,\n",
    "    location TEXT);\n",
    "DROP TABLE IF EXISTS PROFESSOR_DIMENSION;\n",
    "CREATE TABLE PROFESSOR_DIMENSION(\n",
    "    professor_id INTEGER NOT NULL PRIMARY KEY,\n",
    "    name TEXT NOT NULL);\n",
    "DROP TABLE IF EXISTS COURSE_MEETINGS_FACTS;\n",
    "CREATE TABLE COURSE_MEETINGS_FACTS (\n",
    "    coursemeeting_id INTEGER NOT NULL PRIMARY KEY,\n",
    "    cat_id INTEGER,\n",
    "    course_id INTEGER,\n",
    "    location_id INTEGER,\n",
    "    program_id INTEGER,\n",
    "    professor_id TEXT,\n",
    "    day TEXT,\n",
    "    start TEXT,\n",
    "    end TEXT,\n",
    "    term TEXT,\n",
    "    cap INTEGER,\n",
    "    act INTEGER,\n",
    "    rem INTEGER,\n",
    "    FOREIGN KEY (cat_id) REFERENCES COURSE_CAT_DIMENSION (cat_id),\n",
    "    FOREIGN KEY (course_id) REFERENCES COURSES_DIMENSION (course_id),\n",
    "    FOREIGN KEY (location_id) REFERENCES LOCATION_DIMENSION (location_id),\n",
    "    FOREIGN KEY (program_id) REFERENCES PROGRAMS_DIMENSION (program_id)\n",
    "    FOREIGN KEY (professor_id) REFERENCES PROFESSOR_DIMENSION (professor_id));\n"
   ]
  },
  {
   "cell_type": "code",
   "execution_count": 4,
   "metadata": {},
   "outputs": [
    {
     "name": "stdout",
     "output_type": "stream",
     "text": [
      " * sqlite:///CourseDataWarehouse.db\n",
      "Done.\n"
     ]
    },
    {
     "data": {
      "text/plain": [
       "[]"
      ]
     },
     "execution_count": 4,
     "metadata": {},
     "output_type": "execute_result"
    }
   ],
   "source": [
    "%%sql\n",
    "ATTACH DATABASE 'CourseData.db' as CourseData;"
   ]
  },
  {
   "cell_type": "code",
   "execution_count": 5,
   "metadata": {},
   "outputs": [
    {
     "name": "stdout",
     "output_type": "stream",
     "text": [
      " * sqlite:///CourseDataWarehouse.db\n",
      "0 rows affected.\n",
      "83 rows affected.\n"
     ]
    },
    {
     "data": {
      "text/plain": [
       "[]"
      ]
     },
     "execution_count": 5,
     "metadata": {},
     "output_type": "execute_result"
    }
   ],
   "source": [
    "%%sql\n",
    "DELETE FROM PROGRAMS_DIMENSION;\n",
    "INSERT INTO PROGRAMS_DIMENSION(program_id,program_code,program_name)\n",
    "    SELECT DISTINCT PROGRAMS.program_id, PROGRAMS.program_code, PROGRAMS.program_name\n",
    "    FROM PROGRAMS;"
   ]
  },
  {
   "cell_type": "code",
   "execution_count": 6,
   "metadata": {},
   "outputs": [
    {
     "name": "stdout",
     "output_type": "stream",
     "text": [
      " * sqlite:///CourseDataWarehouse.db\n",
      "0 rows affected.\n",
      "1095 rows affected.\n"
     ]
    },
    {
     "data": {
      "text/plain": [
       "[]"
      ]
     },
     "execution_count": 6,
     "metadata": {},
     "output_type": "execute_result"
    }
   ],
   "source": [
    "%%sql\n",
    "DELETE FROM PROFESSOR_DIMENSION;\n",
    "INSERT INTO PROFESSOR_DIMENSION(professor_id,name)\n",
    "    SELECT DISTINCT PROFESSORS.professor_id,PROFESSORS.name\n",
    "    FROM PROFESSORS;"
   ]
  },
  {
   "cell_type": "code",
   "execution_count": 7,
   "metadata": {},
   "outputs": [
    {
     "name": "stdout",
     "output_type": "stream",
     "text": [
      " * sqlite:///CourseDataWarehouse.db\n",
      "0 rows affected.\n",
      "207 rows affected.\n"
     ]
    },
    {
     "data": {
      "text/plain": [
       "[]"
      ]
     },
     "execution_count": 7,
     "metadata": {},
     "output_type": "execute_result"
    }
   ],
   "source": [
    "%%sql\n",
    "DELETE FROM LOCATION_DIMENSION;\n",
    "INSERT INTO LOCATION_DIMENSION (location)\n",
    "    SELECT DISTINCT COURSE_MEETINGS.location\n",
    "    FROM COURSE_MEETINGS;"
   ]
  },
  {
   "cell_type": "code",
   "execution_count": 8,
   "metadata": {},
   "outputs": [
    {
     "name": "stdout",
     "output_type": "stream",
     "text": [
      " * sqlite:///CourseDataWarehouse.db\n",
      "0 rows affected.\n",
      "15937 rows affected.\n"
     ]
    },
    {
     "data": {
      "text/plain": [
       "[]"
      ]
     },
     "execution_count": 8,
     "metadata": {},
     "output_type": "execute_result"
    }
   ],
   "source": [
    "%%sql\n",
    "DELETE FROM COURSES_DIMENSION;\n",
    "INSERT INTO COURSES_DIMENSION(course_id,crn,catalog_id,section)\n",
    "    SELECT DISTINCT COURSES.course_id,COURSES.crn,COURSES.catalog_id,COURSES.section\n",
    "    FROM COURSES;"
   ]
  },
  {
   "cell_type": "code",
   "execution_count": 9,
   "metadata": {},
   "outputs": [
    {
     "name": "stdout",
     "output_type": "stream",
     "text": [
      " * sqlite:///CourseDataWarehouse.db\n",
      "0 rows affected.\n",
      "4440 rows affected.\n"
     ]
    },
    {
     "data": {
      "text/plain": [
       "[]"
      ]
     },
     "execution_count": 9,
     "metadata": {},
     "output_type": "execute_result"
    }
   ],
   "source": [
    "%%sql\n",
    "DELETE FROM COURSE_CAT_DIMENSION;\n",
    "INSERT INTO COURSE_CAT_DIMENSION(cat_id,catalog_id,catalog_year,program_id,course_title,credits,prereqs,coreqs,fees,attributes,description)\n",
    "    SELECT DISTINCT C.cat_id,C.catalog_id,C.catalog_year,C.program_id,C.course_title,C.credits,C.prereqs,C.coreqs,C.fees,C.attributes,C.description\n",
    "    FROM COURSE_CATALOG AS C;"
   ]
  },
  {
   "cell_type": "code",
   "execution_count": null,
   "metadata": {},
   "outputs": [],
   "source": [
    "%%sql\n",
    "DELETE FROM COURSE_MEETING_FACTS;\n",
    "INSERT INTO COURSE_MEETING_FACTS (cat_id,course_id,location_id,program_id,professor_id,day,start,end,term,cap,act,rem)\n",
    "    SELECT DISTINCT C.cat_id,C1.course_id,L.location_id,P.program_id,P1.professor_id,day,start,end,term,cap,act,rem\n",
    "    FROM COURSE_MEETINGS\n",
    "    LEFT JOIN COURSE_CAT_DIMENSION AS C"
   ]
  },
  {
   "cell_type": "code",
   "execution_count": 10,
   "metadata": {},
   "outputs": [
    {
     "name": "stdout",
     "output_type": "stream",
     "text": [
      " * sqlite:///CourseDataWarehouse.db\n",
      "Done.\n"
     ]
    },
    {
     "data": {
      "text/plain": [
       "[]"
      ]
     },
     "execution_count": 10,
     "metadata": {},
     "output_type": "execute_result"
    }
   ],
   "source": [
    "%%sql\n",
    "DETACH DATABASE 'CourseData';"
   ]
  },
  {
   "cell_type": "code",
   "execution_count": 11,
   "metadata": {},
   "outputs": [
    {
     "name": "stdout",
     "output_type": "stream",
     "text": [
      " * sqlite:///CourseDataWarehouse.db\n",
      "Done.\n"
     ]
    },
    {
     "data": {
      "text/plain": [
       "[]"
      ]
     },
     "execution_count": 11,
     "metadata": {},
     "output_type": "execute_result"
    }
   ],
   "source": [
    "%%sql\n",
    "vacuum;"
   ]
  },
  {
   "cell_type": "code",
   "execution_count": null,
   "metadata": {},
   "outputs": [],
   "source": []
  }
 ],
 "metadata": {
  "kernelspec": {
   "display_name": "Python 3",
   "language": "python",
   "name": "python3"
  },
  "language_info": {
   "codemirror_mode": {
    "name": "ipython",
    "version": 3
   },
   "file_extension": ".py",
   "mimetype": "text/x-python",
   "name": "python",
   "nbconvert_exporter": "python",
   "pygments_lexer": "ipython3",
   "version": "3.6.7"
  }
 },
 "nbformat": 4,
 "nbformat_minor": 4
}
