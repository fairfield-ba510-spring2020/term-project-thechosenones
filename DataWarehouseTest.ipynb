{
 "cells": [
  {
   "cell_type": "code",
   "execution_count": 1,
   "metadata": {},
   "outputs": [],
   "source": [
    "%load_ext sql\n",
    "import pandas as pd\n",
    "import sqlite3"
   ]
  },
  {
   "cell_type": "code",
   "execution_count": 2,
   "metadata": {},
   "outputs": [
    {
     "data": {
      "text/plain": [
       "'Connected: @CourseDataWarehouse.db'"
      ]
     },
     "execution_count": 2,
     "metadata": {},
     "output_type": "execute_result"
    }
   ],
   "source": [
    "%sql sqlite:///CourseDataWarehouse.db"
   ]
  },
  {
   "cell_type": "code",
   "execution_count": 3,
   "metadata": {},
   "outputs": [
    {
     "name": "stdout",
     "output_type": "stream",
     "text": [
      " * sqlite:///CourseDataWarehouse.db\n",
      "Done.\n"
     ]
    },
    {
     "data": {
      "text/html": [
       "<table>\n",
       "    <tr>\n",
       "        <th>program_name</th>\n",
       "        <th>course_title</th>\n",
       "        <th>name</th>\n",
       "        <th>term</th>\n",
       "    </tr>\n",
       "    <tr>\n",
       "        <td>Accounting</td>\n",
       "        <td>Accounting Information Systems</td>\n",
       "        <td>Scott M  Brenner</td>\n",
       "        <td>Fall2017</td>\n",
       "    </tr>\n",
       "    <tr>\n",
       "        <td>Accounting</td>\n",
       "        <td>Accounting Information for Decision-Making</td>\n",
       "        <td>Michael P.  Coyne</td>\n",
       "        <td>Fall2017</td>\n",
       "    </tr>\n",
       "    <tr>\n",
       "        <td>Accounting</td>\n",
       "        <td>Advanced Accounting</td>\n",
       "        <td>Patricia M.  Poli</td>\n",
       "        <td>Fall2017</td>\n",
       "    </tr>\n",
       "    <tr>\n",
       "        <td>Accounting</td>\n",
       "        <td>Auditing</td>\n",
       "        <td>David L.  Glinka</td>\n",
       "        <td>Fall2017</td>\n",
       "    </tr>\n",
       "    <tr>\n",
       "        <td>Accounting</td>\n",
       "        <td>Auditing</td>\n",
       "        <td>Paul   Caster</td>\n",
       "        <td>Fall2017</td>\n",
       "    </tr>\n",
       "    <tr>\n",
       "        <td>Accounting</td>\n",
       "        <td>Cost Management</td>\n",
       "        <td>Bruce   Bradford</td>\n",
       "        <td>Fall2017</td>\n",
       "    </tr>\n",
       "    <tr>\n",
       "        <td>Accounting</td>\n",
       "        <td>Cost Management Lab</td>\n",
       "        <td>Bruce   Bradford</td>\n",
       "        <td>Fall2017</td>\n",
       "    </tr>\n",
       "    <tr>\n",
       "        <td>Accounting</td>\n",
       "        <td>Federal Income Taxation I</td>\n",
       "        <td>David J.  Orticelli</td>\n",
       "        <td>Fall2017</td>\n",
       "    </tr>\n",
       "    <tr>\n",
       "        <td>Accounting</td>\n",
       "        <td>Federal Income Taxation I</td>\n",
       "        <td>Jo Ann   Drusbosky</td>\n",
       "        <td>Fall2017</td>\n",
       "    </tr>\n",
       "    <tr>\n",
       "        <td>Accounting</td>\n",
       "        <td>Intermediate Accounting I</td>\n",
       "        <td>Milo W.  Peck</td>\n",
       "        <td>Fall2017</td>\n",
       "    </tr>\n",
       "</table>"
      ],
      "text/plain": [
       "[('Accounting', 'Accounting Information Systems', 'Scott M  Brenner', 'Fall2017'),\n",
       " ('Accounting', 'Accounting Information for Decision-Making', 'Michael P.  Coyne', 'Fall2017'),\n",
       " ('Accounting', 'Advanced Accounting', 'Patricia M.  Poli', 'Fall2017'),\n",
       " ('Accounting', 'Auditing', 'David L.  Glinka', 'Fall2017'),\n",
       " ('Accounting', 'Auditing', 'Paul   Caster', 'Fall2017'),\n",
       " ('Accounting', 'Cost Management', 'Bruce   Bradford', 'Fall2017'),\n",
       " ('Accounting', 'Cost Management Lab', 'Bruce   Bradford', 'Fall2017'),\n",
       " ('Accounting', 'Federal Income Taxation I', 'David J.  Orticelli', 'Fall2017'),\n",
       " ('Accounting', 'Federal Income Taxation I', 'Jo Ann   Drusbosky', 'Fall2017'),\n",
       " ('Accounting', 'Intermediate Accounting I', 'Milo W.  Peck', 'Fall2017')]"
      ]
     },
     "execution_count": 3,
     "metadata": {},
     "output_type": "execute_result"
    }
   ],
   "source": [
    "%%sql\n",
    "SELECT P1.program_name, C2.course_title,P.name, C.term\n",
    "FROM COURSE_MEETINGS_FACTS AS C\n",
    "LEFT JOIN PROFESSOR_DIMENSION AS P USING(professor_id)\n",
    "LEFT JOIN PROGRAMS_DIMENSION AS P1 USING(program_id)\n",
    "LEFT JOIN COURSE_CAT_DIMENSION AS C2 USING(cat_id)\n",
    "WHERE P1.program_code LIKE '%AC%' AND C.term LIKE '%Fall2017%'\n",
    "GROUP BY course_title, name\n",
    "LIMIT 10;"
   ]
  },
  {
   "cell_type": "code",
   "execution_count": 4,
   "metadata": {},
   "outputs": [
    {
     "name": "stdout",
     "output_type": "stream",
     "text": [
      " * sqlite:///CourseDataWarehouse.db\n",
      "Done.\n"
     ]
    },
    {
     "data": {
      "text/html": [
       "<table>\n",
       "    <tr>\n",
       "        <th>location</th>\n",
       "        <th>day</th>\n",
       "        <th>start</th>\n",
       "        <th>end</th>\n",
       "        <th>cap</th>\n",
       "    </tr>\n",
       "    <tr>\n",
       "        <td>DSB 111</td>\n",
       "        <td>W</td>\n",
       "        <td>2017-10-04T09:00:00</td>\n",
       "        <td>2017-10-04T12:00:00</td>\n",
       "        <td>0</td>\n",
       "    </tr>\n",
       "    <tr>\n",
       "        <td>DSB 111</td>\n",
       "        <td>W</td>\n",
       "        <td>2017-10-04T09:00:00</td>\n",
       "        <td>2017-10-04T12:00:00</td>\n",
       "        <td>0</td>\n",
       "    </tr>\n",
       "    <tr>\n",
       "        <td>DSB 111</td>\n",
       "        <td>W</td>\n",
       "        <td>2017-10-11T09:00:00</td>\n",
       "        <td>2017-10-11T12:00:00</td>\n",
       "        <td>0</td>\n",
       "    </tr>\n",
       "    <tr>\n",
       "        <td>DSB 111</td>\n",
       "        <td>W</td>\n",
       "        <td>2017-10-11T09:00:00</td>\n",
       "        <td>2017-10-11T12:00:00</td>\n",
       "        <td>0</td>\n",
       "    </tr>\n",
       "    <tr>\n",
       "        <td>DSB 111</td>\n",
       "        <td>W</td>\n",
       "        <td>2017-10-18T09:00:00</td>\n",
       "        <td>2017-10-18T12:00:00</td>\n",
       "        <td>0</td>\n",
       "    </tr>\n",
       "    <tr>\n",
       "        <td>DSB 111</td>\n",
       "        <td>W</td>\n",
       "        <td>2017-10-18T09:00:00</td>\n",
       "        <td>2017-10-18T12:00:00</td>\n",
       "        <td>0</td>\n",
       "    </tr>\n",
       "    <tr>\n",
       "        <td>DSB 111</td>\n",
       "        <td>W</td>\n",
       "        <td>2017-10-25T09:00:00</td>\n",
       "        <td>2017-10-25T12:00:00</td>\n",
       "        <td>0</td>\n",
       "    </tr>\n",
       "    <tr>\n",
       "        <td>DSB 111</td>\n",
       "        <td>W</td>\n",
       "        <td>2017-10-25T09:00:00</td>\n",
       "        <td>2017-10-25T12:00:00</td>\n",
       "        <td>0</td>\n",
       "    </tr>\n",
       "    <tr>\n",
       "        <td>DSB 111</td>\n",
       "        <td>W</td>\n",
       "        <td>2017-11-01T09:00:00</td>\n",
       "        <td>2017-11-01T12:00:00</td>\n",
       "        <td>0</td>\n",
       "    </tr>\n",
       "    <tr>\n",
       "        <td>DSB 111</td>\n",
       "        <td>W</td>\n",
       "        <td>2017-11-01T09:00:00</td>\n",
       "        <td>2017-11-01T12:00:00</td>\n",
       "        <td>0</td>\n",
       "    </tr>\n",
       "</table>"
      ],
      "text/plain": [
       "[('DSB 111', 'W', '2017-10-04T09:00:00', '2017-10-04T12:00:00', 0),\n",
       " ('DSB 111', 'W', '2017-10-04T09:00:00', '2017-10-04T12:00:00', 0),\n",
       " ('DSB 111', 'W', '2017-10-11T09:00:00', '2017-10-11T12:00:00', 0),\n",
       " ('DSB 111', 'W', '2017-10-11T09:00:00', '2017-10-11T12:00:00', 0),\n",
       " ('DSB 111', 'W', '2017-10-18T09:00:00', '2017-10-18T12:00:00', 0),\n",
       " ('DSB 111', 'W', '2017-10-18T09:00:00', '2017-10-18T12:00:00', 0),\n",
       " ('DSB 111', 'W', '2017-10-25T09:00:00', '2017-10-25T12:00:00', 0),\n",
       " ('DSB 111', 'W', '2017-10-25T09:00:00', '2017-10-25T12:00:00', 0),\n",
       " ('DSB 111', 'W', '2017-11-01T09:00:00', '2017-11-01T12:00:00', 0),\n",
       " ('DSB 111', 'W', '2017-11-01T09:00:00', '2017-11-01T12:00:00', 0)]"
      ]
     },
     "execution_count": 4,
     "metadata": {},
     "output_type": "execute_result"
    }
   ],
   "source": [
    "%%sql \n",
    "SELECT L.location, day, start, end, cap\n",
    "FROM COURSE_MEETINGS_FACTS\n",
    "LEFT JOIN LOCATION_DIMENSION AS L USING (location_id)\n",
    "WHERE L.location LIKE '%DSB 111%'\n",
    "LIMIT 10;"
   ]
  },
  {
   "cell_type": "code",
   "execution_count": 5,
   "metadata": {},
   "outputs": [
    {
     "name": "stdout",
     "output_type": "stream",
     "text": [
      " * sqlite:///CourseDataWarehouse.db\n",
      "Done.\n"
     ]
    },
    {
     "data": {
      "text/html": [
       "<table>\n",
       "    <tr>\n",
       "        <th>course_title</th>\n",
       "        <th>act</th>\n",
       "        <th>term</th>\n",
       "    </tr>\n",
       "    <tr>\n",
       "        <td>Introduction to Financial Accounting</td>\n",
       "        <td>30</td>\n",
       "        <td>Fall2017</td>\n",
       "    </tr>\n",
       "    <tr>\n",
       "        <td>Accounting Information for Decision-Making</td>\n",
       "        <td>16</td>\n",
       "        <td>Fall2017</td>\n",
       "    </tr>\n",
       "    <tr>\n",
       "        <td>Introduction to Financial Accounting</td>\n",
       "        <td>28</td>\n",
       "        <td>Fall2018</td>\n",
       "    </tr>\n",
       "    <tr>\n",
       "        <td>Accounting Information for Decision-Making</td>\n",
       "        <td>23</td>\n",
       "        <td>Fall2018</td>\n",
       "    </tr>\n",
       "    <tr>\n",
       "        <td>Introduction to Management Accounting</td>\n",
       "        <td>32</td>\n",
       "        <td>Spring2019</td>\n",
       "    </tr>\n",
       "    <tr>\n",
       "        <td>Accounting Information for Decision-Making</td>\n",
       "        <td>17</td>\n",
       "        <td>Spring2019</td>\n",
       "    </tr>\n",
       "    <tr>\n",
       "        <td>Introduction to Accounting</td>\n",
       "        <td>9</td>\n",
       "        <td>Summer2018</td>\n",
       "    </tr>\n",
       "</table>"
      ],
      "text/plain": [
       "[('Introduction to Financial Accounting', 30, 'Fall2017'),\n",
       " ('Accounting Information for Decision-Making', 16, 'Fall2017'),\n",
       " ('Introduction to Financial Accounting', 28, 'Fall2018'),\n",
       " ('Accounting Information for Decision-Making', 23, 'Fall2018'),\n",
       " ('Introduction to Management Accounting', 32, 'Spring2019'),\n",
       " ('Accounting Information for Decision-Making', 17, 'Spring2019'),\n",
       " ('Introduction to Accounting', 9, 'Summer2018')]"
      ]
     },
     "execution_count": 5,
     "metadata": {},
     "output_type": "execute_result"
    }
   ],
   "source": [
    "%%sql\n",
    "SELECT DISTINCT C1.course_title, c.act,c.term\n",
    "FROM COURSE_MEETINGS_FACTS AS C\n",
    "LEFT JOIN PROFESSOR_DIMENSION AS P USING (professor_id)\n",
    "LEFT JOIN COURSE_CAT_DIMENSION AS C1 USING (cat_id)\n",
    "WHERE P.name LIKE 'Michael P.  Coyne%'\n",
    "LIMIT 10;"
   ]
  },
  {
   "cell_type": "code",
   "execution_count": 6,
   "metadata": {},
   "outputs": [
    {
     "name": "stdout",
     "output_type": "stream",
     "text": [
      " * sqlite:///CourseDataWarehouse.db\n",
      "Done.\n"
     ]
    },
    {
     "data": {
      "text/html": [
       "<table>\n",
       "    <tr>\n",
       "        <th>catalog_id</th>\n",
       "        <th>act</th>\n",
       "        <th>term</th>\n",
       "    </tr>\n",
       "    <tr>\n",
       "        <td>TA 0253</td>\n",
       "        <td>2</td>\n",
       "        <td>Fall2017</td>\n",
       "    </tr>\n",
       "</table>"
      ],
      "text/plain": [
       "[('TA 0253', 2, 'Fall2017')]"
      ]
     },
     "execution_count": 6,
     "metadata": {},
     "output_type": "execute_result"
    }
   ],
   "source": [
    "%%sql \n",
    "SELECT DISTINCT C1.catalog_id, C.act, C.term\n",
    "FROM COURSE_MEETINGS_FACTS AS C\n",
    "LEFT JOIN COURSE_CAT_DIMENSION AS C1 USING (cat_id)\n",
    "WHERE C1.course_title LIKE '%Costume Design%'\n",
    "LIMIT 10;"
   ]
  },
  {
   "cell_type": "code",
   "execution_count": 7,
   "metadata": {},
   "outputs": [
    {
     "name": "stdout",
     "output_type": "stream",
     "text": [
      " * sqlite:///CourseDataWarehouse.db\n",
      "Done.\n"
     ]
    },
    {
     "data": {
      "text/html": [
       "<table>\n",
       "    <tr>\n",
       "        <th>crn</th>\n",
       "        <th>course_title</th>\n",
       "        <th>name</th>\n",
       "        <th>term</th>\n",
       "    </tr>\n",
       "    <tr>\n",
       "        <td>74015</td>\n",
       "        <td>Texts and Contexts I: Writing as Craft and Inquiry</td>\n",
       "        <td>Christopher Grant  Madden</td>\n",
       "        <td>Fall2018</td>\n",
       "    </tr>\n",
       "    <tr>\n",
       "        <td>74027</td>\n",
       "        <td>Texts and Contexts I: Writing as Craft and Inquiry</td>\n",
       "        <td>Christopher   DiBiase</td>\n",
       "        <td>Fall2018</td>\n",
       "    </tr>\n",
       "    <tr>\n",
       "        <td>74314</td>\n",
       "        <td>Texts and Contexts I: Writing as Craft and Inquiry</td>\n",
       "        <td>Christopher Grant  Madden</td>\n",
       "        <td>Fall2018</td>\n",
       "    </tr>\n",
       "    <tr>\n",
       "        <td>74317</td>\n",
       "        <td>Texts and Contexts I: Writing as Craft and Inquiry</td>\n",
       "        <td>Christopher   DiBiase</td>\n",
       "        <td>Fall2018</td>\n",
       "    </tr>\n",
       "    <tr>\n",
       "        <td>74413</td>\n",
       "        <td>Texts and Contexts I: Writing as Craft and Inquiry</td>\n",
       "        <td>Christopher   DiBiase</td>\n",
       "        <td>Fall2018</td>\n",
       "    </tr>\n",
       "    <tr>\n",
       "        <td>74287</td>\n",
       "        <td>Elementary Italian I</td>\n",
       "        <td>Federica   Christopher</td>\n",
       "        <td>Fall2018</td>\n",
       "    </tr>\n",
       "    <tr>\n",
       "        <td>74288</td>\n",
       "        <td>Elementary Italian I</td>\n",
       "        <td>Federica   Christopher</td>\n",
       "        <td>Fall2018</td>\n",
       "    </tr>\n",
       "    <tr>\n",
       "        <td>74289</td>\n",
       "        <td>Elementary Italian I</td>\n",
       "        <td>Federica   Christopher</td>\n",
       "        <td>Fall2018</td>\n",
       "    </tr>\n",
       "    <tr>\n",
       "        <td>75155</td>\n",
       "        <td>Concepts of Calculus</td>\n",
       "        <td>Christopher R.  Bernhardt</td>\n",
       "        <td>Fall2018</td>\n",
       "    </tr>\n",
       "    <tr>\n",
       "        <td>75858</td>\n",
       "        <td>Concepts of Calculus</td>\n",
       "        <td>Christopher R.  Bernhardt</td>\n",
       "        <td>Fall2018</td>\n",
       "    </tr>\n",
       "</table>"
      ],
      "text/plain": [
       "[('74015', 'Texts and Contexts I: Writing as Craft and Inquiry', 'Christopher Grant  Madden', 'Fall2018'),\n",
       " ('74027', 'Texts and Contexts I: Writing as Craft and Inquiry', 'Christopher   DiBiase', 'Fall2018'),\n",
       " ('74314', 'Texts and Contexts I: Writing as Craft and Inquiry', 'Christopher Grant  Madden', 'Fall2018'),\n",
       " ('74317', 'Texts and Contexts I: Writing as Craft and Inquiry', 'Christopher   DiBiase', 'Fall2018'),\n",
       " ('74413', 'Texts and Contexts I: Writing as Craft and Inquiry', 'Christopher   DiBiase', 'Fall2018'),\n",
       " ('74287', 'Elementary Italian I', 'Federica   Christopher', 'Fall2018'),\n",
       " ('74288', 'Elementary Italian I', 'Federica   Christopher', 'Fall2018'),\n",
       " ('74289', 'Elementary Italian I', 'Federica   Christopher', 'Fall2018'),\n",
       " ('75155', 'Concepts of Calculus', 'Christopher R.  Bernhardt', 'Fall2018'),\n",
       " ('75858', 'Concepts of Calculus', 'Christopher R.  Bernhardt', 'Fall2018')]"
      ]
     },
     "execution_count": 7,
     "metadata": {},
     "output_type": "execute_result"
    }
   ],
   "source": [
    "%%sql\n",
    "SELECT DISTINCT C2.crn,C1.course_title, P.name, C.term\n",
    "FROM COURSE_MEETINGS_FACTS AS C\n",
    "JOIN COURSE_CAT_DIMENSION AS C1 USING (cat_id)\n",
    "JOIN PROFESSOR_DIMENSION AS P USING (professor_id)\n",
    "JOIN COURSES_DIMENSION AS C2 USING (course_dimension_id)\n",
    "WHERE C.term LIKE '%Fall2018%' AND P.name LIKE '%Christopher%'\n",
    "LIMIT 10;"
   ]
  },
  {
   "cell_type": "code",
   "execution_count": null,
   "metadata": {},
   "outputs": [],
   "source": []
  }
 ],
 "metadata": {
  "kernelspec": {
   "display_name": "Python 3",
   "language": "python",
   "name": "python3"
  },
  "language_info": {
   "codemirror_mode": {
    "name": "ipython",
    "version": 3
   },
   "file_extension": ".py",
   "mimetype": "text/x-python",
   "name": "python",
   "nbconvert_exporter": "python",
   "pygments_lexer": "ipython3",
   "version": "3.6.7"
  }
 },
 "nbformat": 4,
 "nbformat_minor": 4
}
