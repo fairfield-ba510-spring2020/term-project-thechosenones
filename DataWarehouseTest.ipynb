{
 "cells": [
  {
   "cell_type": "code",
   "execution_count": 2,
   "metadata": {},
   "outputs": [],
   "source": [
    "%load_ext sql\n",
    "import pandas as pd\n",
    "import sqlite3"
   ]
  },
  {
   "cell_type": "code",
   "execution_count": 3,
   "metadata": {},
   "outputs": [
    {
     "data": {
      "text/plain": [
       "'Connected: @CourseDataWarehouse.db'"
      ]
     },
     "execution_count": 3,
     "metadata": {},
     "output_type": "execute_result"
    }
   ],
   "source": [
    "%sql sqlite:///CourseDataWarehouse.db"
   ]
  },
  {
   "cell_type": "code",
   "execution_count": 19,
   "metadata": {},
   "outputs": [
    {
     "name": "stdout",
     "output_type": "stream",
     "text": [
      " * sqlite:///CourseDataWarehouse.db\n",
      "Done.\n"
     ]
    },
    {
     "data": {
      "text/html": [
       "<table>\n",
       "    <tr>\n",
       "        <th>program_code</th>\n",
       "        <th>professor_id</th>\n",
       "        <th>name</th>\n",
       "        <th>term</th>\n",
       "    </tr>\n",
       "    <tr>\n",
       "        <td>AC</td>\n",
       "        <td>976</td>\n",
       "        <td>Victor E.  Hartman</td>\n",
       "        <td>Spring2018</td>\n",
       "    </tr>\n",
       "    <tr>\n",
       "        <td>AC</td>\n",
       "        <td>930</td>\n",
       "        <td>Joseph R.  D&#x27;Agostin</td>\n",
       "        <td>Spring2018</td>\n",
       "    </tr>\n",
       "    <tr>\n",
       "        <td>AC</td>\n",
       "        <td>9</td>\n",
       "        <td>Milo W.  Peck</td>\n",
       "        <td>Fall2017</td>\n",
       "    </tr>\n",
       "    <tr>\n",
       "        <td>AC</td>\n",
       "        <td>842</td>\n",
       "        <td>Charles   Gill</td>\n",
       "        <td>Fall2018</td>\n",
       "    </tr>\n",
       "    <tr>\n",
       "        <td>AC</td>\n",
       "        <td>841</td>\n",
       "        <td>Richard   Hunter</td>\n",
       "        <td>Fall2018</td>\n",
       "    </tr>\n",
       "    <tr>\n",
       "        <td>AC</td>\n",
       "        <td>840</td>\n",
       "        <td>Kristen   Tharrington</td>\n",
       "        <td>Fall2018</td>\n",
       "    </tr>\n",
       "    <tr>\n",
       "        <td>AC</td>\n",
       "        <td>8</td>\n",
       "        <td>Bruce   Bradford</td>\n",
       "        <td>Fall2017</td>\n",
       "    </tr>\n",
       "    <tr>\n",
       "        <td>AC</td>\n",
       "        <td>778</td>\n",
       "        <td>Jenna Marie  Allegretto</td>\n",
       "        <td>Fall2017</td>\n",
       "    </tr>\n",
       "    <tr>\n",
       "        <td>AC</td>\n",
       "        <td>777</td>\n",
       "        <td>David L.  Glinka</td>\n",
       "        <td>Fall2017</td>\n",
       "    </tr>\n",
       "    <tr>\n",
       "        <td>AC</td>\n",
       "        <td>776</td>\n",
       "        <td>Kara E.  Hunter</td>\n",
       "        <td>Fall2017</td>\n",
       "    </tr>\n",
       "</table>"
      ],
      "text/plain": [
       "[('AC', '976', 'Victor E.  Hartman', 'Spring2018'),\n",
       " ('AC', '930', \"Joseph R.  D'Agostin\", 'Spring2018'),\n",
       " ('AC', '9', 'Milo W.  Peck', 'Fall2017'),\n",
       " ('AC', '842', 'Charles   Gill', 'Fall2018'),\n",
       " ('AC', '841', 'Richard   Hunter', 'Fall2018'),\n",
       " ('AC', '840', 'Kristen   Tharrington', 'Fall2018'),\n",
       " ('AC', '8', 'Bruce   Bradford', 'Fall2017'),\n",
       " ('AC', '778', 'Jenna Marie  Allegretto', 'Fall2017'),\n",
       " ('AC', '777', 'David L.  Glinka', 'Fall2017'),\n",
       " ('AC', '776', 'Kara E.  Hunter', 'Fall2017')]"
      ]
     },
     "execution_count": 19,
     "metadata": {},
     "output_type": "execute_result"
    }
   ],
   "source": [
    "%%sql\n",
    "SELECT P1.program_code,C.professor_id, P.name, C.term\n",
    "FROM COURSE_MEETINGS_FACTS AS C\n",
    "LEFT JOIN PROFESSOR_DIMENSION AS P USING(professor_id)\n",
    "LEFT JOIN PROGRAMS_DIMENSION AS P1 USING(program_id)\n",
    "LEFT JOIN COURSE_CAT_DIMENSION AS C2 USING(cat_id)\n",
    "WHERE program_id < 2 AND cat_id<1000\n",
    "GROUP BY professor_id\n",
    "ORDER BY professor_id DESC\n",
    "LIMIT 10;"
   ]
  },
  {
   "cell_type": "code",
   "execution_count": 24,
   "metadata": {},
   "outputs": [
    {
     "name": "stdout",
     "output_type": "stream",
     "text": [
      " * sqlite:///CourseDataWarehouse.db\n",
      "Done.\n"
     ]
    },
    {
     "data": {
      "text/html": [
       "<table>\n",
       "    <tr>\n",
       "        <th>course_title</th>\n",
       "        <th>section</th>\n",
       "        <th>term</th>\n",
       "        <th>cap</th>\n",
       "    </tr>\n",
       "    <tr>\n",
       "        <td>Roots of American Culture</td>\n",
       "        <td>1</td>\n",
       "        <td>Fall2017</td>\n",
       "        <td>20</td>\n",
       "    </tr>\n",
       "    <tr>\n",
       "        <td>Roots of American Culture</td>\n",
       "        <td>1</td>\n",
       "        <td>Fall2017</td>\n",
       "        <td>20</td>\n",
       "    </tr>\n",
       "    <tr>\n",
       "        <td>Roots of American Culture</td>\n",
       "        <td>1</td>\n",
       "        <td>Fall2017</td>\n",
       "        <td>20</td>\n",
       "    </tr>\n",
       "    <tr>\n",
       "        <td>Roots of American Culture</td>\n",
       "        <td>1</td>\n",
       "        <td>Fall2017</td>\n",
       "        <td>20</td>\n",
       "    </tr>\n",
       "    <tr>\n",
       "        <td>Roots of American Culture</td>\n",
       "        <td>1</td>\n",
       "        <td>Fall2017</td>\n",
       "        <td>20</td>\n",
       "    </tr>\n",
       "    <tr>\n",
       "        <td>Roots of American Culture</td>\n",
       "        <td>1</td>\n",
       "        <td>Fall2017</td>\n",
       "        <td>20</td>\n",
       "    </tr>\n",
       "    <tr>\n",
       "        <td>Roots of American Culture</td>\n",
       "        <td>1</td>\n",
       "        <td>Fall2017</td>\n",
       "        <td>20</td>\n",
       "    </tr>\n",
       "    <tr>\n",
       "        <td>Roots of American Culture</td>\n",
       "        <td>1</td>\n",
       "        <td>Fall2017</td>\n",
       "        <td>20</td>\n",
       "    </tr>\n",
       "    <tr>\n",
       "        <td>Roots of American Culture</td>\n",
       "        <td>1</td>\n",
       "        <td>Fall2017</td>\n",
       "        <td>20</td>\n",
       "    </tr>\n",
       "    <tr>\n",
       "        <td>Roots of American Culture</td>\n",
       "        <td>1</td>\n",
       "        <td>Fall2017</td>\n",
       "        <td>20</td>\n",
       "    </tr>\n",
       "</table>"
      ],
      "text/plain": [
       "[('Roots of American Culture', 1, 'Fall2017', 20),\n",
       " ('Roots of American Culture', 1, 'Fall2017', 20),\n",
       " ('Roots of American Culture', 1, 'Fall2017', 20),\n",
       " ('Roots of American Culture', 1, 'Fall2017', 20),\n",
       " ('Roots of American Culture', 1, 'Fall2017', 20),\n",
       " ('Roots of American Culture', 1, 'Fall2017', 20),\n",
       " ('Roots of American Culture', 1, 'Fall2017', 20),\n",
       " ('Roots of American Culture', 1, 'Fall2017', 20),\n",
       " ('Roots of American Culture', 1, 'Fall2017', 20),\n",
       " ('Roots of American Culture', 1, 'Fall2017', 20)]"
      ]
     },
     "execution_count": 24,
     "metadata": {},
     "output_type": "execute_result"
    }
   ],
   "source": [
    "%%sql\n",
    "SELECT C.course_title, C1.section,term, cap\n",
    "FROM COURSE_MEETINGS_FACTS\n",
    "LEFT JOIN COURSE_CAT_DIMENSION AS C USING(cat_id)\n",
    "LEFT JOIN COURSES_DIMENSION AS C1 USING(course_dimension_id)\n",
    "WHERE cat_id <100\n",
    "LIMIT 10;"
   ]
  },
  {
   "cell_type": "code",
   "execution_count": null,
   "metadata": {},
   "outputs": [],
   "source": [
    "%%sql \n",
    "SELECT L.location, cap, t"
   ]
  }
 ],
 "metadata": {
  "kernelspec": {
   "display_name": "Python 3",
   "language": "python",
   "name": "python3"
  },
  "language_info": {
   "codemirror_mode": {
    "name": "ipython",
    "version": 3
   },
   "file_extension": ".py",
   "mimetype": "text/x-python",
   "name": "python",
   "nbconvert_exporter": "python",
   "pygments_lexer": "ipython3",
   "version": "3.6.7"
  }
 },
 "nbformat": 4,
 "nbformat_minor": 4
}
