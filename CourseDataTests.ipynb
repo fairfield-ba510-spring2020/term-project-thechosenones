{
 "cells": [
  {
   "cell_type": "code",
   "execution_count": 2,
   "metadata": {},
   "outputs": [],
   "source": [
    "%load_ext sql\n",
    "import pandas as pd\n",
    "import sqlite3"
   ]
  },
  {
   "cell_type": "code",
   "execution_count": 3,
   "metadata": {},
   "outputs": [
    {
     "data": {
      "text/plain": [
       "'Connected: @CourseData.db'"
      ]
     },
     "execution_count": 3,
     "metadata": {},
     "output_type": "execute_result"
    }
   ],
   "source": [
    "%sql sqlite:///CourseData.db"
   ]
  },
  {
   "cell_type": "markdown",
   "metadata": {},
   "source": [
    "The below queries are simply to test the data integrity of the 'Courses', 'Professors', 'Course_meetings', 'Programs' tables."
   ]
  },
  {
   "cell_type": "code",
   "execution_count": 4,
   "metadata": {},
   "outputs": [
    {
     "name": "stdout",
     "output_type": "stream",
     "text": [
      " * sqlite:///CourseData.db\n",
      "Done.\n"
     ]
    },
    {
     "data": {
      "text/html": [
       "<table>\n",
       "    <tr>\n",
       "        <th>course_id</th>\n",
       "        <th>cat_id</th>\n",
       "        <th>crn</th>\n",
       "        <th>catalog_id</th>\n",
       "        <th>term</th>\n",
       "        <th>section</th>\n",
       "        <th>professor_id</th>\n",
       "        <th>cap</th>\n",
       "        <th>act</th>\n",
       "        <th>rem</th>\n",
       "    </tr>\n",
       "    <tr>\n",
       "        <td>1</td>\n",
       "        <td>None</td>\n",
       "        <td>70384</td>\n",
       "        <td>AC 0011</td>\n",
       "        <td>Fall2014</td>\n",
       "        <td>C01</td>\n",
       "        <td>1</td>\n",
       "        <td>0</td>\n",
       "        <td>31</td>\n",
       "        <td>-31</td>\n",
       "    </tr>\n",
       "    <tr>\n",
       "        <td>2</td>\n",
       "        <td>None</td>\n",
       "        <td>70385</td>\n",
       "        <td>AC 0011</td>\n",
       "        <td>Fall2014</td>\n",
       "        <td>C02</td>\n",
       "        <td>1</td>\n",
       "        <td>0</td>\n",
       "        <td>31</td>\n",
       "        <td>-31</td>\n",
       "    </tr>\n",
       "</table>"
      ],
      "text/plain": [
       "[(1, None, '70384', 'AC 0011', 'Fall2014', 'C01', '1', 0, 31, -31),\n",
       " (2, None, '70385', 'AC 0011', 'Fall2014', 'C02', '1', 0, 31, -31)]"
      ]
     },
     "execution_count": 4,
     "metadata": {},
     "output_type": "execute_result"
    }
   ],
   "source": [
    "%%sql\n",
    "SELECT *\n",
    "FROM COURSES AS C1 LIMIT 2;"
   ]
  },
  {
   "cell_type": "code",
   "execution_count": 5,
   "metadata": {},
   "outputs": [
    {
     "name": "stdout",
     "output_type": "stream",
     "text": [
      " * sqlite:///CourseData.db\n",
      "Done.\n"
     ]
    },
    {
     "data": {
      "text/html": [
       "<table>\n",
       "    <tr>\n",
       "        <th>professor_id</th>\n",
       "        <th>name</th>\n",
       "    </tr>\n",
       "    <tr>\n",
       "        <td>1</td>\n",
       "        <td>Michael P.  Coyne</td>\n",
       "    </tr>\n",
       "    <tr>\n",
       "        <td>2</td>\n",
       "        <td>Rebecca I.  Bloch</td>\n",
       "    </tr>\n",
       "</table>"
      ],
      "text/plain": [
       "[(1, 'Michael P.  Coyne'), (2, 'Rebecca I.  Bloch')]"
      ]
     },
     "execution_count": 5,
     "metadata": {},
     "output_type": "execute_result"
    }
   ],
   "source": [
    "%%sql\n",
    "SELECT *\n",
    "FROM PROFESSORS AS C1 LIMIT 2;"
   ]
  },
  {
   "cell_type": "code",
   "execution_count": null,
   "metadata": {},
   "outputs": [],
   "source": [
    "%%sql\n",
    "SELECT * FROM COURSE_MEETINGS\n",
    "LIMIT 10;"
   ]
  },
  {
   "cell_type": "code",
   "execution_count": null,
   "metadata": {},
   "outputs": [],
   "source": [
    "%%sql\n",
    "SELECT * FROM PROGRAMS;"
   ]
  },
  {
   "cell_type": "code",
   "execution_count": 14,
   "metadata": {},
   "outputs": [
    {
     "name": "stdout",
     "output_type": "stream",
     "text": [
      " * sqlite:///CourseData.db\n",
      "Done.\n"
     ]
    },
    {
     "data": {
      "text/html": [
       "<table>\n",
       "    <tr>\n",
       "        <th>cat_id</th>\n",
       "        <th>catalog_id</th>\n",
       "        <th>catalog_year</th>\n",
       "        <th>program_id</th>\n",
       "        <th>course_title</th>\n",
       "        <th>credits</th>\n",
       "        <th>prereqs</th>\n",
       "        <th>coreqs</th>\n",
       "        <th>fees</th>\n",
       "        <th>attributes</th>\n",
       "        <th>description</th>\n",
       "    </tr>\n",
       "    <tr>\n",
       "        <td>1</td>\n",
       "        <td>AN 0301</td>\n",
       "        <td>2017_2018</td>\n",
       "        <td>4</td>\n",
       "        <td>Independent Study</td>\n",
       "        <td>1-3 Credits</td>\n",
       "        <td>None</td>\n",
       "        <td>None</td>\n",
       "        <td>None</td>\n",
       "        <td>None</td>\n",
       "        <td>Students undertake an individualized program of study in consultation with a director from the Asian studies faculty.</td>\n",
       "    </tr>\n",
       "    <tr>\n",
       "        <td>2</td>\n",
       "        <td>AN 0310</td>\n",
       "        <td>2017_2018</td>\n",
       "        <td>4</td>\n",
       "        <td>Asian Studies Seminar</td>\n",
       "        <td>3 Credits</td>\n",
       "        <td>None</td>\n",
       "        <td>None</td>\n",
       "        <td>None</td>\n",
       "        <td>None</td>\n",
       "        <td>This seminar examines selected topics concerning Asia. This course is taught in conjunction with another 100-300 level course from a rotation of course offerings. Consult the Asian Studies director to identify the conjoined course for a given semester. The seminar concentrates on topics within the parameters of the conjoined course syllabus but adds research emphasis. Students registered for this course must complete a research project, to include 300-level research, in addition to the regular research requirements of the conjoined course, and a 25-50 page term paper in substitution of some portion of the conjoined course requirements, as determined by the instructor. Open to juniors and seniors only.</td>\n",
       "    </tr>\n",
       "</table>"
      ],
      "text/plain": [
       "[(1, 'AN 0301', '2017_2018', 4, 'Independent Study', '1-3 Credits', None, None, None, None, 'Students undertake an individualized program of study in consultation with a director from the Asian studies faculty.'),\n",
       " (2, 'AN 0310', '2017_2018', 4, 'Asian Studies Seminar', '3 Credits', None, None, None, None, 'This seminar examines selected topics concerning Asia. This course is taught in conjunction with another 100-300 level course from a rotation of cour ... (412 characters truncated) ... e term paper in substitution of some portion of the conjoined course requirements, as determined by the instructor. Open to juniors and seniors only.')]"
      ]
     },
     "execution_count": 14,
     "metadata": {},
     "output_type": "execute_result"
    }
   ],
   "source": [
    "%%sql\n",
    "SELECT *\n",
    "FROM COURSE_CATALOG\n",
    "LIMIT 2;"
   ]
  },
  {
   "cell_type": "markdown",
   "metadata": {},
   "source": [
    "The below code is intended to aggregate the total cap, act, and rem grouped by professor"
   ]
  },
  {
   "cell_type": "code",
   "execution_count": 9,
   "metadata": {},
   "outputs": [
    {
     "name": "stdout",
     "output_type": "stream",
     "text": [
      " * sqlite:///CourseData.db\n",
      "Done.\n"
     ]
    },
    {
     "data": {
      "text/html": [
       "<table>\n",
       "    <tr>\n",
       "        <th>professor_id</th>\n",
       "        <th>SUM(cap)</th>\n",
       "        <th>SUM(act)</th>\n",
       "        <th>SUM(rem)</th>\n",
       "    </tr>\n",
       "    <tr>\n",
       "        <td>None</td>\n",
       "        <td>1291</td>\n",
       "        <td>944</td>\n",
       "        <td>1353</td>\n",
       "    </tr>\n",
       "    <tr>\n",
       "        <td>1</td>\n",
       "        <td>561</td>\n",
       "        <td>731</td>\n",
       "        <td>-170</td>\n",
       "    </tr>\n",
       "    <tr>\n",
       "        <td>10</td>\n",
       "        <td>413</td>\n",
       "        <td>351</td>\n",
       "        <td>62</td>\n",
       "    </tr>\n",
       "    <tr>\n",
       "        <td>100</td>\n",
       "        <td>104</td>\n",
       "        <td>108</td>\n",
       "        <td>-4</td>\n",
       "    </tr>\n",
       "    <tr>\n",
       "        <td>1000</td>\n",
       "        <td>196</td>\n",
       "        <td>185</td>\n",
       "        <td>11</td>\n",
       "    </tr>\n",
       "    <tr>\n",
       "        <td>1001</td>\n",
       "        <td>17</td>\n",
       "        <td>12</td>\n",
       "        <td>5</td>\n",
       "    </tr>\n",
       "    <tr>\n",
       "        <td>1002</td>\n",
       "        <td>20</td>\n",
       "        <td>16</td>\n",
       "        <td>4</td>\n",
       "    </tr>\n",
       "    <tr>\n",
       "        <td>1003</td>\n",
       "        <td>25</td>\n",
       "        <td>24</td>\n",
       "        <td>1</td>\n",
       "    </tr>\n",
       "    <tr>\n",
       "        <td>1004</td>\n",
       "        <td>16</td>\n",
       "        <td>16</td>\n",
       "        <td>0</td>\n",
       "    </tr>\n",
       "    <tr>\n",
       "        <td>1005</td>\n",
       "        <td>25</td>\n",
       "        <td>25</td>\n",
       "        <td>0</td>\n",
       "    </tr>\n",
       "</table>"
      ],
      "text/plain": [
       "[(None, 1291, 944, 1353),\n",
       " ('1', 561, 731, -170),\n",
       " ('10', 413, 351, 62),\n",
       " ('100', 104, 108, -4),\n",
       " ('1000', 196, 185, 11),\n",
       " ('1001', 17, 12, 5),\n",
       " ('1002', 20, 16, 4),\n",
       " ('1003', 25, 24, 1),\n",
       " ('1004', 16, 16, 0),\n",
       " ('1005', 25, 25, 0)]"
      ]
     },
     "execution_count": 9,
     "metadata": {},
     "output_type": "execute_result"
    }
   ],
   "source": [
    "%%sql\n",
    "SELECT DISTINCT professor_id, SUM(cap), SUM(act), SUM(rem)\n",
    "FROM COURSES\n",
    "GROUP BY (professor_id) LIMIT 10;"
   ]
  },
  {
   "cell_type": "markdown",
   "metadata": {},
   "source": [
    "### Historical Overcap professors "
   ]
  },
  {
   "cell_type": "code",
   "execution_count": 10,
   "metadata": {},
   "outputs": [
    {
     "name": "stdout",
     "output_type": "stream",
     "text": [
      " * sqlite:///CourseData.db\n",
      "Done.\n"
     ]
    },
    {
     "data": {
      "text/html": [
       "<table>\n",
       "    <tr>\n",
       "        <th>professor_id</th>\n",
       "        <th>cap</th>\n",
       "        <th>act</th>\n",
       "        <th>rem</th>\n",
       "    </tr>\n",
       "    <tr>\n",
       "        <td>None</td>\n",
       "        <td>10</td>\n",
       "        <td>11</td>\n",
       "        <td>-1</td>\n",
       "    </tr>\n",
       "    <tr>\n",
       "        <td>1</td>\n",
       "        <td>28</td>\n",
       "        <td>31</td>\n",
       "        <td>-3</td>\n",
       "    </tr>\n",
       "</table>"
      ],
      "text/plain": [
       "[(None, 10, 11, -1), ('1', 28, 31, -3)]"
      ]
     },
     "execution_count": 10,
     "metadata": {},
     "output_type": "execute_result"
    }
   ],
   "source": [
    "%%sql\n",
    "SELECT DISTINCT professor_id, cap, act, rem\n",
    "FROM COURSES\n",
    "WHERE rem < 0 AND cap > 0\n",
    "GROUP BY professor_id LIMIT 2;"
   ]
  },
  {
   "cell_type": "code",
   "execution_count": 7,
   "metadata": {},
   "outputs": [
    {
     "name": "stdout",
     "output_type": "stream",
     "text": [
      " * sqlite:///CourseData.db\n",
      "Done.\n"
     ]
    },
    {
     "data": {
      "text/html": [
       "<table>\n",
       "    <tr>\n",
       "        <th>coursemeeting_id</th>\n",
       "        <th>course_id</th>\n",
       "        <th>location</th>\n",
       "        <th>day</th>\n",
       "        <th>start</th>\n",
       "        <th>end</th>\n",
       "    </tr>\n",
       "    <tr>\n",
       "        <td>1</td>\n",
       "        <td>1</td>\n",
       "        <td>DSB 105</td>\n",
       "        <td>T</td>\n",
       "        <td>2014-09-02T08:00:00</td>\n",
       "        <td>2014-09-02T09:15:00</td>\n",
       "    </tr>\n",
       "    <tr>\n",
       "        <td>2</td>\n",
       "        <td>1</td>\n",
       "        <td>DSB 105</td>\n",
       "        <td>F</td>\n",
       "        <td>2014-09-05T08:00:00</td>\n",
       "        <td>2014-09-05T09:15:00</td>\n",
       "    </tr>\n",
       "    <tr>\n",
       "        <td>3</td>\n",
       "        <td>1</td>\n",
       "        <td>DSB 105</td>\n",
       "        <td>T</td>\n",
       "        <td>2014-09-09T08:00:00</td>\n",
       "        <td>2014-09-09T09:15:00</td>\n",
       "    </tr>\n",
       "    <tr>\n",
       "        <td>4</td>\n",
       "        <td>1</td>\n",
       "        <td>DSB 105</td>\n",
       "        <td>F</td>\n",
       "        <td>2014-09-12T08:00:00</td>\n",
       "        <td>2014-09-12T09:15:00</td>\n",
       "    </tr>\n",
       "    <tr>\n",
       "        <td>5</td>\n",
       "        <td>1</td>\n",
       "        <td>DSB 105</td>\n",
       "        <td>T</td>\n",
       "        <td>2014-09-16T08:00:00</td>\n",
       "        <td>2014-09-16T09:15:00</td>\n",
       "    </tr>\n",
       "    <tr>\n",
       "        <td>6</td>\n",
       "        <td>1</td>\n",
       "        <td>DSB 105</td>\n",
       "        <td>F</td>\n",
       "        <td>2014-09-19T08:00:00</td>\n",
       "        <td>2014-09-19T09:15:00</td>\n",
       "    </tr>\n",
       "    <tr>\n",
       "        <td>7</td>\n",
       "        <td>1</td>\n",
       "        <td>DSB 105</td>\n",
       "        <td>T</td>\n",
       "        <td>2014-09-23T08:00:00</td>\n",
       "        <td>2014-09-23T09:15:00</td>\n",
       "    </tr>\n",
       "    <tr>\n",
       "        <td>8</td>\n",
       "        <td>1</td>\n",
       "        <td>DSB 105</td>\n",
       "        <td>F</td>\n",
       "        <td>2014-09-26T08:00:00</td>\n",
       "        <td>2014-09-26T09:15:00</td>\n",
       "    </tr>\n",
       "    <tr>\n",
       "        <td>9</td>\n",
       "        <td>1</td>\n",
       "        <td>DSB 105</td>\n",
       "        <td>T</td>\n",
       "        <td>2014-09-30T08:00:00</td>\n",
       "        <td>2014-09-30T09:15:00</td>\n",
       "    </tr>\n",
       "    <tr>\n",
       "        <td>10</td>\n",
       "        <td>1</td>\n",
       "        <td>DSB 105</td>\n",
       "        <td>F</td>\n",
       "        <td>2014-10-03T08:00:00</td>\n",
       "        <td>2014-10-03T09:15:00</td>\n",
       "    </tr>\n",
       "</table>"
      ],
      "text/plain": [
       "[(1, 1, 'DSB 105', 'T', '2014-09-02T08:00:00', '2014-09-02T09:15:00'),\n",
       " (2, 1, 'DSB 105', 'F', '2014-09-05T08:00:00', '2014-09-05T09:15:00'),\n",
       " (3, 1, 'DSB 105', 'T', '2014-09-09T08:00:00', '2014-09-09T09:15:00'),\n",
       " (4, 1, 'DSB 105', 'F', '2014-09-12T08:00:00', '2014-09-12T09:15:00'),\n",
       " (5, 1, 'DSB 105', 'T', '2014-09-16T08:00:00', '2014-09-16T09:15:00'),\n",
       " (6, 1, 'DSB 105', 'F', '2014-09-19T08:00:00', '2014-09-19T09:15:00'),\n",
       " (7, 1, 'DSB 105', 'T', '2014-09-23T08:00:00', '2014-09-23T09:15:00'),\n",
       " (8, 1, 'DSB 105', 'F', '2014-09-26T08:00:00', '2014-09-26T09:15:00'),\n",
       " (9, 1, 'DSB 105', 'T', '2014-09-30T08:00:00', '2014-09-30T09:15:00'),\n",
       " (10, 1, 'DSB 105', 'F', '2014-10-03T08:00:00', '2014-10-03T09:15:00')]"
      ]
     },
     "execution_count": 7,
     "metadata": {},
     "output_type": "execute_result"
    }
   ],
   "source": []
  },
  {
   "cell_type": "markdown",
   "metadata": {},
   "source": [
    "### over/under capacaty courses "
   ]
  },
  {
   "cell_type": "code",
   "execution_count": 11,
   "metadata": {},
   "outputs": [
    {
     "name": "stdout",
     "output_type": "stream",
     "text": [
      " * sqlite:///CourseData.db\n",
      "Done.\n"
     ]
    },
    {
     "data": {
      "text/html": [
       "<table>\n",
       "    <tr>\n",
       "        <th>course_title</th>\n",
       "        <th>rem</th>\n",
       "        <th>prereqs</th>\n",
       "        <th>catalog_year</th>\n",
       "    </tr>\n",
       "    <tr>\n",
       "        <td>Introduction to Financial Accounting</td>\n",
       "        <td>-1</td>\n",
       "        <td>None</td>\n",
       "        <td>2017_2018</td>\n",
       "    </tr>\n",
       "    <tr>\n",
       "        <td>Introduction to Financial Accounting</td>\n",
       "        <td>-1</td>\n",
       "        <td>None</td>\n",
       "        <td>2018_2019</td>\n",
       "    </tr>\n",
       "    <tr>\n",
       "        <td>Introduction to Financial Accounting</td>\n",
       "        <td>-2</td>\n",
       "        <td>None</td>\n",
       "        <td>2017_2018</td>\n",
       "    </tr>\n",
       "    <tr>\n",
       "        <td>Introduction to Financial Accounting</td>\n",
       "        <td>-2</td>\n",
       "        <td>None</td>\n",
       "        <td>2018_2019</td>\n",
       "    </tr>\n",
       "    <tr>\n",
       "        <td>Introduction to Financial Accounting</td>\n",
       "        <td>-3</td>\n",
       "        <td>None</td>\n",
       "        <td>2017_2018</td>\n",
       "    </tr>\n",
       "    <tr>\n",
       "        <td>Introduction to Financial Accounting</td>\n",
       "        <td>-3</td>\n",
       "        <td>None</td>\n",
       "        <td>2018_2019</td>\n",
       "    </tr>\n",
       "    <tr>\n",
       "        <td>Introduction to Financial Accounting</td>\n",
       "        <td>-4</td>\n",
       "        <td>None</td>\n",
       "        <td>2017_2018</td>\n",
       "    </tr>\n",
       "    <tr>\n",
       "        <td>Introduction to Financial Accounting</td>\n",
       "        <td>-4</td>\n",
       "        <td>None</td>\n",
       "        <td>2018_2019</td>\n",
       "    </tr>\n",
       "    <tr>\n",
       "        <td>Intermediate Accounting II</td>\n",
       "        <td>-2</td>\n",
       "        <td>AC 0203.</td>\n",
       "        <td>2017_2018</td>\n",
       "    </tr>\n",
       "    <tr>\n",
       "        <td>Intermediate Accounting II</td>\n",
       "        <td>-2</td>\n",
       "        <td>AC 0203.</td>\n",
       "        <td>2018_2019</td>\n",
       "    </tr>\n",
       "</table>"
      ],
      "text/plain": [
       "[('Introduction to Financial Accounting', -1, None, '2017_2018'),\n",
       " ('Introduction to Financial Accounting', -1, None, '2018_2019'),\n",
       " ('Introduction to Financial Accounting', -2, None, '2017_2018'),\n",
       " ('Introduction to Financial Accounting', -2, None, '2018_2019'),\n",
       " ('Introduction to Financial Accounting', -3, None, '2017_2018'),\n",
       " ('Introduction to Financial Accounting', -3, None, '2018_2019'),\n",
       " ('Introduction to Financial Accounting', -4, None, '2017_2018'),\n",
       " ('Introduction to Financial Accounting', -4, None, '2018_2019'),\n",
       " ('Intermediate Accounting II', -2, 'AC 0203.', '2017_2018'),\n",
       " ('Intermediate Accounting II', -2, 'AC 0203.', '2018_2019')]"
      ]
     },
     "execution_count": 11,
     "metadata": {},
     "output_type": "execute_result"
    }
   ],
   "source": [
    "%%sql\n",
    "SELECT DISTINCT course_title, rem, prereqs, catalog_year\n",
    "FROM COURSE_CATALOG CC\n",
    "JOIN COURSES C1\n",
    "USING (catalog_id)\n",
    "WHERE rem < 0 AND cap >0 LIMIT 10;"
   ]
  },
  {
   "cell_type": "markdown",
   "metadata": {},
   "source": [
    "### Number of students over years\n",
    "3 joins for that courses, course meetings, and course catalogs"
   ]
  },
  {
   "cell_type": "code",
   "execution_count": 13,
   "metadata": {},
   "outputs": [
    {
     "name": "stdout",
     "output_type": "stream",
     "text": [
      " * sqlite:///CourseData.db\n",
      "Done.\n"
     ]
    },
    {
     "data": {
      "text/html": [
       "<table>\n",
       "    <tr>\n",
       "        <th>course_title</th>\n",
       "        <th>rem</th>\n",
       "        <th>prereqs</th>\n",
       "        <th>catalog_year</th>\n",
       "    </tr>\n",
       "    <tr>\n",
       "        <td>Accounting Information Systems</td>\n",
       "        <td>-4</td>\n",
       "        <td>AC 0012.</td>\n",
       "        <td>2017_2018</td>\n",
       "    </tr>\n",
       "    <tr>\n",
       "        <td>Accounting Information Systems</td>\n",
       "        <td>-4</td>\n",
       "        <td>AC 0012.</td>\n",
       "        <td>2018_2019</td>\n",
       "    </tr>\n",
       "    <tr>\n",
       "        <td>Advanced Accounting</td>\n",
       "        <td>-2</td>\n",
       "        <td>AC 0204; junior or senior standing.</td>\n",
       "        <td>2017_2018</td>\n",
       "    </tr>\n",
       "    <tr>\n",
       "        <td>Advanced Accounting</td>\n",
       "        <td>-2</td>\n",
       "        <td>AC 0204; junior or senior standing.</td>\n",
       "        <td>2018_2019</td>\n",
       "    </tr>\n",
       "    <tr>\n",
       "        <td>Auditing</td>\n",
       "        <td>-1</td>\n",
       "        <td>AC 0204; junior or senior standing.</td>\n",
       "        <td>2017_2018</td>\n",
       "    </tr>\n",
       "    <tr>\n",
       "        <td>Auditing</td>\n",
       "        <td>-1</td>\n",
       "        <td>AC 0204; junior or senior standing.</td>\n",
       "        <td>2018_2019</td>\n",
       "    </tr>\n",
       "    <tr>\n",
       "        <td>Federal Income Taxation I</td>\n",
       "        <td>-2</td>\n",
       "        <td>AC 0204; junior or senior standing.</td>\n",
       "        <td>2017_2018</td>\n",
       "    </tr>\n",
       "    <tr>\n",
       "        <td>Federal Income Taxation I</td>\n",
       "        <td>-2</td>\n",
       "        <td>AC 0204; junior or senior standing.</td>\n",
       "        <td>2018_2019</td>\n",
       "    </tr>\n",
       "    <tr>\n",
       "        <td>Introduction to Four-Field Anthropology</td>\n",
       "        <td>-1</td>\n",
       "        <td>None</td>\n",
       "        <td>2017_2018</td>\n",
       "    </tr>\n",
       "    <tr>\n",
       "        <td>Introduction to Four-Field Anthropology</td>\n",
       "        <td>-1</td>\n",
       "        <td>None</td>\n",
       "        <td>2018_2019</td>\n",
       "    </tr>\n",
       "</table>"
      ],
      "text/plain": [
       "[('Accounting Information Systems', -4, 'AC 0012.', '2017_2018'),\n",
       " ('Accounting Information Systems', -4, 'AC 0012.', '2018_2019'),\n",
       " ('Advanced Accounting', -2, 'AC 0204; junior or senior standing.', '2017_2018'),\n",
       " ('Advanced Accounting', -2, 'AC 0204; junior or senior standing.', '2018_2019'),\n",
       " ('Auditing', -1, 'AC 0204; junior or senior standing.', '2017_2018'),\n",
       " ('Auditing', -1, 'AC 0204; junior or senior standing.', '2018_2019'),\n",
       " ('Federal Income Taxation I', -2, 'AC 0204; junior or senior standing.', '2017_2018'),\n",
       " ('Federal Income Taxation I', -2, 'AC 0204; junior or senior standing.', '2018_2019'),\n",
       " ('Introduction to Four-Field Anthropology', -1, None, '2017_2018'),\n",
       " ('Introduction to Four-Field Anthropology', -1, None, '2018_2019')]"
      ]
     },
     "execution_count": 13,
     "metadata": {},
     "output_type": "execute_result"
    }
   ],
   "source": [
    "%%sql\n",
    "SELECT DISTINCT course_title, rem, prereqs, catalog_year\n",
    "FROM COURSE_CATALOG\n",
    "JOIN COURSES C1\n",
    "USING (catalog_id)\n",
    "WHERE rem < 0 AND cap >0 LIMIT 10;"
   ]
  },
  {
   "cell_type": "code",
   "execution_count": null,
   "metadata": {},
   "outputs": [],
   "source": []
  },
  {
   "cell_type": "markdown",
   "metadata": {},
   "source": [
    "### Are courses that have prereqs more overcapacity?"
   ]
  },
  {
   "cell_type": "code",
   "execution_count": 12,
   "metadata": {},
   "outputs": [
    {
     "name": "stdout",
     "output_type": "stream",
     "text": [
      " * sqlite:///CourseData.db\n",
      "Done.\n"
     ]
    },
    {
     "data": {
      "text/html": [
       "<table>\n",
       "    <tr>\n",
       "        <th>course_title</th>\n",
       "        <th>cap</th>\n",
       "        <th>act</th>\n",
       "        <th>rem</th>\n",
       "        <th>prereqs</th>\n",
       "    </tr>\n",
       "    <tr>\n",
       "        <td>Legal Environment of Business</td>\n",
       "        <td>0</td>\n",
       "        <td>21</td>\n",
       "        <td>-21</td>\n",
       "        <td>Junior standing.</td>\n",
       "    </tr>\n",
       "    <tr>\n",
       "        <td>Legal Environment of Business</td>\n",
       "        <td>0</td>\n",
       "        <td>23</td>\n",
       "        <td>-23</td>\n",
       "        <td>Junior standing.</td>\n",
       "    </tr>\n",
       "    <tr>\n",
       "        <td>Legal Environment of Business</td>\n",
       "        <td>0</td>\n",
       "        <td>24</td>\n",
       "        <td>-24</td>\n",
       "        <td>Junior standing.</td>\n",
       "    </tr>\n",
       "    <tr>\n",
       "        <td>Legal Environment of Business</td>\n",
       "        <td>0</td>\n",
       "        <td>25</td>\n",
       "        <td>-25</td>\n",
       "        <td>Junior standing.</td>\n",
       "    </tr>\n",
       "    <tr>\n",
       "        <td>Legal Environment of Business</td>\n",
       "        <td>0</td>\n",
       "        <td>26</td>\n",
       "        <td>-26</td>\n",
       "        <td>Junior standing.</td>\n",
       "    </tr>\n",
       "    <tr>\n",
       "        <td>Legal Environment of Business</td>\n",
       "        <td>0</td>\n",
       "        <td>27</td>\n",
       "        <td>-27</td>\n",
       "        <td>Junior standing.</td>\n",
       "    </tr>\n",
       "    <tr>\n",
       "        <td>Legal Environment of Business</td>\n",
       "        <td>0</td>\n",
       "        <td>28</td>\n",
       "        <td>-28</td>\n",
       "        <td>Junior standing.</td>\n",
       "    </tr>\n",
       "    <tr>\n",
       "        <td>Legal Environment of Business</td>\n",
       "        <td>0</td>\n",
       "        <td>30</td>\n",
       "        <td>-30</td>\n",
       "        <td>Junior standing.</td>\n",
       "    </tr>\n",
       "    <tr>\n",
       "        <td>Legal Environment of Business</td>\n",
       "        <td>15</td>\n",
       "        <td>16</td>\n",
       "        <td>-1</td>\n",
       "        <td>Junior standing.</td>\n",
       "    </tr>\n",
       "    <tr>\n",
       "        <td>Legal Environment of Business</td>\n",
       "        <td>20</td>\n",
       "        <td>21</td>\n",
       "        <td>-1</td>\n",
       "        <td>Junior standing.</td>\n",
       "    </tr>\n",
       "</table>"
      ],
      "text/plain": [
       "[('Legal Environment of Business', 0, 21, -21, 'Junior standing.'),\n",
       " ('Legal Environment of Business', 0, 23, -23, 'Junior standing.'),\n",
       " ('Legal Environment of Business', 0, 24, -24, 'Junior standing.'),\n",
       " ('Legal Environment of Business', 0, 25, -25, 'Junior standing.'),\n",
       " ('Legal Environment of Business', 0, 26, -26, 'Junior standing.'),\n",
       " ('Legal Environment of Business', 0, 27, -27, 'Junior standing.'),\n",
       " ('Legal Environment of Business', 0, 28, -28, 'Junior standing.'),\n",
       " ('Legal Environment of Business', 0, 30, -30, 'Junior standing.'),\n",
       " ('Legal Environment of Business', 15, 16, -1, 'Junior standing.'),\n",
       " ('Legal Environment of Business', 20, 21, -1, 'Junior standing.')]"
      ]
     },
     "execution_count": 12,
     "metadata": {},
     "output_type": "execute_result"
    }
   ],
   "source": [
    "%%sql\n",
    "SELECT DISTINCT course_title, cap, act, rem, prereqs\n",
    "FROM COURSE_CATALOG CC\n",
    "JOIN COURSES C1\n",
    "USING (catalog_id)\n",
    "WHERE rem < 0  AND prereqs != 'None' LIMIT 10;"
   ]
  },
  {
   "cell_type": "code",
   "execution_count": null,
   "metadata": {},
   "outputs": [],
   "source": []
  }
 ],
 "metadata": {
  "kernelspec": {
   "display_name": "Python 3",
   "language": "python",
   "name": "python3"
  },
  "language_info": {
   "codemirror_mode": {
    "name": "ipython",
    "version": 3
   },
   "file_extension": ".py",
   "mimetype": "text/x-python",
   "name": "python",
   "nbconvert_exporter": "python",
   "pygments_lexer": "ipython3",
   "version": "3.6.7"
  }
 },
 "nbformat": 4,
 "nbformat_minor": 4
}
